{
 "cells": [
  {
   "cell_type": "code",
   "execution_count": 1,
   "metadata": {},
   "outputs": [],
   "source": [
    "import pandas as pd\n",
    "import re\n"
   ]
  },
  {
   "cell_type": "code",
   "execution_count": 2,
   "metadata": {},
   "outputs": [],
   "source": [
    "def extract_table(c_name):\n",
    "    # Initialize an empty list to collect rows of the table\n",
    "    file_name = '../results/gam_model_1to1/{}_model_summary.txt' .format(c_name)\n",
    "    table_data = []\n",
    "    columns = [\"Parameter\", \"Estimate\", \"Std. Error\", \"t value\", \"Pr(>|t|)\"]\n",
    "    # Read the file and extract lines with table data\n",
    "    with open(file_name, 'r') as file:\n",
    "        capture = False\n",
    "        for line in file:\n",
    "            # Start capturing once we reach the Parametric coefficients section\n",
    "            if \"Parametric coefficients:\" in line:\n",
    "                capture = True\n",
    "                continue\n",
    "            # Stop capturing at the line with 'Approximate significance of smooth terms:'\n",
    "            elif \"---\" in line:\n",
    "                break\n",
    "            elif capture:\n",
    "                # Append only non-empty lines\n",
    "                if line.strip():\n",
    "                    table_data.append(line.strip())\n",
    "\n",
    "    # Convert the collected lines into a DataFrame\n",
    "    # Assuming data is space-separated and column headers are already known\n",
    "    df = pd.DataFrame([row.split(maxsplit=4) for row in table_data], columns=columns)\n",
    "    # Ensure the 'Pr(>|t|)' column is read as a string\n",
    "    df['Pr(>|t|)'] = df['Pr(>|t|)'].astype(str)\n",
    "    # Convert other columns to appropriate numeric types if necessary\n",
    "    for col in [\"Estimate\", \"Std. Error\", \"t value\"]:\n",
    "        df[col] = pd.to_numeric(df[col], errors='coerce')\n",
    "    df = df.drop(0)\n",
    "    \n",
    "    df.to_csv('../results/temp/gam_model_1to1/{}_model_summary.csv'.format(c_name), index=False)"
   ]
  },
  {
   "cell_type": "code",
   "execution_count": 5,
   "metadata": {},
   "outputs": [],
   "source": [
    "c_list = ['Grocery_and_Pharmacy', 'General_Retail', \n",
    "                        'Art_and_Entertainment', 'Restaurant_and_Bar',\n",
    "                        'Education', 'Healthcare']\n",
    "for c_i in c_list:\n",
    "    extract_table(c_i)"
   ]
  },
  {
   "cell_type": "code",
   "execution_count": null,
   "metadata": {},
   "outputs": [],
   "source": []
  }
 ],
 "metadata": {
  "kernelspec": {
   "display_name": "geo",
   "language": "python",
   "name": "python3"
  },
  "language_info": {
   "codemirror_mode": {
    "name": "ipython",
    "version": 3
   },
   "file_extension": ".py",
   "mimetype": "text/x-python",
   "name": "python",
   "nbconvert_exporter": "python",
   "pygments_lexer": "ipython3",
   "version": "3.11.8"
  }
 },
 "nbformat": 4,
 "nbformat_minor": 2
}
