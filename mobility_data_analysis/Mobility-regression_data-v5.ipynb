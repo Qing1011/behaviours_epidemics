{
 "cells": [
  {
   "cell_type": "code",
   "execution_count": 1,
   "id": "a00fde71",
   "metadata": {},
   "outputs": [
    {
     "name": "stdout",
     "output_type": "stream",
     "text": [
      "my package for mobility extraction has been imported!\n"
     ]
    }
   ],
   "source": [
    "import pandas as pd\n",
    "import numpy as np\n",
    "import os\n",
    "import csv\n",
    "import ast\n",
    "from collections import Counter\n",
    "import geopandas as gpd\n",
    "import h5py\n",
    "from datetime import datetime, timedelta\n",
    "#### personal packages####\n",
    "import sys\n",
    "sys.path.append(\"../Codes/\")\n",
    "# import mobility as mbl\n",
    "from mobility import mobility_matrix_extract_modzcta as mm\n",
    "from mobility import parameters as mp\n",
    "from mobility import analysis as ma\n",
    "##### for plotting ###\n",
    "import matplotlib.pyplot as plt\n",
    "from matplotlib.colors import TwoSlopeNorm, LogNorm\n",
    "import matplotlib.gridspec as gridspec\n",
    "import matplotlib.dates as mdates"
   ]
  },
  {
   "cell_type": "code",
   "execution_count": 3,
   "id": "e449fb2b",
   "metadata": {},
   "outputs": [],
   "source": [
    "cluster_name = {0: 'Glocery&Pharmacies', 1: 'Retails', 2: 'Arts&Entertainment', 3: 'Restaurants&Bars',\n",
    "                4: 'Educations', 5: 'Healthcares', 6: 'others'}"
   ]
  },
  {
   "cell_type": "code",
   "execution_count": 3,
   "id": "06b4609c",
   "metadata": {},
   "outputs": [],
   "source": [
    "gdf_merged = pd.read_csv('move_7c_wk_raw.csv')\n",
    "gdf_merged['MODZCTA'] = gdf_merged['MODZCTA'].astype(str)"
   ]
  },
  {
   "cell_type": "code",
   "execution_count": 9,
   "id": "7829cf27",
   "metadata": {},
   "outputs": [
    {
     "data": {
      "text/plain": [
       "(177, 407)"
      ]
     },
     "execution_count": 9,
     "metadata": {},
     "output_type": "execute_result"
    }
   ],
   "source": [
    "gdf_merged.shape"
   ]
  },
  {
   "cell_type": "code",
   "execution_count": 9,
   "id": "3abf82d9",
   "metadata": {},
   "outputs": [
    {
     "name": "stdout",
     "output_type": "stream",
     "text": [
      "Retails\n",
      "Arts&Entertainment\n",
      "Restaurants&Bars\n",
      "Educations\n",
      "Healthcares\n",
      "others\n"
     ]
    }
   ],
   "source": [
    "cluster_cols = [cluster_name[0]+'_{}'.format(i) for i in range(56)]\n",
    "df_vist_cluster_i = gdf_merged[['MODZCTA', 'MODIFIED_ZCTA','borough', 'mod_idx','POP_DENOMINATOR']+cluster_cols].copy()\n",
    "\n",
    "final_df = pd.melt(df_vist_cluster_i, id_vars=['MODZCTA', 'MODIFIED_ZCTA', 'borough', 'mod_idx','POP_DENOMINATOR'], value_vars = cluster_cols[3:3+51], var_name='week', value_name=cluster_name[0]+'_visits_weekly')\n",
    "# Correctly adjust the code to perform the intended replacement\n",
    "final_df['week'] = final_df['week'].apply(lambda x: (int(x.split('_')[1]) - 3))\n",
    "\n",
    "for c_idx in range(1,7):\n",
    "    print(cluster_name[c_idx])\n",
    "    cluster_cols = [cluster_name[c_idx]+'_{}'.format(i) for i in range(56)]\n",
    "    df_vist_cluster_i = gdf_merged[['MODZCTA', 'MODIFIED_ZCTA','borough', 'mod_idx','POP_DENOMINATOR']+cluster_cols].copy()\n",
    "    temp_df = pd.melt(df_vist_cluster_i, id_vars=['MODZCTA', 'MODIFIED_ZCTA', 'borough', 'mod_idx','POP_DENOMINATOR'], value_vars = cluster_cols[3:3+51], \n",
    "                    var_name='week', value_name=cluster_name[c_idx]+'_visits_weekly')\n",
    "    temp_df['week'] = temp_df['week'].apply(lambda x: (int(x.split('_')[1]) - 3))\n",
    "    final_df = pd.merge(final_df, temp_df, on=['MODZCTA', 'MODIFIED_ZCTA','borough', 'mod_idx','week','POP_DENOMINATOR'])"
   ]
  },
  {
   "cell_type": "code",
   "execution_count": 10,
   "id": "1fd79224",
   "metadata": {},
   "outputs": [
    {
     "data": {
      "text/plain": [
       "Index(['MODZCTA', 'MODIFIED_ZCTA', 'borough', 'mod_idx', 'POP_DENOMINATOR',\n",
       "       'week', 'Glocery&Pharmacies_visits_weekly', 'Retails_visits_weekly',\n",
       "       'Arts&Entertainment_visits_weekly', 'Restaurants&Bars_visits_weekly',\n",
       "       'Educations_visits_weekly', 'Healthcares_visits_weekly',\n",
       "       'others_visits_weekly'],\n",
       "      dtype='object')"
      ]
     },
     "execution_count": 10,
     "metadata": {},
     "output_type": "execute_result"
    }
   ],
   "source": [
    "final_df.columns"
   ]
  },
  {
   "cell_type": "code",
   "execution_count": 12,
   "id": "b8eb040a",
   "metadata": {},
   "outputs": [],
   "source": [
    "### 2 read scores data #########\n",
    "# df_zip_score = pd.read_csv('zipcode_scores.csv')\n",
    "df_zip_score = pd.read_csv('zipcode_scores_v2.csv')\n",
    "df_zip_score['zipcode'] = df_zip_score['zipcode'].astype(str)\n",
    "df_zip_score['zipcode_5'] = df_zip_score['zipcode'].str.slice(0, 5)\n",
    "# df_zip_score['gain_loss_bias'] = df_zip_score['gain_bias'] + df_zip_score['gain_bias']\n",
    "df_2 = final_df.merge(df_zip_score, \n",
    "                                    left_on = 'MODZCTA', right_on='zipcode_5',how='left')\n",
    "### 3 select the zipcodes #########\n",
    "df_zipcode = pd.read_csv('../results/zipcode_counts.csv')\n",
    "df_zip_selected = df_zipcode.iloc[:22,:]\n",
    "zips = df_zip_selected['zip_code'].values\n",
    "zips_plot = [str(z) for z in zips]\n",
    "df_3 = df_2[df_2['zipcode_5'].isin(zips_plot)]\n",
    "##### 4 social economic data ######\n",
    "nyc_socialecon = pd.read_csv('../Data/zipcode_data_FINAL.csv')\n",
    "nyc_socialecon['zipcode_5'] = nyc_socialecon['ZIPCODE'].astype(str)\n",
    "nyc_socialecon_s_cols_dict = {'AREA':'sum','POPULATION':'sum','HOUSEHOLD_SIZE':'mean','HOUSEHOLD_INCOME':'mean','BLACK':'sum','HISPANIC':'sum','AGE65_PLUS':'sum','BACHELOR_S':'sum','NO_HEALTH_INSURANCE':'mean',\n",
    "                              'RESTAURANT_COUNT':'sum','GROCERY_COUNT':'sum','EDUCATION_COUNT':'sum',\t\n",
    "                              'ENTERTAINMENT_COUNT':'sum','HEALTHCARE_COUNT':'sum','RETAIL_COUNT':'sum'}\n",
    "nyc_socialecon_s_cols = list(nyc_socialecon_s_cols_dict.keys()) + ['zipcode_5']\n",
    "df_social = nyc_socialecon[nyc_socialecon_s_cols].copy()\n",
    "# Group by 'zipcode' and specify the aggregation for each column\n",
    "aggregated_df = df_social.groupby('zipcode_5').agg(nyc_socialecon_s_cols_dict).reset_index()\n",
    "df_4 = df_3.merge(aggregated_df, on='zipcode_5')\n",
    "df_4.rename(columns={'zipcode_5':'zip_char'},inplace=True)\n",
    "######### 5 merge with ages ########\n",
    "# df_ages = pd.read_csv('../Data/estimated_average_age.csv')\n",
    "df_ages_vehicles = pd.read_csv('../Data/estimated_average_age_vehicles.csv')\n",
    "# df_ages['tract'].apply(lambda x: str(x)[:11])\n",
    "df_nyc_tract_sorted = pd.read_csv('df_nyc_tract_modidx_v33.csv')\n",
    "df_tract_zip =df_nyc_tract_sorted[['tract','zip']]\n",
    "# df_tract_zip['tract'] = df_tract_zip['tract'].apply(lambda x: str(x)[:11])\n",
    "df_ages_nyc = df_ages_vehicles.merge(df_tract_zip, on='tract', how='right')\n",
    "df_ages_nyc['zip_char'] = df_ages_nyc['zip'].astype(str)\n",
    "# aggregated_age = df_ages_nyc.groupby('zip_char').agg({'EstimatedAverageAge':'mean'}).reset_index()\n",
    "aggregated_data = df_ages_nyc.groupby('zip_char').agg({\n",
    "    'EstimatedAverageAge': 'mean',\n",
    "    'no_vehicles': 'sum',\n",
    "    'vehicle_owned': 'sum',\n",
    "    'public_transportation': 'sum',\n",
    "    'household_num': 'sum'\n",
    "}).reset_index()\n",
    "# df_5 = df_4.merge(aggregated_age, on='zip_char')\n",
    "df_5 = df_4.merge(aggregated_data, on='zip_char')\n",
    "### 6 merge with cases ###\n",
    "covid_cases = pd.read_csv('cases_borough_weekly.csv')\n",
    "for col in ['CASE_COUNT','DEATH_COUNT', 'borough_case_count', 'borough_death_count']:\n",
    "    covid_cases[col] = covid_cases[col].astype(float)\n",
    "    covid_cases.loc[covid_cases[col]==0,col] = 0.1\n",
    "    covid_cases[col+'_log'] = np.log(covid_cases[col])\n",
    "df_6 = pd.merge(covid_cases, df_5, on=['borough', 'week'], how='outer')\n",
    "### 7 merge with policies ####\n",
    "df_policies = pd.read_csv('../Data/stringency_index_ny_wk.csv')\n",
    "visits_scores_wk = df_6.merge(df_policies, on='week', how='left')"
   ]
  },
  {
   "cell_type": "code",
   "execution_count": 13,
   "id": "464305d9",
   "metadata": {},
   "outputs": [
    {
     "data": {
      "text/plain": [
       "Index(['CASE_COUNT', 'DEATH_COUNT', 'week', 'borough_case_count', 'id',\n",
       "       'borough_death_count', 'borough', 'CASE_COUNT_log', 'DEATH_COUNT_log',\n",
       "       'borough_case_count_log', 'borough_death_count_log', 'MODZCTA',\n",
       "       'MODIFIED_ZCTA', 'mod_idx', 'POP_DENOMINATOR',\n",
       "       'Glocery&Pharmacies_visits_weekly', 'Retails_visits_weekly',\n",
       "       'Arts&Entertainment_visits_weekly', 'Restaurants&Bars_visits_weekly',\n",
       "       'Educations_visits_weekly', 'Healthcares_visits_weekly',\n",
       "       'others_visits_weekly', 'zipcode', 'Age_mean', 'Age_median', 'Age_std',\n",
       "       'Risk_preference_mean', 'Risk_preference_median', 'Risk_preference_std',\n",
       "       'score_mean', 'score_median', 'score_std', 'loss_aversion_scores_mean',\n",
       "       'loss_aversion_scores_median', 'loss_aversion_scores_std',\n",
       "       'agency_mean', 'agency_median', 'agency_std', 'regulated_scores_mean',\n",
       "       'regulated_scores_median', 'regulated_scores_std',\n",
       "       'regulated_agency_mean', 'regulated_agency_median',\n",
       "       'regulated_agency_std', 'regulated_loss_mean', 'regulated_loss_median',\n",
       "       'regulated_loss_std', 'zip_char', 'AREA', 'POPULATION',\n",
       "       'HOUSEHOLD_SIZE', 'HOUSEHOLD_INCOME', 'BLACK', 'HISPANIC', 'AGE65_PLUS',\n",
       "       'BACHELOR_S', 'NO_HEALTH_INSURANCE', 'RESTAURANT_COUNT',\n",
       "       'GROCERY_COUNT', 'EDUCATION_COUNT', 'ENTERTAINMENT_COUNT',\n",
       "       'HEALTHCARE_COUNT', 'RETAIL_COUNT', 'EstimatedAverageAge',\n",
       "       'no_vehicles', 'vehicle_owned', 'public_transportation',\n",
       "       'household_num', 'Date', 'StringencyIndex_WeightedAverage'],\n",
       "      dtype='object')"
      ]
     },
     "execution_count": 13,
     "metadata": {},
     "output_type": "execute_result"
    }
   ],
   "source": [
    "visits_scores_wk.columns"
   ]
  },
  {
   "cell_type": "code",
   "execution_count": 14,
   "id": "ae6d9582",
   "metadata": {},
   "outputs": [],
   "source": [
    "visits_scores_wk.to_csv('unpivot_merged_data_raw_v9.csv',index=False)"
   ]
  },
  {
   "cell_type": "code",
   "execution_count": 2,
   "id": "46f9b7a3",
   "metadata": {},
   "outputs": [],
   "source": [
    "visits_scores_wk = pd.read_csv('unpivot_merged_data_raw_v7.csv')"
   ]
  },
  {
   "cell_type": "code",
   "execution_count": 4,
   "id": "fbe34218",
   "metadata": {},
   "outputs": [
    {
     "data": {
      "text/html": [
       "<div>\n",
       "<style scoped>\n",
       "    .dataframe tbody tr th:only-of-type {\n",
       "        vertical-align: middle;\n",
       "    }\n",
       "\n",
       "    .dataframe tbody tr th {\n",
       "        vertical-align: top;\n",
       "    }\n",
       "\n",
       "    .dataframe thead th {\n",
       "        text-align: right;\n",
       "    }\n",
       "</style>\n",
       "<table border=\"1\" class=\"dataframe\">\n",
       "  <thead>\n",
       "    <tr style=\"text-align: right;\">\n",
       "      <th></th>\n",
       "      <th>CASE_COUNT</th>\n",
       "      <th>DEATH_COUNT</th>\n",
       "      <th>week</th>\n",
       "      <th>borough_case_count</th>\n",
       "      <th>id</th>\n",
       "      <th>borough_death_count</th>\n",
       "      <th>borough</th>\n",
       "      <th>CASE_COUNT_log</th>\n",
       "      <th>DEATH_COUNT_log</th>\n",
       "      <th>borough_case_count_log</th>\n",
       "      <th>...</th>\n",
       "      <th>NO_HEALTH_INSURANCE</th>\n",
       "      <th>RESTAURANT_COUNT</th>\n",
       "      <th>GROCERY_COUNT</th>\n",
       "      <th>EDUCATION_COUNT</th>\n",
       "      <th>ENTERTAINMENT_COUNT</th>\n",
       "      <th>HEALTHCARE_COUNT</th>\n",
       "      <th>RETAIL_COUNT</th>\n",
       "      <th>EstimatedAverageAge</th>\n",
       "      <th>Date</th>\n",
       "      <th>StringencyIndex_WeightedAverage</th>\n",
       "    </tr>\n",
       "  </thead>\n",
       "  <tbody>\n",
       "    <tr>\n",
       "      <th>0</th>\n",
       "      <td>1.0</td>\n",
       "      <td>0.1</td>\n",
       "      <td>0</td>\n",
       "      <td>0.1</td>\n",
       "      <td>51</td>\n",
       "      <td>0.1</td>\n",
       "      <td>BK</td>\n",
       "      <td>0.000000</td>\n",
       "      <td>-2.302585</td>\n",
       "      <td>-2.302585</td>\n",
       "      <td>...</td>\n",
       "      <td>0.086066</td>\n",
       "      <td>391</td>\n",
       "      <td>81.0</td>\n",
       "      <td>63.0</td>\n",
       "      <td>69.0</td>\n",
       "      <td>136.0</td>\n",
       "      <td>315.0</td>\n",
       "      <td>34.113808</td>\n",
       "      <td>2020-03-01</td>\n",
       "      <td>14.682857</td>\n",
       "    </tr>\n",
       "    <tr>\n",
       "      <th>1</th>\n",
       "      <td>1.0</td>\n",
       "      <td>0.1</td>\n",
       "      <td>0</td>\n",
       "      <td>0.1</td>\n",
       "      <td>51</td>\n",
       "      <td>0.1</td>\n",
       "      <td>BK</td>\n",
       "      <td>0.000000</td>\n",
       "      <td>-2.302585</td>\n",
       "      <td>-2.302585</td>\n",
       "      <td>...</td>\n",
       "      <td>0.078994</td>\n",
       "      <td>601</td>\n",
       "      <td>141.0</td>\n",
       "      <td>58.0</td>\n",
       "      <td>48.0</td>\n",
       "      <td>346.0</td>\n",
       "      <td>379.0</td>\n",
       "      <td>37.360114</td>\n",
       "      <td>2020-03-01</td>\n",
       "      <td>14.682857</td>\n",
       "    </tr>\n",
       "    <tr>\n",
       "      <th>2</th>\n",
       "      <td>1.0</td>\n",
       "      <td>0.1</td>\n",
       "      <td>0</td>\n",
       "      <td>0.1</td>\n",
       "      <td>51</td>\n",
       "      <td>0.1</td>\n",
       "      <td>BK</td>\n",
       "      <td>0.000000</td>\n",
       "      <td>-2.302585</td>\n",
       "      <td>-2.302585</td>\n",
       "      <td>...</td>\n",
       "      <td>0.063365</td>\n",
       "      <td>380</td>\n",
       "      <td>122.0</td>\n",
       "      <td>52.0</td>\n",
       "      <td>36.0</td>\n",
       "      <td>242.0</td>\n",
       "      <td>314.0</td>\n",
       "      <td>37.272314</td>\n",
       "      <td>2020-03-01</td>\n",
       "      <td>14.682857</td>\n",
       "    </tr>\n",
       "    <tr>\n",
       "      <th>3</th>\n",
       "      <td>1.0</td>\n",
       "      <td>0.1</td>\n",
       "      <td>0</td>\n",
       "      <td>0.1</td>\n",
       "      <td>51</td>\n",
       "      <td>0.1</td>\n",
       "      <td>BK</td>\n",
       "      <td>0.000000</td>\n",
       "      <td>-2.302585</td>\n",
       "      <td>-2.302585</td>\n",
       "      <td>...</td>\n",
       "      <td>0.130641</td>\n",
       "      <td>259</td>\n",
       "      <td>46.0</td>\n",
       "      <td>40.0</td>\n",
       "      <td>89.0</td>\n",
       "      <td>351.0</td>\n",
       "      <td>373.0</td>\n",
       "      <td>40.954869</td>\n",
       "      <td>2020-03-01</td>\n",
       "      <td>14.682857</td>\n",
       "    </tr>\n",
       "    <tr>\n",
       "      <th>4</th>\n",
       "      <td>45.0</td>\n",
       "      <td>0.1</td>\n",
       "      <td>1</td>\n",
       "      <td>12.0</td>\n",
       "      <td>52</td>\n",
       "      <td>0.1</td>\n",
       "      <td>BK</td>\n",
       "      <td>3.806662</td>\n",
       "      <td>-2.302585</td>\n",
       "      <td>2.484907</td>\n",
       "      <td>...</td>\n",
       "      <td>0.086066</td>\n",
       "      <td>391</td>\n",
       "      <td>81.0</td>\n",
       "      <td>63.0</td>\n",
       "      <td>69.0</td>\n",
       "      <td>136.0</td>\n",
       "      <td>315.0</td>\n",
       "      <td>34.113808</td>\n",
       "      <td>2020-03-08</td>\n",
       "      <td>19.440000</td>\n",
       "    </tr>\n",
       "  </tbody>\n",
       "</table>\n",
       "<p>5 rows × 68 columns</p>\n",
       "</div>"
      ],
      "text/plain": [
       "   CASE_COUNT  DEATH_COUNT  week  borough_case_count  id  borough_death_count  \\\n",
       "0         1.0          0.1     0                 0.1  51                  0.1   \n",
       "1         1.0          0.1     0                 0.1  51                  0.1   \n",
       "2         1.0          0.1     0                 0.1  51                  0.1   \n",
       "3         1.0          0.1     0                 0.1  51                  0.1   \n",
       "4        45.0          0.1     1                12.0  52                  0.1   \n",
       "\n",
       "  borough  CASE_COUNT_log  DEATH_COUNT_log  borough_case_count_log  ...  \\\n",
       "0      BK        0.000000        -2.302585               -2.302585  ...   \n",
       "1      BK        0.000000        -2.302585               -2.302585  ...   \n",
       "2      BK        0.000000        -2.302585               -2.302585  ...   \n",
       "3      BK        0.000000        -2.302585               -2.302585  ...   \n",
       "4      BK        3.806662        -2.302585                2.484907  ...   \n",
       "\n",
       "   NO_HEALTH_INSURANCE  RESTAURANT_COUNT  GROCERY_COUNT  EDUCATION_COUNT  \\\n",
       "0             0.086066               391           81.0             63.0   \n",
       "1             0.078994               601          141.0             58.0   \n",
       "2             0.063365               380          122.0             52.0   \n",
       "3             0.130641               259           46.0             40.0   \n",
       "4             0.086066               391           81.0             63.0   \n",
       "\n",
       "   ENTERTAINMENT_COUNT  HEALTHCARE_COUNT  RETAIL_COUNT  EstimatedAverageAge  \\\n",
       "0                 69.0             136.0         315.0            34.113808   \n",
       "1                 48.0             346.0         379.0            37.360114   \n",
       "2                 36.0             242.0         314.0            37.272314   \n",
       "3                 89.0             351.0         373.0            40.954869   \n",
       "4                 69.0             136.0         315.0            34.113808   \n",
       "\n",
       "         Date  StringencyIndex_WeightedAverage  \n",
       "0  2020-03-01                        14.682857  \n",
       "1  2020-03-01                        14.682857  \n",
       "2  2020-03-01                        14.682857  \n",
       "3  2020-03-01                        14.682857  \n",
       "4  2020-03-08                        19.440000  \n",
       "\n",
       "[5 rows x 68 columns]"
      ]
     },
     "execution_count": 4,
     "metadata": {},
     "output_type": "execute_result"
    }
   ],
   "source": [
    "visits_scores_wk.head()"
   ]
  },
  {
   "cell_type": "code",
   "execution_count": 5,
   "id": "5fb8c8c6",
   "metadata": {},
   "outputs": [],
   "source": [
    "def scale_to_100(x, min_val, max_val):\n",
    "    \"\"\"\n",
    "    Scale a given value x from its original range [min_val, max_val] to [0, 100].\n",
    "    \n",
    "    Parameters:\n",
    "    - x: The value to scale.\n",
    "    - min_val: The minimum value of the original range.\n",
    "    - max_val: The maximum value of the original range.\n",
    "    \n",
    "    Returns:\n",
    "    - The scaled value in the range [0, 100].\n",
    "    \"\"\"\n",
    "    return (x - min_val) * 100 / (max_val - min_val)"
   ]
  },
  {
   "cell_type": "code",
   "execution_count": 26,
   "id": "9bac363b",
   "metadata": {},
   "outputs": [],
   "source": [
    "min_agency, max_agency = -32, 32  #\n",
    "min_scores, max_scores = 0,  16\n",
    "min_loss, max_loss = 0, 6 \n",
    "\n",
    "# Scaling the variables\n",
    "scaled_x1 = scale_to_100(visits_scores_wk['agency_mean'], min_agency, max_agency)\n",
    "scaled_x2 = scale_to_100(visits_scores_wk['score_mean'], min_scores, max_scores)\n",
    "scaled_x3 = scale_to_100(visits_scores_wk['loss_aversion_scores_mean'], min_loss, max_loss)"
   ]
  },
  {
   "cell_type": "code",
   "execution_count": null,
   "id": "6447b140",
   "metadata": {},
   "outputs": [],
   "source": []
  }
 ],
 "metadata": {
  "kernelspec": {
   "display_name": "Python 3 (ipykernel)",
   "language": "python",
   "name": "python3"
  },
  "language_info": {
   "codemirror_mode": {
    "name": "ipython",
    "version": 3
   },
   "file_extension": ".py",
   "mimetype": "text/x-python",
   "name": "python",
   "nbconvert_exporter": "python",
   "pygments_lexer": "ipython3",
   "version": "3.11.8"
  }
 },
 "nbformat": 4,
 "nbformat_minor": 5
}
