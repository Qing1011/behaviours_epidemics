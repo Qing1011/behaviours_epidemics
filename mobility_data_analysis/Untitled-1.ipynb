{
 "cells": [
  {
   "cell_type": "code",
   "execution_count": 2,
   "metadata": {},
   "outputs": [],
   "source": [
    "import pandas as pd\n",
    "import numpy as np\n",
    "import os\n",
    "import csv\n",
    "import ast\n",
    "import matplotlib.pyplot as plt\n",
    "from collections import Counter\n",
    "import geopandas as gpd\n",
    "import h5py\n",
    "from datetime import datetime, timedelta\n",
    "import sys\n",
    "# import mobility as mbl"
   ]
  },
  {
   "cell_type": "code",
   "execution_count": 12,
   "metadata": {},
   "outputs": [],
   "source": [
    "df_mapping_new = pd.read_csv('../data/nyc_tract_modzcta_poi_v2020.csv')"
   ]
  },
  {
   "cell_type": "code",
   "execution_count": 13,
   "metadata": {},
   "outputs": [],
   "source": [
    "df_mapping_old = pd.read_csv('../data/df_nyc_tract_modidx_v33.csv')"
   ]
  },
  {
   "cell_type": "code",
   "execution_count": 14,
   "metadata": {},
   "outputs": [
    {
     "data": {
      "text/plain": [
       "2161"
      ]
     },
     "execution_count": 14,
     "metadata": {},
     "output_type": "execute_result"
    }
   ],
   "source": [
    "len(df_mapping_new)"
   ]
  },
  {
   "cell_type": "code",
   "execution_count": 15,
   "metadata": {},
   "outputs": [
    {
     "data": {
      "text/plain": [
       "2167"
      ]
     },
     "execution_count": 15,
     "metadata": {},
     "output_type": "execute_result"
    }
   ],
   "source": [
    "len(df_mapping_old)"
   ]
  },
  {
   "cell_type": "code",
   "execution_count": 17,
   "metadata": {},
   "outputs": [
    {
     "data": {
      "text/plain": [
       "{36059302600,\n",
       " 36059404300,\n",
       " 36059404400,\n",
       " 36059404600,\n",
       " 36059405301,\n",
       " 36081071600,\n",
       " 36119000203}"
      ]
     },
     "execution_count": 17,
     "metadata": {},
     "output_type": "execute_result"
    }
   ],
   "source": [
    "set(df_mapping_old['tract'].unique()) - set(df_mapping_new['TRACT'].unique()) \n",
    "### these are the tracts that are not in the new mapping"
   ]
  },
  {
   "cell_type": "code",
   "execution_count": 18,
   "metadata": {},
   "outputs": [
    {
     "data": {
      "text/plain": [
       "{36081009900}"
      ]
     },
     "execution_count": 18,
     "metadata": {},
     "output_type": "execute_result"
    }
   ],
   "source": [
    "set(df_mapping_new['TRACT'].unique()) - set(df_mapping_old['tract'].unique()) "
   ]
  },
  {
   "cell_type": "code",
   "execution_count": 21,
   "metadata": {},
   "outputs": [],
   "source": [
    "df_tract_zip = pd.read_excel('../data/TRACT_ZIP_032020.xlsx')"
   ]
  },
  {
   "cell_type": "code",
   "execution_count": 22,
   "metadata": {},
   "outputs": [],
   "source": [
    "lic_tract = df_tract_zip[df_tract_zip['ZIP'] == 11101]['TRACT'].values"
   ]
  },
  {
   "cell_type": "code",
   "execution_count": 23,
   "metadata": {},
   "outputs": [],
   "source": [
    "df_lic_tract = df_tract_zip[df_tract_zip['ZIP'] == 11101].copy()"
   ]
  },
  {
   "cell_type": "code",
   "execution_count": 10,
   "metadata": {},
   "outputs": [],
   "source": [
    "df_tract_data = pd.read_csv('../data/tract_data2020.csv')"
   ]
  },
  {
   "cell_type": "code",
   "execution_count": 12,
   "metadata": {},
   "outputs": [
    {
     "data": {
      "text/html": [
       "<div>\n",
       "<style scoped>\n",
       "    .dataframe tbody tr th:only-of-type {\n",
       "        vertical-align: middle;\n",
       "    }\n",
       "\n",
       "    .dataframe tbody tr th {\n",
       "        vertical-align: top;\n",
       "    }\n",
       "\n",
       "    .dataframe thead th {\n",
       "        text-align: right;\n",
       "    }\n",
       "</style>\n",
       "<table border=\"1\" class=\"dataframe\">\n",
       "  <thead>\n",
       "    <tr style=\"text-align: right;\">\n",
       "      <th></th>\n",
       "      <th>GEOID</th>\n",
       "      <th>Population</th>\n",
       "      <th>Black</th>\n",
       "      <th>Hispanic</th>\n",
       "      <th>Householdincome</th>\n",
       "      <th>Bachelor</th>\n",
       "      <th>Households_num</th>\n",
       "      <th>Ageunder5</th>\n",
       "      <th>Age5to9</th>\n",
       "      <th>Age10to14</th>\n",
       "      <th>Age15to24</th>\n",
       "      <th>Age25to44</th>\n",
       "      <th>Age45to64</th>\n",
       "      <th>Age65to74</th>\n",
       "      <th>Age75plus</th>\n",
       "      <th>No_vehicle</th>\n",
       "      <th>health_insurance</th>\n",
       "      <th>mean_householdsize</th>\n",
       "    </tr>\n",
       "  </thead>\n",
       "  <tbody>\n",
       "    <tr>\n",
       "      <th>0</th>\n",
       "      <td>36001000100</td>\n",
       "      <td>2029</td>\n",
       "      <td>1141</td>\n",
       "      <td>217</td>\n",
       "      <td>45268.0</td>\n",
       "      <td>135</td>\n",
       "      <td>769</td>\n",
       "      <td>239</td>\n",
       "      <td>88</td>\n",
       "      <td>106</td>\n",
       "      <td>437</td>\n",
       "      <td>425</td>\n",
       "      <td>454</td>\n",
       "      <td>196</td>\n",
       "      <td>84</td>\n",
       "      <td>93</td>\n",
       "      <td>2016</td>\n",
       "      <td>2.610000</td>\n",
       "    </tr>\n",
       "    <tr>\n",
       "      <th>1</th>\n",
       "      <td>36001000201</td>\n",
       "      <td>3263</td>\n",
       "      <td>2230</td>\n",
       "      <td>152</td>\n",
       "      <td>37500.0</td>\n",
       "      <td>447</td>\n",
       "      <td>1382</td>\n",
       "      <td>79</td>\n",
       "      <td>170</td>\n",
       "      <td>213</td>\n",
       "      <td>895</td>\n",
       "      <td>933</td>\n",
       "      <td>769</td>\n",
       "      <td>146</td>\n",
       "      <td>58</td>\n",
       "      <td>440</td>\n",
       "      <td>3263</td>\n",
       "      <td>2.226667</td>\n",
       "    </tr>\n",
       "    <tr>\n",
       "      <th>2</th>\n",
       "      <td>36001000202</td>\n",
       "      <td>2153</td>\n",
       "      <td>1968</td>\n",
       "      <td>64</td>\n",
       "      <td>25290.0</td>\n",
       "      <td>83</td>\n",
       "      <td>913</td>\n",
       "      <td>253</td>\n",
       "      <td>225</td>\n",
       "      <td>192</td>\n",
       "      <td>264</td>\n",
       "      <td>540</td>\n",
       "      <td>541</td>\n",
       "      <td>21</td>\n",
       "      <td>117</td>\n",
       "      <td>414</td>\n",
       "      <td>2143</td>\n",
       "      <td>2.080000</td>\n",
       "    </tr>\n",
       "    <tr>\n",
       "      <th>3</th>\n",
       "      <td>36001000301</td>\n",
       "      <td>3016</td>\n",
       "      <td>1116</td>\n",
       "      <td>978</td>\n",
       "      <td>36964.0</td>\n",
       "      <td>43</td>\n",
       "      <td>1135</td>\n",
       "      <td>157</td>\n",
       "      <td>64</td>\n",
       "      <td>422</td>\n",
       "      <td>568</td>\n",
       "      <td>678</td>\n",
       "      <td>898</td>\n",
       "      <td>141</td>\n",
       "      <td>88</td>\n",
       "      <td>576</td>\n",
       "      <td>3016</td>\n",
       "      <td>2.655000</td>\n",
       "    </tr>\n",
       "    <tr>\n",
       "      <th>4</th>\n",
       "      <td>36001000302</td>\n",
       "      <td>2931</td>\n",
       "      <td>469</td>\n",
       "      <td>65</td>\n",
       "      <td>42266.0</td>\n",
       "      <td>300</td>\n",
       "      <td>1585</td>\n",
       "      <td>276</td>\n",
       "      <td>18</td>\n",
       "      <td>57</td>\n",
       "      <td>455</td>\n",
       "      <td>876</td>\n",
       "      <td>654</td>\n",
       "      <td>251</td>\n",
       "      <td>344</td>\n",
       "      <td>255</td>\n",
       "      <td>2900</td>\n",
       "      <td>1.840000</td>\n",
       "    </tr>\n",
       "  </tbody>\n",
       "</table>\n",
       "</div>"
      ],
      "text/plain": [
       "         GEOID  Population  Black  Hispanic  Householdincome  Bachelor  \\\n",
       "0  36001000100        2029   1141       217          45268.0       135   \n",
       "1  36001000201        3263   2230       152          37500.0       447   \n",
       "2  36001000202        2153   1968        64          25290.0        83   \n",
       "3  36001000301        3016   1116       978          36964.0        43   \n",
       "4  36001000302        2931    469        65          42266.0       300   \n",
       "\n",
       "   Households_num  Ageunder5  Age5to9  Age10to14  Age15to24  Age25to44  \\\n",
       "0             769        239       88        106        437        425   \n",
       "1            1382         79      170        213        895        933   \n",
       "2             913        253      225        192        264        540   \n",
       "3            1135        157       64        422        568        678   \n",
       "4            1585        276       18         57        455        876   \n",
       "\n",
       "   Age45to64  Age65to74  Age75plus  No_vehicle  health_insurance  \\\n",
       "0        454        196         84          93              2016   \n",
       "1        769        146         58         440              3263   \n",
       "2        541         21        117         414              2143   \n",
       "3        898        141         88         576              3016   \n",
       "4        654        251        344         255              2900   \n",
       "\n",
       "   mean_householdsize  \n",
       "0            2.610000  \n",
       "1            2.226667  \n",
       "2            2.080000  \n",
       "3            2.655000  \n",
       "4            1.840000  "
      ]
     },
     "execution_count": 12,
     "metadata": {},
     "output_type": "execute_result"
    }
   ],
   "source": [
    "df_tract_data.head()"
   ]
  },
  {
   "cell_type": "code",
   "execution_count": 15,
   "metadata": {},
   "outputs": [],
   "source": [
    "df_lic = df_tract_data[df_tract_data['GEOID'].isin(lic_tract)].copy()"
   ]
  },
  {
   "cell_type": "code",
   "execution_count": 26,
   "metadata": {},
   "outputs": [],
   "source": [
    "df_lic = df_lic.merge(df_lic_tract, left_on='GEOID', right_on='TRACT')"
   ]
  },
  {
   "cell_type": "code",
   "execution_count": 28,
   "metadata": {},
   "outputs": [],
   "source": [
    "df_lic['pop_res'] = df_lic['Population']*df_lic['RES_RATIO']"
   ]
  },
  {
   "cell_type": "code",
   "execution_count": 30,
   "metadata": {},
   "outputs": [
    {
     "data": {
      "text/plain": [
       "13241.297430841341"
      ]
     },
     "execution_count": 30,
     "metadata": {},
     "output_type": "execute_result"
    }
   ],
   "source": [
    "df_lic['pop_res'].sum()"
   ]
  },
  {
   "cell_type": "code",
   "execution_count": null,
   "metadata": {},
   "outputs": [],
   "source": []
  }
 ],
 "metadata": {
  "kernelspec": {
   "display_name": "geo",
   "language": "python",
   "name": "python3"
  },
  "language_info": {
   "codemirror_mode": {
    "name": "ipython",
    "version": 3
   },
   "file_extension": ".py",
   "mimetype": "text/x-python",
   "name": "python",
   "nbconvert_exporter": "python",
   "pygments_lexer": "ipython3",
   "version": "3.11.8"
  }
 },
 "nbformat": 4,
 "nbformat_minor": 2
}
