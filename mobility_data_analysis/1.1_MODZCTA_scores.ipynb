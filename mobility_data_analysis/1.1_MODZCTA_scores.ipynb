{
 "cells": [
  {
   "cell_type": "code",
   "execution_count": 1,
   "id": "f1dd6330",
   "metadata": {},
   "outputs": [],
   "source": [
    "import pandas as pd\n",
    "import numpy as np\n",
    "import os\n",
    "import csv\n",
    "import gzip\n",
    "import sys\n",
    "import datetime\n",
    "import ast\n",
    "import matplotlib.pyplot as plt"
   ]
  },
  {
   "cell_type": "code",
   "execution_count": 2,
   "id": "5f28960f",
   "metadata": {},
   "outputs": [
    {
     "name": "stdout",
     "output_type": "stream",
     "text": [
      "1349 1344 1348\n"
     ]
    }
   ],
   "source": [
    "score_path = '../results/scores/'\n",
    "df_scores = pd.read_csv(score_path+'1_3_dat_unique_item.csv')\n",
    "df_td = df_scores.drop_duplicates(subset='ResponseId', keep='first')\n",
    "df_agency = pd.read_csv(score_path+'agency_scores.csv')\n",
    "df_gainloss = pd.read_csv(score_path+'dat_lossgain_scores.csv')\n",
    "# df_td = pd.read_csv(score_path+'td_scores.csv')\n",
    "print(len(df_td), len(df_agency), len(df_gainloss)) ## align with R results\n",
    "### use inner join to merge the dataframes"
   ]
  },
  {
   "cell_type": "code",
   "execution_count": 3,
   "id": "77fe9a82",
   "metadata": {},
   "outputs": [
    {
     "data": {
      "text/plain": [
       "'ResponseId'"
      ]
     },
     "execution_count": 3,
     "metadata": {},
     "output_type": "execute_result"
    }
   ],
   "source": [
    "df_td.columns[0] ### the key to join scores"
   ]
  },
  {
   "cell_type": "code",
   "execution_count": 4,
   "id": "9720102b",
   "metadata": {},
   "outputs": [],
   "source": [
    "# Add up all columns ending with '_avail' and '_realistic', ignoring NA\n",
    "avail_sum = df_agency.filter(like='_avail').sum(axis=1, skipna=True)\n",
    "realistic_sum = df_agency.filter(like='_realistic').sum(axis=1, skipna=True)\n",
    "\n",
    "# Adding the sums as new columns to the dataframe\n",
    "df_agency['total_avail'] = avail_sum\n",
    "df_agency['total_realistic'] = realistic_sum\n",
    "df_agency['num_items'] = df_agency.apply(lambda row: row[1:19].notna().sum(), axis=1)"
   ]
  },
  {
   "cell_type": "code",
   "execution_count": 5,
   "id": "7f51407e",
   "metadata": {},
   "outputs": [
    {
     "data": {
      "text/plain": [
       "array([16, 14, 18])"
      ]
     },
     "execution_count": 5,
     "metadata": {},
     "output_type": "execute_result"
    }
   ],
   "source": [
    "df_agency['num_items'].unique()"
   ]
  },
  {
   "cell_type": "code",
   "execution_count": 6,
   "id": "fd210783",
   "metadata": {},
   "outputs": [
    {
     "name": "stdout",
     "output_type": "stream",
     "text": [
      "item=14 392\n",
      "item=16 733\n",
      "item=18 219\n"
     ]
    }
   ],
   "source": [
    "print('item=14', sum(df_agency['num_items'] == 14))\n",
    "print('item=16', sum(df_agency['num_items'] == 16))\n",
    "print('item=18', sum(df_agency['num_items'] == 18))\n",
    "#### most of them answered 16 items and then we used 16 items for rescaling\n",
    "df_agency['rescale_avail'] = df_agency['total_avail'] / (df_agency['num_items'] / 2) * 8\n",
    "df_agency['rescale_realistic'] = df_agency['total_realistic'] / (df_agency['num_items'] / 2) * 8\n",
    "df_agency['agency'] = df_agency['rescale_avail'] + df_agency['rescale_realistic']"
   ]
  },
  {
   "cell_type": "code",
   "execution_count": 7,
   "id": "e31f62c0",
   "metadata": {},
   "outputs": [],
   "source": [
    "df_td_select = df_td[['ResponseId', 'zipcode', 'alloc_debt', 'alloc_spend', 'alloc_save',\n",
    "       'alloc_invest', 'Age', 'Risk_preference', 'score', 'presbias',\n",
    "       'absolmag', 'gainloss']]\n",
    "df_scores = pd.merge(df_td_select,df_gainloss,on='ResponseId',how='inner')\n",
    "# df_agency_selected = df_agency[['ResponseId', 'total_avail',\n",
    "#        'total_realistic', 'num_items', 'rescale_avail', 'rescale_realistic','agency',]]\n",
    "df_agency_selected = df_agency[['ResponseId', 'total_avail',\n",
    "       'total_realistic', 'num_items', 'rescale_avail', 'rescale_realistic','agency','agency_pub_trans_avail', 'agency_pub_trans_realistic',\n",
    "       'agency_uber_avail', 'agency_uber_realistic', 'agency_delivery_avail',\n",
    "       'agency_delivery_realistic', 'agency_grocery_avail',\n",
    "       'agency_grocery_realistic', 'agency_pharma_avail',\n",
    "       'agency_pharma_realistic', 'agency_docs_avail', 'agency_docs_realistic',\n",
    "       'agency_online_avail', 'agency_online_realistic',\n",
    "       'agency_IP_safe_avail', 'agency_IP_safe_realistic',\n",
    "       'agency_remote_avail']]\n",
    "df_merged_scores = df_scores.merge(df_agency_selected,on='ResponseId',how='inner')"
   ]
  },
  {
   "cell_type": "code",
   "execution_count": 8,
   "id": "22716fff",
   "metadata": {},
   "outputs": [],
   "source": [
    "def scale_to_100(x, min_val, max_val):\n",
    "    \"\"\"\n",
    "    Scale a given value x from its original range [min_val, max_val] to [0, 100].\n",
    "    \n",
    "    Parameters:\n",
    "    - x: The value to scale.\n",
    "    - min_val: The minimum value of the original range.\n",
    "    - max_val: The maximum value of the original range.\n",
    "    \n",
    "    Returns:\n",
    "    - The scaled value in the range [0, 100].\n",
    "    \"\"\"\n",
    "    return (x - min_val) * 100 / (max_val - min_val)"
   ]
  },
  {
   "cell_type": "code",
   "execution_count": 9,
   "id": "0b5854aa",
   "metadata": {},
   "outputs": [],
   "source": [
    "### this depends on the number of items in each type of socres\n",
    "min_agency, max_agency = -32, 32  \n",
    "min_td, max_td = 0, 16   \n",
    "min_loss, max_loss = 0, 6 "
   ]
  },
  {
   "cell_type": "code",
   "execution_count": 10,
   "id": "0578adbf",
   "metadata": {},
   "outputs": [],
   "source": [
    "regulated_agency = scale_to_100(df_merged_scores['agency'], min_agency, max_agency)\n",
    "regulated_scores = scale_to_100(df_merged_scores['score'], min_td, max_td)\n",
    "regulated_loss = scale_to_100(df_merged_scores['loss_aversion_scores'], min_loss, max_loss) "
   ]
  },
  {
   "cell_type": "code",
   "execution_count": 11,
   "id": "a96fcebc",
   "metadata": {},
   "outputs": [],
   "source": [
    "df_merged_scores['regulated_agency'] = regulated_agency\n",
    "df_merged_scores['regulated_tdscores'] = regulated_scores\n",
    "df_merged_scores['regulated_loss'] = regulated_loss"
   ]
  },
  {
   "cell_type": "markdown",
   "id": "961d6d0e",
   "metadata": {},
   "source": [
    "### Zscores"
   ]
  },
  {
   "cell_type": "code",
   "execution_count": 12,
   "id": "60b92924",
   "metadata": {},
   "outputs": [],
   "source": [
    "from scipy.stats import zscore\n",
    "df_merged_scores['agency_z'] = zscore(df_merged_scores['agency'])\n",
    "df_merged_scores['scores_z'] = zscore(df_merged_scores['score'])\n",
    "df_merged_scores['loss_z'] = zscore(df_merged_scores['loss_aversion_scores'])"
   ]
  },
  {
   "cell_type": "code",
   "execution_count": 13,
   "id": "ae2fda41",
   "metadata": {},
   "outputs": [
    {
     "data": {
      "text/plain": [
       "(array([ 19.,   0.,   0.,  49.,   0.,   0., 149.,   0.,   0.,   0., 452.,\n",
       "          0.,   0., 299.,   0.,   0., 232.,   0.,   0., 144.]),\n",
       " array([0. , 0.3, 0.6, 0.9, 1.2, 1.5, 1.8, 2.1, 2.4, 2.7, 3. , 3.3, 3.6,\n",
       "        3.9, 4.2, 4.5, 4.8, 5.1, 5.4, 5.7, 6. ]),\n",
       " <BarContainer object of 20 artists>)"
      ]
     },
     "execution_count": 13,
     "metadata": {},
     "output_type": "execute_result"
    },
    {
     "data": {
      "image/png": "[encoded data removed]",
      "text/plain": [
       "<Figure size 640x480 with 1 Axes>"
      ]
     },
     "metadata": {},
     "output_type": "display_data"
    }
   ],
   "source": [
    "\n",
    "plt.hist(df_merged_scores['loss_aversion_scores'], bins=20, alpha=0.5, label='agency')"
   ]
  },
  {
   "cell_type": "code",
   "execution_count": 14,
   "id": "6a720c51",
   "metadata": {},
   "outputs": [
    {
     "data": {
      "text/plain": [
       "(array([ 19.,   0.,   0.,  49.,   0.,   0., 149.,   0.,   0.,   0., 452.,\n",
       "          0.,   0., 299.,   0.,   0., 232.,   0.,   0., 144.]),\n",
       " array([  0.,   5.,  10.,  15.,  20.,  25.,  30.,  35.,  40.,  45.,  50.,\n",
       "         55.,  60.,  65.,  70.,  75.,  80.,  85.,  90.,  95., 100.]),\n",
       " <BarContainer object of 20 artists>)"
      ]
     },
     "execution_count": 14,
     "metadata": {},
     "output_type": "execute_result"
    },
    {
     "data": {
      "image/png": "[encoded data removed]",
      "text/plain": [
       "<Figure size 640x480 with 1 Axes>"
      ]
     },
     "metadata": {},
     "output_type": "display_data"
    }
   ],
   "source": [
    "plt.hist(df_merged_scores['regulated_loss'], bins=20, alpha=0.5, label='agency')"
   ]
  },
  {
   "cell_type": "code",
   "execution_count": 15,
   "id": "892fdab3",
   "metadata": {},
   "outputs": [
    {
     "data": {
      "text/plain": [
       "(array([ 19.,   0.,   0.,  49.,   0.,   0., 149.,   0.,   0., 452.,   0.,\n",
       "          0.,   0., 299.,   0.,   0., 232.,   0.,   0., 144.]),\n",
       " array([-2.71391711, -2.49164382, -2.26937054, -2.04709725, -1.82482397,\n",
       "        -1.60255069, -1.3802774 , -1.15800412, -0.93573083, -0.71345755,\n",
       "        -0.49118427, -0.26891098, -0.0466377 ,  0.17563559,  0.39790887,\n",
       "         0.62018215,  0.84245544,  1.06472872,  1.28700201,  1.50927529,\n",
       "         1.73154857]),\n",
       " <BarContainer object of 20 artists>)"
      ]
     },
     "execution_count": 15,
     "metadata": {},
     "output_type": "execute_result"
    },
    {
     "data": {
      "image/png": "[encoded data removed]",
      "text/plain": [
       "<Figure size 640x480 with 1 Axes>"
      ]
     },
     "metadata": {},
     "output_type": "display_data"
    }
   ],
   "source": [
    "plt.hist(df_merged_scores['loss_z'], bins=20, alpha=0.5, label='agency')"
   ]
  },
  {
   "cell_type": "markdown",
   "id": "7fa94fc5",
   "metadata": {},
   "source": [
    "### aggrated to modzcta level"
   ]
  },
  {
   "cell_type": "code",
   "execution_count": 16,
   "id": "bfcf0fde",
   "metadata": {},
   "outputs": [],
   "source": [
    "zip_modzcta = pd.read_csv('../results/counts/modzcta_zip_counts.csv')"
   ]
  },
  {
   "cell_type": "code",
   "execution_count": 17,
   "id": "b14a937b",
   "metadata": {},
   "outputs": [],
   "source": [
    "df_merged_scores['zipcode'] = df_merged_scores['zipcode'].astype(str)\n",
    "df_merged_scores['zipcode_5'] = df_merged_scores['zipcode'].str.slice(0, 5).astype(int)"
   ]
  },
  {
   "cell_type": "code",
   "execution_count": 18,
   "id": "598a390f",
   "metadata": {},
   "outputs": [],
   "source": [
    "df_merged_scores_mod = df_merged_scores.merge(zip_modzcta, left_on='zipcode_5', right_on='zip_code', how='left')"
   ]
  },
  {
   "cell_type": "code",
   "execution_count": 19,
   "id": "2f862f6b",
   "metadata": {},
   "outputs": [],
   "source": [
    "selected_columns = ['score', 'gain_bias', 'loss_bias', \n",
    "                    'loss_aversion_scores', 'rescale_avail', 'rescale_realistic','agency',\n",
    "                    'regulated_tdscores','regulated_agency','regulated_loss']\n",
    "aggregations = {col: ['mean', 'median', 'std'] for col in selected_columns}\n",
    "df_aggregated = df_merged_scores_mod.groupby('MODZCTA').agg(aggregations)\n",
    "df_aggregated.reset_index(inplace=True)\n",
    "df_aggregated.columns = ['_'.join(col).strip() for col in df_aggregated.columns.values]\n",
    "df_aggregated.rename(columns={'MODZCTA_':'MODZCTA'},inplace=True)"
   ]
  },
  {
   "cell_type": "code",
   "execution_count": 20,
   "id": "a5d07029",
   "metadata": {},
   "outputs": [],
   "source": [
    "df_aggregated.to_csv(score_path+'modzcta_scores.csv',index=False)"
   ]
  },
  {
   "cell_type": "markdown",
   "id": "33c52e4f",
   "metadata": {},
   "source": [
    "## plot the correlations"
   ]
  },
  {
   "cell_type": "code",
   "execution_count": null,
   "id": "f14e2f9a",
   "metadata": {},
   "outputs": [],
   "source": [
    "selected_columns_small = [ 'regulated_tdscores','regulated_agency','regulated_loss']\n",
    "from matplotlib import colors\n",
    "\n",
    "corr = df_merged_scores[selected_columns_small].corr()\n",
    "fig, ax = plt.subplots(figsize=(15, 15))  # Optional: specifies the figure size\n",
    "norm = colors.TwoSlopeNorm(vmin=-1, vcenter=0, vmax=1)\n",
    "\n",
    "cax = ax.matshow(corr, cmap='coolwarm',norm=norm)\n",
    "plt.xticks(range(len(corr.columns)), corr.columns, rotation=90)\n",
    "plt.yticks(range(len(corr.columns)), corr.columns)\n",
    "\n",
    "# Add a color bar\n",
    "fig.colorbar(cax)\n",
    "\n",
    "# Optional: Add annotations with the correlation values\n",
    "for (i, j), val in np.ndenumerate(corr):\n",
    "    ax.text(j, i, f'{val:.2f}', ha='center', va='center', color='white')\n",
    "\n",
    "plt.title(\"Correlation Matrix Heatmap\", pad=20)\n",
    "plt.show()"
   ]
  },
  {
   "cell_type": "markdown",
   "id": "9ef65a24-4553-442e-a732-460714549bdd",
   "metadata": {},
   "source": [
    "### add other columns of the survey\n",
    "*not in use for now*"
   ]
  },
  {
   "cell_type": "code",
   "execution_count": null,
   "id": "44482462-aff0-49bb-a597-58a05c3fe48a",
   "metadata": {},
   "outputs": [],
   "source": [
    "### can be used in the future\n",
    "df_survey = pd.read_csv('person_info.csv')"
   ]
  },
  {
   "cell_type": "code",
   "execution_count": null,
   "id": "7f018b30-3a19-4b01-8ecf-c01687599e52",
   "metadata": {},
   "outputs": [],
   "source": [
    "df_survey_select = df_survey[['ResponseId','expectation_num',\n",
    " 'internet_num',\n",
    " 'financial_2020_num',\n",
    " 'financial_now_num',\n",
    " 'financial_change_num',\n",
    " 'credit_debt_num',\n",
    " 'gender_num',\n",
    " 'education_num',\n",
    " 'employment_num',\n",
    " 'race_num','destination']]"
   ]
  },
  {
   "cell_type": "code",
   "execution_count": null,
   "id": "010153d1-f4d1-4e20-b377-b790a5f59eb3",
   "metadata": {},
   "outputs": [],
   "source": [
    "df_all_survey_num = df_merged_scores.merge(df_survey_select,on='ResponseId',how='left')"
   ]
  },
  {
   "cell_type": "code",
   "execution_count": null,
   "id": "1a5156fe-052f-4240-8bea-39cb4620943b",
   "metadata": {},
   "outputs": [],
   "source": [
    "df_all_survey_num.to_csv('survey_scores_perinfo_v2.csv')\n",
    "# df_all_survey_num.to_csv('survey_scores_perinfo.csv')"
   ]
  },
  {
   "cell_type": "code",
   "execution_count": null,
   "id": "cf7768f1-d125-4cd5-9a99-60b182d8ca0e",
   "metadata": {},
   "outputs": [],
   "source": [
    "df_all_survey_num"
   ]
  },
  {
   "cell_type": "code",
   "execution_count": null,
   "id": "2a4f24ef",
   "metadata": {},
   "outputs": [],
   "source": [
    "# df = pd.read_csv('survey_scores_perinfo.csv')\n",
    "df = pd.read_csv('survey_scores_perinfo_v2.csv')"
   ]
  },
  {
   "cell_type": "code",
   "execution_count": null,
   "id": "984fbf98",
   "metadata": {},
   "outputs": [],
   "source": [
    "plt.hist(df['score'], bins=20, alpha=0.5, label='score')"
   ]
  },
  {
   "cell_type": "markdown",
   "id": "8a614631-3dab-49d2-a1c2-836028cc59ff",
   "metadata": {},
   "source": [
    "### check the correlations\n",
    "*not in use for now*"
   ]
  },
  {
   "cell_type": "code",
   "execution_count": null,
   "id": "8261c958-553b-4b1b-8875-7031ae13ef3e",
   "metadata": {},
   "outputs": [],
   "source": [
    "# Assuming 'selected_columns' is your DataFrame with selected columns\n",
    "correlation_matrix = df_all_survey_num[['alloc_debt', 'alloc_spend', 'alloc_save',\n",
    "       'alloc_invest', 'Age', 'Risk_preference', 'score', 'presbias',\n",
    "       'absolmag', 'gainloss', 'mask_march2020_num_avg', 'mask_spring2020_num_avg',\n",
    "       'mask_summer2020_num_avg', 'mask_fall2020_num_avg',\n",
    "       'mask_winter2020_num_avg', 'indoor_march2020_num_avg',\n",
    "       'indoor_spring2020_num_avg', 'indoor_summer2020_num_avg',\n",
    "       'indoor_fall2020_num_avg', 'indoor_winter2020_num_avg',\n",
    "        'loss_aversion_scores', 'rescale_avail', 'rescale_realistic',\n",
    "          'expectation_num', 'internet_num',\n",
    "       'financial_2020_num',  'financial_change_num',\n",
    "       'credit_debt_num', 'gender_num', 'education_num', 'employment_num',\n",
    "       'race_num']].corr()"
   ]
  },
  {
   "cell_type": "code",
   "execution_count": null,
   "id": "b1aa3699-0485-438c-a10e-dbce4fd85c30",
   "metadata": {},
   "outputs": [],
   "source": [
    "import matplotlib.pyplot as plt"
   ]
  },
  {
   "cell_type": "code",
   "execution_count": null,
   "id": "75fe8870-5d78-4eff-a79c-b2aa9abffea5",
   "metadata": {},
   "outputs": [],
   "source": [
    "\n",
    "plt.figure(figsize=(15, 20),dpi=450)  # Adjust the figure size as needed\n",
    "cax = plt.matshow(correlation_matrix, cmap='coolwarm', vmin=-1, vmax=1)\n",
    "\n",
    "# Highlight cells with absolute value greater than 0.5\n",
    "for i in range(correlation_matrix.shape[0]):\n",
    "    for j in range(correlation_matrix.shape[1]):\n",
    "        if abs(correlation_matrix.iloc[i, j]) > 0.2:\n",
    "            plt.gca().add_patch(plt.Rectangle((j - 0.5, i - 0.5), 1, 1, fill=False, edgecolor='yellow', lw=1))\n",
    "\n",
    "plt.colorbar(cax)\n",
    "\n",
    "# Adding axis labels with column names for clarity\n",
    "plt.xticks(range(len(correlation_matrix)), correlation_matrix.columns, rotation=90,size=6)\n",
    "plt.yticks(range(len(correlation_matrix)), correlation_matrix.columns,size=6)\n",
    "\n",
    "# Optional: Add a title\n",
    "# plt.title('Correlation Matrix Heatmap', y=1.15)\n",
    "\n",
    "# plt.tight_layout()  # Adjust layout to prevent clipping of labels\n",
    "# plt.show(dpi=450)\n",
    "plt.savefig('individual_correlation.jpg',dpi=400,bbox_inches='tight')"
   ]
  },
  {
   "cell_type": "markdown",
   "id": "2c4f64d3-b2b0-4aaa-b835-64e4de08398a",
   "metadata": {},
   "source": [
    "### check asymmetric of agency scores\n",
    "*not in use for now*"
   ]
  },
  {
   "cell_type": "code",
   "execution_count": null,
   "id": "aae5e7ed",
   "metadata": {},
   "outputs": [],
   "source": [
    "df_zipcodes_counts = pd.DataFrame(df_merged_scores.groupby('zipcode')['zipcode'].count())\n",
    "df_zipcodes_counts.rename(columns={'zipcode':'counts'},inplace=True)\n",
    "condition = (df_merged_scores['agency_uber_avail'] > df_merged_scores['agency_uber_realistic']) | (df_merged_scores['agency_delivery_avail'] > df_merged_scores['agency_delivery_realistic'])\n",
    "filtered_df = df_merged_scores[condition]\n",
    "df_zipcodes_counts['avail_gr_real'] = filtered_df.groupby('zipcode')['zipcode'].count()\n",
    "condition = (df_merged_scores['agency_uber_avail'] != df_merged_scores['agency_uber_realistic']) | (df_merged_scores['agency_delivery_avail'] != df_merged_scores['agency_delivery_realistic'])\n",
    "filtered_df = df_merged_scores[condition]\n",
    "df_zipcodes_counts['avail_nq_real'] = filtered_df.groupby('zipcode')['zipcode'].count()"
   ]
  },
  {
   "cell_type": "code",
   "execution_count": null,
   "id": "ccf08b96",
   "metadata": {},
   "outputs": [],
   "source": [
    "df_zipcodes_counts['avail_gr_per'] = df_zipcodes_counts['avail_gr_real']/df_zipcodes_counts['counts']"
   ]
  },
  {
   "cell_type": "code",
   "execution_count": null,
   "id": "b42aa92e",
   "metadata": {},
   "outputs": [],
   "source": [
    "df_zipcodes_counts.to_csv('asymmetric_agency_zipcodes.csv')\n",
    "df_merged_scores.to_csv('actions_scores_indiviudal.csv',index=False)"
   ]
  },
  {
   "cell_type": "markdown",
   "id": "da3b3208",
   "metadata": {},
   "source": [
    "### unpivot to individual level\n",
    "*not in use for now*"
   ]
  },
  {
   "cell_type": "code",
   "execution_count": null,
   "id": "d901121a",
   "metadata": {},
   "outputs": [],
   "source": [
    "selected_columns = ['Age', 'Risk_preference', 'score', 'gain_bias', 'loss_bias', \n",
    "                    'loss_aversion_scores', 'rescale_avail', 'rescale_realistic','agency','alloc_debt', 'alloc_spend', 'alloc_save',\n",
    "       'alloc_invest', 'mask_march2020_num_avg',\n",
    "       'mask_spring2020_num_avg', 'mask_summer2020_num_avg', 'mask_fall2020_num_avg',\n",
    "       'mask_winter2020_num_avg', 'indoor_march2020_num_avg', 'indoor_spring2020_num_avg',\n",
    "       'indoor_summer2020_num_avg', 'indoor_fall2020_num_avg', 'indoor_winter2020_num_avg','zipcode']"
   ]
  },
  {
   "cell_type": "code",
   "execution_count": null,
   "id": "dc345b38",
   "metadata": {},
   "outputs": [],
   "source": [
    "mask_cols = ['mask_march2020_num_avg',\n",
    "       'mask_spring2020_num_avg', 'mask_summer2020_num_avg', 'mask_fall2020_num_avg',\n",
    "       'mask_winter2020_num_avg']\n",
    "melted_df_mask = pd.melt(df_merged_scores, id_vars=['Age',\n",
    "       'Risk_preference', 'score', 'gain_bias', 'loss_bias', 'rescale_avail',\n",
    "       'rescale_realistic'], value_vars = mask_cols, \n",
    "                    var_name ='period', value_name ='behaviour_mask')\n",
    "# Correctly adjust the code to perform the intended replacement\n",
    "# melted_df_mask['week'] = melted_df['week'].apply(lambda x: (int(x.split('_')[1]) - 3))"
   ]
  }
 ],
 "metadata": {
  "kernelspec": {
   "display_name": "Python 3 (ipykernel)",
   "language": "python",
   "name": "python3"
  },
  "language_info": {
   "codemirror_mode": {
    "name": "ipython",
    "version": 3
   },
   "file_extension": ".py",
   "mimetype": "text/x-python",
   "name": "python",
   "nbconvert_exporter": "python",
   "pygments_lexer": "ipython3",
   "version": "3.11.8"
  }
 },
 "nbformat": 4,
 "nbformat_minor": 5
}
