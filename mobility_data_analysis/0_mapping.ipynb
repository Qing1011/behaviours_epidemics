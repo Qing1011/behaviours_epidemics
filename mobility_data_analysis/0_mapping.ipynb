{
 "cells": [
  {
   "cell_type": "code",
   "execution_count": 1,
   "id": "ae70a8d2",
   "metadata": {},
   "outputs": [],
   "source": [
    "import pandas as pd\n",
    "import numpy as np\n",
    "import os\n",
    "import csv\n",
    "import gzip\n",
    "import sys\n",
    "import datetime\n",
    "import ast\n",
    "import matplotlib.pyplot as plt\n",
    "from collections import Counter\n",
    "import geopandas as gpd"
   ]
  },
  {
   "cell_type": "code",
   "execution_count": 4,
   "id": "08e99bfc",
   "metadata": {},
   "outputs": [
    {
     "name": "stdout",
     "output_type": "stream",
     "text": [
      "215\n",
      "178\n"
     ]
    }
   ],
   "source": [
    "zcta_modzcta = pd.read_csv('../data/ZCTA-to-MODZCTA.csv') ##nyc health data\n",
    "zcta_modzcta.head()## int\n",
    "zcta_modzcta['ZCTA_str'] = zcta_modzcta.ZCTA.astype(str)\n",
    "print(zcta_modzcta['ZCTA'].nunique())\n",
    "print(zcta_modzcta['MODZCTA'].nunique())"
   ]
  },
  {
   "cell_type": "code",
   "execution_count": 25,
   "id": "7d55e0ba",
   "metadata": {},
   "outputs": [],
   "source": [
    "df_zip_zcta = pd.read_csv('../data/zip_zcta_xref.csv') ### this is acurate actully\n",
    "#https://github.com/censusreporter/acs-aggregate/tree/master\n",
    "modzcta_zip = zcta_modzcta.merge(df_zip_zcta, left_on='ZCTA', right_on='zcta', how='left')\n",
    "zipcode_counts = pd.read_csv('../results/zipcode_counts.csv')\n",
    "############# check the number of zipcodes in the survey data\n",
    "### there are some zipcodes are not considered by the nyc government ###\n",
    "# survey_zipcode_ls = zipcode_counts[zipcode_counts['Count']>10]['zip_code'].values.tolist()\n",
    "# df_selected = modzcta_zip[modzcta_zip['zip_code'].isin(survey_zipcode_ls)]\n",
    "# check_ls = df_selected['MODZCTA'].values.tolist()\n",
    "# len(modzcta_zip[modzcta_zip['MODZCTA'].isin(check_ls)]) ### not equal to the df selected "
   ]
  },
  {
   "cell_type": "code",
   "execution_count": 40,
   "id": "47ec273a",
   "metadata": {},
   "outputs": [],
   "source": [
    "nyc_zip = pd.read_csv('../data/nyc_zipcodes.csv')\n",
    "nyc_zip_ls = nyc_zip['nyc_zip'].values.tolist()"
   ]
  },
  {
   "cell_type": "code",
   "execution_count": 42,
   "id": "c5777098",
   "metadata": {},
   "outputs": [],
   "source": [
    "modzcta_zip_counts = pd.merge(modzcta_zip, zipcode_counts, left_on='zip_code', right_on='zip_code', how='outer')\n",
    "modzcta_zip_counts = modzcta_zip_counts[modzcta_zip_counts['zip_code'].isin(nyc_zip_ls)]"
   ]
  },
  {
   "cell_type": "code",
   "execution_count": 43,
   "id": "0ee9856e",
   "metadata": {},
   "outputs": [],
   "source": [
    "# modzcta_zip_counts.to_csv('../results/modzcta_zip_counts.csv', index=False)\n",
    "### the zipcode are individuallt mapped to the MODZCTA"
   ]
  },
  {
   "cell_type": "code",
   "execution_count": 44,
   "id": "67e67f37",
   "metadata": {},
   "outputs": [],
   "source": [
    "portions = pd.read_excel('../data/TRACT_ZIP_032020.xlsx')\n",
    "### it covers the whole usa "
   ]
  },
  {
   "cell_type": "code",
   "execution_count": 45,
   "id": "735cc96c",
   "metadata": {},
   "outputs": [],
   "source": [
    "### merge the with the tract data \n",
    "df_tract_modzcta = pd.merge(modzcta_zip_counts, portions, left_on='zip_code', right_on='ZIP', how='outer')"
   ]
  },
  {
   "cell_type": "code",
   "execution_count": 47,
   "id": "2edc7b36",
   "metadata": {},
   "outputs": [],
   "source": [
    "nyc_tract_modzcta = df_tract_modzcta[df_tract_modzcta['zip_code'].isin(nyc_zip_ls)] ### there are some zipcodes are not in the tract data"
   ]
  },
  {
   "cell_type": "code",
   "execution_count": 48,
   "id": "0407fbc0",
   "metadata": {},
   "outputs": [
    {
     "data": {
      "text/html": [
       "<div>\n",
       "<style scoped>\n",
       "    .dataframe tbody tr th:only-of-type {\n",
       "        vertical-align: middle;\n",
       "    }\n",
       "\n",
       "    .dataframe tbody tr th {\n",
       "        vertical-align: top;\n",
       "    }\n",
       "\n",
       "    .dataframe thead th {\n",
       "        text-align: right;\n",
       "    }\n",
       "</style>\n",
       "<table border=\"1\" class=\"dataframe\">\n",
       "  <thead>\n",
       "    <tr style=\"text-align: right;\">\n",
       "      <th></th>\n",
       "      <th>ZCTA</th>\n",
       "      <th>MODZCTA</th>\n",
       "      <th>ZCTA_str</th>\n",
       "      <th>zip_code</th>\n",
       "      <th>zcta</th>\n",
       "      <th>source</th>\n",
       "      <th>Value</th>\n",
       "      <th>Count</th>\n",
       "      <th>TRACT</th>\n",
       "      <th>ZIP</th>\n",
       "      <th>RES_RATIO</th>\n",
       "      <th>BUS_RATIO</th>\n",
       "      <th>OTH_RATIO</th>\n",
       "      <th>TOT_RATIO</th>\n",
       "    </tr>\n",
       "  </thead>\n",
       "  <tbody>\n",
       "    <tr>\n",
       "      <th>12924</th>\n",
       "      <td>10001.0</td>\n",
       "      <td>10001.0</td>\n",
       "      <td>10001</td>\n",
       "      <td>10001.0</td>\n",
       "      <td>10001.0</td>\n",
       "      <td>geonames</td>\n",
       "      <td>10001 Chelsea - Clinton (Manhattan)</td>\n",
       "      <td>22.0</td>\n",
       "      <td>36061005600</td>\n",
       "      <td>10001</td>\n",
       "      <td>0.094639</td>\n",
       "      <td>0.130724</td>\n",
       "      <td>0.007968</td>\n",
       "      <td>0.099144</td>\n",
       "    </tr>\n",
       "    <tr>\n",
       "      <th>12925</th>\n",
       "      <td>10001.0</td>\n",
       "      <td>10001.0</td>\n",
       "      <td>10001</td>\n",
       "      <td>10001.0</td>\n",
       "      <td>10001.0</td>\n",
       "      <td>geonames</td>\n",
       "      <td>10001 Chelsea - Clinton (Manhattan)</td>\n",
       "      <td>22.0</td>\n",
       "      <td>36061005800</td>\n",
       "      <td>10001</td>\n",
       "      <td>0.253369</td>\n",
       "      <td>0.320221</td>\n",
       "      <td>0.390519</td>\n",
       "      <td>0.292938</td>\n",
       "    </tr>\n",
       "    <tr>\n",
       "      <th>12926</th>\n",
       "      <td>10001.0</td>\n",
       "      <td>10001.0</td>\n",
       "      <td>10001</td>\n",
       "      <td>10001.0</td>\n",
       "      <td>10001.0</td>\n",
       "      <td>geonames</td>\n",
       "      <td>10001 Chelsea - Clinton (Manhattan)</td>\n",
       "      <td>22.0</td>\n",
       "      <td>36061007100</td>\n",
       "      <td>10001</td>\n",
       "      <td>0.000000</td>\n",
       "      <td>0.411816</td>\n",
       "      <td>0.090000</td>\n",
       "      <td>0.085189</td>\n",
       "    </tr>\n",
       "    <tr>\n",
       "      <th>12927</th>\n",
       "      <td>10001.0</td>\n",
       "      <td>10001.0</td>\n",
       "      <td>10001</td>\n",
       "      <td>10001.0</td>\n",
       "      <td>10001.0</td>\n",
       "      <td>geonames</td>\n",
       "      <td>10001 Chelsea - Clinton (Manhattan)</td>\n",
       "      <td>22.0</td>\n",
       "      <td>36061007600</td>\n",
       "      <td>10001</td>\n",
       "      <td>1.000000</td>\n",
       "      <td>0.898978</td>\n",
       "      <td>0.971209</td>\n",
       "      <td>0.945020</td>\n",
       "    </tr>\n",
       "    <tr>\n",
       "      <th>12928</th>\n",
       "      <td>10001.0</td>\n",
       "      <td>10001.0</td>\n",
       "      <td>10001</td>\n",
       "      <td>10001.0</td>\n",
       "      <td>10001.0</td>\n",
       "      <td>geonames</td>\n",
       "      <td>10001 Chelsea - Clinton (Manhattan)</td>\n",
       "      <td>22.0</td>\n",
       "      <td>36061008400</td>\n",
       "      <td>10001</td>\n",
       "      <td>0.018452</td>\n",
       "      <td>0.057143</td>\n",
       "      <td>0.135922</td>\n",
       "      <td>0.042864</td>\n",
       "    </tr>\n",
       "  </tbody>\n",
       "</table>\n",
       "</div>"
      ],
      "text/plain": [
       "          ZCTA  MODZCTA ZCTA_str  zip_code     zcta    source  \\\n",
       "12924  10001.0  10001.0    10001   10001.0  10001.0  geonames   \n",
       "12925  10001.0  10001.0    10001   10001.0  10001.0  geonames   \n",
       "12926  10001.0  10001.0    10001   10001.0  10001.0  geonames   \n",
       "12927  10001.0  10001.0    10001   10001.0  10001.0  geonames   \n",
       "12928  10001.0  10001.0    10001   10001.0  10001.0  geonames   \n",
       "\n",
       "                                     Value  Count        TRACT    ZIP  \\\n",
       "12924  10001 Chelsea - Clinton (Manhattan)   22.0  36061005600  10001   \n",
       "12925  10001 Chelsea - Clinton (Manhattan)   22.0  36061005800  10001   \n",
       "12926  10001 Chelsea - Clinton (Manhattan)   22.0  36061007100  10001   \n",
       "12927  10001 Chelsea - Clinton (Manhattan)   22.0  36061007600  10001   \n",
       "12928  10001 Chelsea - Clinton (Manhattan)   22.0  36061008400  10001   \n",
       "\n",
       "       RES_RATIO  BUS_RATIO  OTH_RATIO  TOT_RATIO  \n",
       "12924   0.094639   0.130724   0.007968   0.099144  \n",
       "12925   0.253369   0.320221   0.390519   0.292938  \n",
       "12926   0.000000   0.411816   0.090000   0.085189  \n",
       "12927   1.000000   0.898978   0.971209   0.945020  \n",
       "12928   0.018452   0.057143   0.135922   0.042864  "
      ]
     },
     "execution_count": 48,
     "metadata": {},
     "output_type": "execute_result"
    }
   ],
   "source": [
    "nyc_tract_modzcta.head() ### there are some zipcodes are not in the tract data"
   ]
  },
  {
   "cell_type": "code",
   "execution_count": 109,
   "id": "39d2199d",
   "metadata": {},
   "outputs": [
    {
     "name": "stdout",
     "output_type": "stream",
     "text": [
      "       ZCTA  MODZCTA ZCTA_str  ZCTA5        GEOID  zip_code     zcta  \\\n",
      "1027  10024    10024    10024  10024  36061019900     10024  10024.0   \n",
      "1028  10024    10024    10024  10024  36061019900     10055  10024.0   \n",
      "1029  10024    10024    10024  10024  36061019900     10060  10024.0   \n",
      "1030  10024    10024    10024  10024  36061019900     10087  10024.0   \n",
      "1031  10024    10024    10024  10024  36061019900     10090  10024.0   \n",
      "1032  10024    10024    10024  10024  36061019900     10101  10024.0   \n",
      "1033  10024    10024    10024  10024  36061019900     10102  10024.0   \n",
      "1034  10024    10024    10024  10024  36061019900     10108  10024.0   \n",
      "1035  10024    10024    10024  10024  36061019900     10109  10024.0   \n",
      "1036  10024    10024    10024  10024  36061019900     10113  10024.0   \n",
      "1037  10024    10024    10024  10024  36061019900     10114  10024.0   \n",
      "1038  10024    10024    10024  10024  36061019900     10116  10024.0   \n",
      "1039  10024    10024    10024  10024  36061019900     10117  10024.0   \n",
      "1040  10024    10024    10024  10024  36061019900     10124  10024.0   \n",
      "1041  10024    10024    10024  10024  36061019900     10125  10024.0   \n",
      "1042  10024    10024    10024  10024  36061019900     10126  10024.0   \n",
      "1043  10024    10024    10024  10024  36061019900     10129  10024.0   \n",
      "1044  10024    10024    10024  10024  36061019900     10130  10024.0   \n",
      "1045  10024    10024    10024  10024  36061019900     10131  10024.0   \n",
      "1046  10024    10024    10024  10024  36061019900     10132  10024.0   \n",
      "1047  10024    10024    10024  10024  36061019900     10133  10024.0   \n",
      "1048  10024    10024    10024  10024  36061019900     10138  10024.0   \n",
      "1049  10024    10024    10024  10024  36061019900     10150  10024.0   \n",
      "1050  10024    10024    10024  10024  36061019900     10156  10024.0   \n",
      "1051  10024    10024    10024  10024  36061019900     10157  10024.0   \n",
      "1052  10024    10024    10024  10024  36061019900     10159  10024.0   \n",
      "1053  10024    10024    10024  10024  36061019900     10160  10024.0   \n",
      "1054  10024    10024    10024  10024  36061019900     10161  10024.0   \n",
      "1055  10024    10024    10024  10024  36061019900     10163  10024.0   \n",
      "1056  10024    10024    10024  10024  36061019900     10164  10024.0   \n",
      "1057  10024    10024    10024  10024  36061019900     10179  10024.0   \n",
      "1058  10024    10024    10024  10024  36061019900     10185  10024.0   \n",
      "1059  10024    10024    10024  10024  36061019900     10211  10024.0   \n",
      "1060  10024    10024    10024  10024  36061019900     10261  10024.0   \n",
      "1061  10024    10024    10024  10024  36061019900     10268  10024.0   \n",
      "1062  10024    10024    10024  10024  36061019900     10269  10024.0   \n",
      "1063  10024    10024    10024  10024  36061019900     10272  10024.0   \n",
      "1064  10024    10024    10024  10024  36061019900     10274  10024.0   \n",
      "1065  10024    10024    10024  10024  36061019900     10275  10024.0   \n",
      "1066  10024    10024    10024  10024  36061019900     10276  10024.0   \n",
      "1067  10024    10024    10024  10024  36061019900     10277  10024.0   \n",
      "\n",
      "        source    GEOID_num  zip_code_int  \n",
      "1027  geonames  36061019900         10024  \n",
      "1028  geonames  36061019900         10055  \n",
      "1029  geonames  36061019900         10060  \n",
      "1030  geonames  36061019900         10087  \n",
      "1031  geonames  36061019900         10090  \n",
      "1032  geonames  36061019900         10101  \n",
      "1033  geonames  36061019900         10102  \n",
      "1034  geonames  36061019900         10108  \n",
      "1035  geonames  36061019900         10109  \n",
      "1036  geonames  36061019900         10113  \n",
      "1037  geonames  36061019900         10114  \n",
      "1038  geonames  36061019900         10116  \n",
      "1039  geonames  36061019900         10117  \n",
      "1040  geonames  36061019900         10124  \n",
      "1041  geonames  36061019900         10125  \n",
      "1042  geonames  36061019900         10126  \n",
      "1043  geonames  36061019900         10129  \n",
      "1044  geonames  36061019900         10130  \n",
      "1045  geonames  36061019900         10131  \n",
      "1046  geonames  36061019900         10132  \n",
      "1047  geonames  36061019900         10133  \n",
      "1048  geonames  36061019900         10138  \n",
      "1049  geonames  36061019900         10150  \n",
      "1050  geonames  36061019900         10156  \n",
      "1051  geonames  36061019900         10157  \n",
      "1052  geonames  36061019900         10159  \n",
      "1053  geonames  36061019900         10160  \n",
      "1054  geonames  36061019900         10161  \n",
      "1055  geonames  36061019900         10163  \n",
      "1056  geonames  36061019900         10164  \n",
      "1057  geonames  36061019900         10179  \n",
      "1058  geonames  36061019900         10185  \n",
      "1059  geonames  36061019900         10211  \n",
      "1060  geonames  36061019900         10261  \n",
      "1061  geonames  36061019900         10268  \n",
      "1062  geonames  36061019900         10269  \n",
      "1063  geonames  36061019900         10272  \n",
      "1064  geonames  36061019900         10274  \n",
      "1065  geonames  36061019900         10275  \n",
      "1066  geonames  36061019900         10276  \n",
      "1067  geonames  36061019900         10277  \n",
      "---\n"
     ]
    }
   ],
   "source": [
    "### one GEOID has multiple MODZCTA, we choose the one with the most RES\n",
    "### one zip code has multiple MODZCTA, \n",
    "for id_tochek in GOEID_MULTIPLES[2:3]:\n",
    "    subdf = portions[portions['TRACT']==id_tochek]\n",
    "    max_idx = subdf['TOT_RATIO'].idxmax()\n",
    "    # Retrieve the row with the maximum value in 'col1'\n",
    "    max_row = subdf.loc[max_idx]\n",
    "    zip_to_use = max_row['ZIP'] ### int \n",
    "    to_delete = tract_mod_zip[(tract_mod_zip['GEOID_num']==id_tochek) & (tract_mod_zip['zip_code']!=zip_to_use)]\n",
    "    print(to_delete)\n",
    "    print('---')"
   ]
  },
  {
   "cell_type": "code",
   "execution_count": 73,
   "id": "a0df5ed0",
   "metadata": {},
   "outputs": [],
   "source": [
    "df_tai = pd.read_excel('../Data/2_uhfOrder.xlsx') ### this zip is not ZCTA !\n",
    "df_tai['zip'] = df_tai['Zipcodes'].str.split(',')\n",
    "combined_list = []\n",
    "for sublist in df_tai['zip']:\n",
    "    combined_list.extend(sublist)\n",
    "zip_order = pd.DataFrame({'zip_tai':combined_list}) \n",
    "zip_order['Tai_idx'] = zip_order['zip_tai'].index"
   ]
  },
  {
   "cell_type": "code",
   "execution_count": 75,
   "id": "ca1ed846",
   "metadata": {},
   "outputs": [
    {
     "data": {
      "text/plain": [
       "207"
      ]
     },
     "execution_count": 75,
     "metadata": {},
     "output_type": "execute_result"
    }
   ],
   "source": [
    "len(zip_order)"
   ]
  },
  {
   "cell_type": "code",
   "execution_count": 76,
   "id": "1dc78e98",
   "metadata": {},
   "outputs": [
    {
     "data": {
      "text/plain": [
       "314"
      ]
     },
     "execution_count": 76,
     "metadata": {},
     "output_type": "execute_result"
    }
   ],
   "source": [
    "tract_mod_zip['zip_code'].nunique()"
   ]
  },
  {
   "cell_type": "code",
   "execution_count": 101,
   "id": "6461313f",
   "metadata": {},
   "outputs": [],
   "source": [
    "###  in our study\n",
    "### the zipcode == MODZCTA\n",
    "df_zipcode = pd.read_csv('zipcode_counts_new.csv')\n",
    "our_study = df_zipcode['zip_code'].values.tolist()[:22]\n",
    "tract_mod_zip['zip_code_int'] = tract_mod_zip['zip_code'].astype(int)\n",
    "for z in our_study:\n",
    "    if tract_mod_zip[tract_mod_zip['zip_code_int']==z]['MODZCTA'].nunique()!=1:\n",
    "        print('zip is not unique modzcta', z)"
   ]
  },
  {
   "cell_type": "code",
   "execution_count": 162,
   "id": "94a79ba0",
   "metadata": {},
   "outputs": [],
   "source": [
    "cbg_data = np.loadtxt('cbgs_list.csv')"
   ]
  },
  {
   "cell_type": "markdown",
   "id": "0abbe02f",
   "metadata": {},
   "source": []
  }
 ],
 "metadata": {
  "kernelspec": {
   "display_name": "geo",
   "language": "python",
   "name": "python3"
  },
  "language_info": {
   "codemirror_mode": {
    "name": "ipython",
    "version": 3
   },
   "file_extension": ".py",
   "mimetype": "text/x-python",
   "name": "python",
   "nbconvert_exporter": "python",
   "pygments_lexer": "ipython3",
   "version": "3.11.8"
  }
 },
 "nbformat": 4,
 "nbformat_minor": 5
}
