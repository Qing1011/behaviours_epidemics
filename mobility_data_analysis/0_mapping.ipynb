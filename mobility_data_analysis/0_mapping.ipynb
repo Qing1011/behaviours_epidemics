{
 "cells": [
  {
   "cell_type": "code",
   "execution_count": 1,
   "id": "ae70a8d2",
   "metadata": {},
   "outputs": [],
   "source": [
    "import pandas as pd\n",
    "import numpy as np\n",
    "import os\n",
    "import csv\n",
    "import gzip\n",
    "import sys\n",
    "import datetime\n",
    "import ast\n",
    "import matplotlib.pyplot as plt\n",
    "from collections import Counter\n",
    "import geopandas as gpd"
   ]
  },
  {
   "cell_type": "markdown",
   "id": "88ea0e9e",
   "metadata": {},
   "source": [
    "The mapping of the data is as follows:\n",
    "\n",
    "- ZCTA to MODZCTA, this is created by the NYC DOHMH\n",
    "- zip to zcta is created by a lab by identifying the boundaries of the ZCTA and ZIP codes\n",
    "- Thus, we have zip code to MODZCTA mapping (outer merge) \n",
    "several zipcodes belong to the same MODZCTA\n",
    "- Then, NYC DOHMH has a list of zipcodes they care, we filter out the zip codes that are not in the list\n",
    "- Tract to zipcode has covered the whole usa, we could add tract to the mapping\n",
    "- TRACT to zip is not unique, we use the resident ratio to assign the tract to the zip code, [(tract1, V1)...]-->[(zip1, V1*ratio_(tract1inzip2)), (zip2, V1*ratio_(tract1inzip2))...]\n",
    "\n",
    "**Use the zipcode to modzcta mapping to get the modzcta for each zipcode**\n",
    "\n",
    "**Use the modzcta to tract mapping to get the tract for each modzcta** \n",
    "\n",
    "**They can not be used interchangeably**."
   ]
  },
  {
   "cell_type": "code",
   "execution_count": 2,
   "id": "08e99bfc",
   "metadata": {},
   "outputs": [
    {
     "name": "stdout",
     "output_type": "stream",
     "text": [
      "215\n",
      "178\n"
     ]
    }
   ],
   "source": [
    "zcta_modzcta = pd.read_csv('../data/mappings/ZCTA-to-MODZCTA.csv') \n",
    "##nyc health data, however, \n",
    "## not all the zcta and modzcta belongs to nyc: 11001 , 11003, 11040,(Nassian county, long island)\n",
    "#  11371( La Guardia Airport), 11430 (JFK Airport) 99999(Central park, unkown)\n",
    "zcta_modzcta.head()## int\n",
    "zcta_modzcta['ZCTA_str'] = zcta_modzcta.ZCTA.astype(str)\n",
    "print(zcta_modzcta['ZCTA'].nunique())\n",
    "print(zcta_modzcta['MODZCTA'].nunique())"
   ]
  },
  {
   "cell_type": "code",
   "execution_count": 3,
   "id": "7d55e0ba",
   "metadata": {},
   "outputs": [],
   "source": [
    "df_zip_zcta = pd.read_csv('../data/mappings/zip_zcta_xref.csv') ### this is acurate actully\n",
    "#https://github.com/censusreporter/acs-aggregate/tree/master\n",
    "modzcta_zip = zcta_modzcta.merge(df_zip_zcta, left_on='ZCTA', right_on='zcta', how='left')\n",
    "zipcode_counts = pd.read_csv('../results/counts/zipcode_counts.csv')\n",
    "############# check the number of zipcodes in the survey data\n",
    "### there are some zipcodes are not considered by the nyc government ###\n",
    "# survey_zipcode_ls = zipcode_counts[zipcode_counts['Count']>10]['zip_code'].values.tolist()\n",
    "# df_selected = modzcta_zip[modzcta_zip['zip_code'].isin(survey_zipcode_ls)]\n",
    "# check_ls = df_selected['MODZCTA'].values.tolist()\n",
    "# len(modzcta_zip[modzcta_zip['MODZCTA'].isin(check_ls)]) ### not equal to the df selected \n",
    "modzcta_zip_counts = pd.merge(modzcta_zip, zipcode_counts, left_on='zip_code', right_on='zip_code', how='outer')"
   ]
  },
  {
   "cell_type": "code",
   "execution_count": 4,
   "id": "47ec273a",
   "metadata": {},
   "outputs": [
    {
     "name": "stdout",
     "output_type": "stream",
     "text": [
      "209\n"
     ]
    }
   ],
   "source": [
    "df_tai = pd.read_excel('../Data/mappings/2_uhfOrder.xlsx') \n",
    "### just used to order the zipcodes\n",
    "### this zip is not ZCTA ! i have amnually checked the zipcodes\n",
    "df_tai['zip'] = df_tai['Zipcodes'].str.split(',')\n",
    "combined_list = []\n",
    "for sublist in df_tai['zip']:\n",
    "    combined_list.extend(sublist)\n",
    "nyc_zip_ls = [int(i) for i in combined_list] #### the order is not be changed\n",
    "zip_order = pd.DataFrame({'zip_nyc':nyc_zip_ls}) \n",
    "zip_order['zip_idx'] = zip_order['zip_nyc'].index\n",
    "print(len(nyc_zip_ls))"
   ]
  },
  {
   "cell_type": "code",
   "execution_count": 5,
   "id": "35058174",
   "metadata": {},
   "outputs": [
    {
     "data": {
      "text/plain": [
       "{11001, 11003, 11040, 11371, 11430, 99999}"
      ]
     },
     "execution_count": 5,
     "metadata": {},
     "output_type": "execute_result"
    }
   ],
   "source": [
    "set(zcta_modzcta['ZCTA'].unique()) - set(nyc_zip_ls)"
   ]
  },
  {
   "cell_type": "code",
   "execution_count": 6,
   "id": "c5777098",
   "metadata": {},
   "outputs": [],
   "source": [
    "modzcta_zip_counts = modzcta_zip_counts[modzcta_zip_counts['zip_code'].isin(nyc_zip_ls)]\n",
    "modzcta_zip_counts = modzcta_zip_counts.merge(zip_order, left_on='zip_code', right_on='zip_nyc', how='left')\n",
    "modzcta_zip_counts.sort_values(by='zip_idx',ascending=True,inplace=True)"
   ]
  },
  {
   "cell_type": "code",
   "execution_count": 7,
   "id": "d3e884d4",
   "metadata": {},
   "outputs": [],
   "source": [
    "ny_modzcat_ls = modzcta_zip_counts.drop_duplicates(subset='MODZCTA', keep='first')['MODZCTA'].to_list()\n",
    "ny_modzcat_order = pd.DataFrame({'MODZCTA':ny_modzcat_ls})\n",
    "ny_modzcat_order['mod_idx'] = ny_modzcat_order['MODZCTA'].index"
   ]
  },
  {
   "cell_type": "code",
   "execution_count": 8,
   "id": "8ff459e3",
   "metadata": {},
   "outputs": [],
   "source": [
    "# modzcta_zip_counts\n",
    "grouped_modzcta = modzcta_zip_counts.groupby('MODZCTA')['Count'].sum().reset_index().rename(columns={'Count': 'modzcta_count'})\n",
    "modzcta_zip_counts = modzcta_zip_counts.merge(grouped_modzcta, on='MODZCTA', how='left')\n",
    "sorted_modzcta_counts = modzcta_zip_counts.sort_values(by='modzcta_count',ascending=False)\n",
    "sorted_modzcta_counts = sorted_modzcta_counts.drop(columns=['zcta','source'])\n",
    "df_modzcta = sorted_modzcta_counts.merge(ny_modzcat_order, on='MODZCTA', how='left').drop(columns=['zip_nyc','zip_idx'])\n",
    "df_modzcta.to_csv('../results/counts/modzcta_zip_counts.csv', index=False)\n",
    "### the zipcode are individually mapped to the MODZCTA, except for \n",
    "#10005\t10005\t10005\t Lower Manhattan (Manhattan) 18\n",
    "#10005\t10271\t10271\t Lower Manhattan (Manhattan) 1\n",
    "######################################################\n",
    "#10007\t10007\t10007\tLower Manhattan (Manhattan)\t12 \n",
    "#10007\t10279\t10279\tLower Manhattan (Manhattan)\t1\t"
   ]
  },
  {
   "cell_type": "code",
   "execution_count": 9,
   "id": "ecabce83",
   "metadata": {},
   "outputs": [
    {
     "data": {
      "text/plain": [
       "209"
      ]
     },
     "execution_count": 9,
     "metadata": {},
     "output_type": "execute_result"
    }
   ],
   "source": [
    "len(df_modzcta) ### should the number of the zipcodes in the nyc"
   ]
  },
  {
   "cell_type": "code",
   "execution_count": 10,
   "id": "67e67f37",
   "metadata": {},
   "outputs": [],
   "source": [
    "portions = pd.read_excel('../data/mappings/TRACT_ZIP_122021.xlsx')\n",
    "# portions = pd.read_excel('../data/TRACT_ZIP_032020.xlsx')\n",
    "### it covers the whole usa "
   ]
  },
  {
   "cell_type": "code",
   "execution_count": 11,
   "id": "735cc96c",
   "metadata": {},
   "outputs": [],
   "source": [
    "### merge the with the tract data \n",
    "df_tract_modzcta = pd.merge(df_modzcta, portions, left_on='zip_code', right_on='zip', how='outer') #2021\n",
    "# df_tract_modzcta = pd.merge(df_modzcta, portions, left_on='zip_code', right_on='ZIP', how='outer') #2020\n",
    "nyc_tract_modzcta = df_tract_modzcta[df_tract_modzcta['zip_code'].isin(nyc_zip_ls)].reset_index(drop=True) ### there are some zipcodes are not in the tract data"
   ]
  },
  {
   "cell_type": "code",
   "execution_count": 12,
   "id": "a42fc9e9",
   "metadata": {},
   "outputs": [],
   "source": [
    "### add borough information\n",
    "df_borough = pd.read_csv('../Data/mappings/data-by-modzcta.csv')\n",
    "df_borough['borough'] = df_borough['BOROUGH_GROUP'].replace({'Manhattan':'MN', 'Brooklyn':'BK', 'Queens':'QN', 'Bronx':'BX', 'Staten Island':'SI'})\n",
    "df_borough_s = df_borough[['MODIFIED_ZCTA','borough']].copy().rename(columns={'MODIFIED_ZCTA':'MODZCTA'})\n",
    "nyc_tract_modzcta = nyc_tract_modzcta.merge(df_borough_s, on='MODZCTA', how='left')"
   ]
  },
  {
   "cell_type": "code",
   "execution_count": 13,
   "id": "330475d9",
   "metadata": {},
   "outputs": [],
   "source": [
    "nyc_tract_modzcta.to_csv('../data/mappings/nyc_tract_modzcta_v2021.csv', index=False)"
   ]
  },
  {
   "cell_type": "code",
   "execution_count": 14,
   "id": "0a58bff5",
   "metadata": {},
   "outputs": [
    {
     "data": {
      "text/plain": [
       "177"
      ]
     },
     "execution_count": 14,
     "metadata": {},
     "output_type": "execute_result"
    }
   ],
   "source": [
    "nyc_tract_modzcta['mod_idx'].nunique() "
   ]
  },
  {
   "cell_type": "markdown",
   "id": "4c1961d0",
   "metadata": {},
   "source": [
    "#### the following is the version to do the one to one mapping, it will reduce the visits of some zipcodes, like 10001, it should be used in the POI mapping"
   ]
  },
  {
   "cell_type": "code",
   "execution_count": 15,
   "id": "0407fbc0",
   "metadata": {},
   "outputs": [],
   "source": [
    "filtered_df = nyc_tract_modzcta.groupby('tract').filter(lambda x: len(x) > 1)\n",
    "# filtered_df.to_csv('../results/filtered_df.csv', index=False)"
   ]
  },
  {
   "cell_type": "code",
   "execution_count": 16,
   "id": "9df41fcf",
   "metadata": {},
   "outputs": [
    {
     "name": "stdout",
     "output_type": "stream",
     "text": [
      "805\n"
     ]
    }
   ],
   "source": [
    "GOEID_MULTIPLES = filtered_df['tract'].unique()\n",
    "print(len(GOEID_MULTIPLES))"
   ]
  },
  {
   "cell_type": "code",
   "execution_count": 17,
   "id": "39d2199d",
   "metadata": {},
   "outputs": [],
   "source": [
    "### one GEOID has multiple MODZCTA, we choose the one with the most RES\n",
    "### one zip code has multiple MODZCTA, \n",
    "for id_tochek in GOEID_MULTIPLES:\n",
    "    subdf = nyc_tract_modzcta[nyc_tract_modzcta['tract']==id_tochek]\n",
    "    max_idx = subdf['tot_ratio'].idxmax()\n",
    "    # Retrieve the row with the maximum value in 'col1'\n",
    "    max_row = subdf.loc[max_idx]\n",
    "    zip_to_use = max_row['zip'] ### int \n",
    "    # nyc_tract_modzcta = nyc_tract_modzcta[~((nyc_tract_modzcta['TRACT']==id_tochek) & (nyc_tract_modzcta['ZIP']!=zip_to_use))]\n",
    "    sub_idx_ls = subdf.index.to_list()\n",
    "    sub_idx_ls.remove(max_idx)\n",
    "    nyc_tract_modzcta.drop(sub_idx_ls, inplace=True)"
   ]
  },
  {
   "cell_type": "code",
   "execution_count": 18,
   "id": "1ebc4f53",
   "metadata": {},
   "outputs": [],
   "source": [
    "nyc_tract_modzcta.to_csv('../data/mappings/nyc_tract_modzcta_poi_v2021.csv', index=False)"
   ]
  },
  {
   "cell_type": "code",
   "execution_count": 19,
   "id": "f562664d",
   "metadata": {},
   "outputs": [
    {
     "data": {
      "text/html": [
       "<div>\n",
       "<style scoped>\n",
       "    .dataframe tbody tr th:only-of-type {\n",
       "        vertical-align: middle;\n",
       "    }\n",
       "\n",
       "    .dataframe tbody tr th {\n",
       "        vertical-align: top;\n",
       "    }\n",
       "\n",
       "    .dataframe thead th {\n",
       "        text-align: right;\n",
       "    }\n",
       "</style>\n",
       "<table border=\"1\" class=\"dataframe\">\n",
       "  <thead>\n",
       "    <tr style=\"text-align: right;\">\n",
       "      <th></th>\n",
       "      <th>ZCTA</th>\n",
       "      <th>MODZCTA</th>\n",
       "      <th>ZCTA_str</th>\n",
       "      <th>zip_code</th>\n",
       "      <th>Value</th>\n",
       "      <th>Count</th>\n",
       "      <th>modzcta_count</th>\n",
       "      <th>mod_idx</th>\n",
       "      <th>tract</th>\n",
       "      <th>zip</th>\n",
       "      <th>usps_zip_pref_city</th>\n",
       "      <th>usps_zip_pref_state</th>\n",
       "      <th>res_ratio</th>\n",
       "      <th>bus_ratio</th>\n",
       "      <th>oth_ratio</th>\n",
       "      <th>tot_ratio</th>\n",
       "      <th>borough</th>\n",
       "    </tr>\n",
       "  </thead>\n",
       "  <tbody>\n",
       "  </tbody>\n",
       "</table>\n",
       "</div>"
      ],
      "text/plain": [
       "Empty DataFrame\n",
       "Columns: [ZCTA, MODZCTA, ZCTA_str, zip_code, Value, Count, modzcta_count, mod_idx, tract, zip, usps_zip_pref_city, usps_zip_pref_state, res_ratio, bus_ratio, oth_ratio, tot_ratio, borough]\n",
       "Index: []"
      ]
     },
     "execution_count": 19,
     "metadata": {},
     "output_type": "execute_result"
    }
   ],
   "source": [
    "nyc_tract_modzcta.groupby('tract').filter(lambda x: len(x) > 1)"
   ]
  },
  {
   "cell_type": "code",
   "execution_count": 20,
   "id": "f262ebb2",
   "metadata": {},
   "outputs": [
    {
     "data": {
      "text/plain": [
       "True"
      ]
     },
     "execution_count": 20,
     "metadata": {},
     "output_type": "execute_result"
    }
   ],
   "source": [
    "nyc_tract_modzcta['tract'].nunique() == len(nyc_tract_modzcta)"
   ]
  },
  {
   "cell_type": "markdown",
   "id": "0abbe02f",
   "metadata": {},
   "source": []
  }
 ],
 "metadata": {
  "kernelspec": {
   "display_name": "geo",
   "language": "python",
   "name": "python3"
  },
  "language_info": {
   "codemirror_mode": {
    "name": "ipython",
    "version": 3
   },
   "file_extension": ".py",
   "mimetype": "text/x-python",
   "name": "python",
   "nbconvert_exporter": "python",
   "pygments_lexer": "ipython3",
   "version": "3.11.8"
  }
 },
 "nbformat": 4,
 "nbformat_minor": 5
}
