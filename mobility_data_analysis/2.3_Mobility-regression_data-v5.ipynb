{
 "cells": [
  {
   "cell_type": "code",
   "execution_count": 1,
   "id": "a00fde71",
   "metadata": {},
   "outputs": [],
   "source": [
    "import pandas as pd\n",
    "import numpy as np\n",
    "import os\n",
    "import csv\n",
    "import ast\n",
    "from collections import Counter\n",
    "import geopandas as gpd\n",
    "import h5py\n",
    "from datetime import datetime, timedelta\n",
    "#### personal packages####\n",
    "import sys"
   ]
  },
  {
   "cell_type": "code",
   "execution_count": 2,
   "id": "e449fb2b",
   "metadata": {},
   "outputs": [],
   "source": [
    "cluster_name = {0: 'Glocery&Pharmacies', 1: 'Retails', 2: 'Arts&Entertainment', 3: 'Restaurants&Bars',\n",
    "                4: 'Educations', 5: 'Healthcares', 6: 'others'}"
   ]
  },
  {
   "cell_type": "code",
   "execution_count": 3,
   "id": "06b4609c",
   "metadata": {},
   "outputs": [],
   "source": [
    "df_flow = pd.read_csv('../results/outflow_7c_wk_raw_loss_visitors.csv')\n",
    "df_flow['MODZCTA'] = df_flow['MODZCTA'].astype(str)"
   ]
  },
  {
   "cell_type": "code",
   "execution_count": 4,
   "id": "3abf82d9",
   "metadata": {},
   "outputs": [
    {
     "name": "stdout",
     "output_type": "stream",
     "text": [
      "Retails\n",
      "Arts&Entertainment\n",
      "Restaurants&Bars\n",
      "Educations\n",
      "Healthcares\n",
      "others\n"
     ]
    }
   ],
   "source": [
    "cluster_cols = [cluster_name[0]+'_{}'.format(i) for i in range(56)] \n",
    "# 56 weeks from 2020-02-04 to 2021-03-02\n",
    "# only need 53 weeks from 2020-02-24 to 2021-02-02\n",
    "df_vist_cluster_i = df_flow[['MODZCTA','mod_idx']+cluster_cols].copy()\n",
    "\n",
    "final_df = pd.melt(df_vist_cluster_i, id_vars=['MODZCTA','mod_idx'], value_vars = cluster_cols[3:3+51], var_name='week', value_name=cluster_name[0]+'_visits_weekly')\n",
    "#### \n",
    "# Correctly adjust the code to perform the intended replacement\n",
    "final_df['week'] = final_df['week'].apply(lambda x: (int(x.split('_')[1]) - 3))\n",
    "\n",
    "for c_idx in range(1,7):\n",
    "    print(cluster_name[c_idx])\n",
    "    cluster_cols = [cluster_name[c_idx]+'_{}'.format(i) for i in range(56)]\n",
    "    df_vist_cluster_i = df_flow[['MODZCTA', 'mod_idx']+cluster_cols].copy()\n",
    "    temp_df = pd.melt(df_vist_cluster_i, id_vars=['MODZCTA', 'mod_idx'], value_vars = cluster_cols[3:3+51], \n",
    "                    var_name='week', value_name=cluster_name[c_idx]+'_visits_weekly')\n",
    "    temp_df['week'] = temp_df['week'].apply(lambda x: (int(x.split('_')[1]) - 3))\n",
    "    final_df = pd.merge(final_df, temp_df, on=['MODZCTA','mod_idx','week'])"
   ]
  },
  {
   "cell_type": "markdown",
   "id": "192f8b67",
   "metadata": {},
   "source": [
    "Merge all the other data at the zipcode level"
   ]
  },
  {
   "cell_type": "code",
   "execution_count": 5,
   "id": "b8eb040a",
   "metadata": {},
   "outputs": [
    {
     "name": "stdout",
     "output_type": "stream",
     "text": [
      "6477\n"
     ]
    }
   ],
   "source": [
    "### 2 read scores data at zipcode level#########\n",
    "final_df['MODZCTA'] = final_df['MODZCTA'].astype(int)\n",
    "df_mod_score = pd.read_csv('../results/modzcta_scores.csv')\n",
    "df_2 = final_df.merge(df_mod_score, right_on = 'MODZCTA', left_on='MODZCTA',how='left')\n",
    "df_2.dropna(subset=['score_median'],inplace=True)\n",
    "print(len(df_2))"
   ]
  },
  {
   "cell_type": "code",
   "execution_count": 7,
   "id": "199fe375",
   "metadata": {},
   "outputs": [
    {
     "name": "stdout",
     "output_type": "stream",
     "text": [
      "6477\n"
     ]
    }
   ],
   "source": [
    "##### 3 social economic data ######\n",
    "df_sed_nyc = pd.read_csv('../Data/sed_nyc_modzcta_2021.csv')\n",
    "# df_sed_nyc = pd.read_csv('../Data/sed_old.csv')\n",
    "df_3 = df_2.merge(df_sed_nyc, right_on = 'MODZCTA', left_on='MODZCTA',how='left')\n",
    "print(len(df_3))"
   ]
  },
  {
   "cell_type": "code",
   "execution_count": 9,
   "id": "9c7b5acd",
   "metadata": {},
   "outputs": [],
   "source": [
    "df_borough = pd.read_csv('../Data/data-by-modzcta.csv')"
   ]
  },
  {
   "cell_type": "code",
   "execution_count": 12,
   "id": "c23be3dc",
   "metadata": {},
   "outputs": [
    {
     "data": {
      "text/html": [
       "<div>\n",
       "<style scoped>\n",
       "    .dataframe tbody tr th:only-of-type {\n",
       "        vertical-align: middle;\n",
       "    }\n",
       "\n",
       "    .dataframe tbody tr th {\n",
       "        vertical-align: top;\n",
       "    }\n",
       "\n",
       "    .dataframe thead th {\n",
       "        text-align: right;\n",
       "    }\n",
       "</style>\n",
       "<table border=\"1\" class=\"dataframe\">\n",
       "  <thead>\n",
       "    <tr style=\"text-align: right;\">\n",
       "      <th></th>\n",
       "      <th>MODIFIED_ZCTA</th>\n",
       "      <th>NEIGHBORHOOD_NAME</th>\n",
       "      <th>BOROUGH_GROUP</th>\n",
       "      <th>label</th>\n",
       "      <th>lat</th>\n",
       "      <th>lon</th>\n",
       "      <th>COVID_CONFIRMED_CASE_COUNT</th>\n",
       "      <th>COVID_PROBABLE_CASE_COUNT</th>\n",
       "      <th>COVID_CASE_COUNT</th>\n",
       "      <th>COVID_CONFIRMED_CASE_RATE</th>\n",
       "      <th>COVID_CASE_RATE</th>\n",
       "      <th>POP_DENOMINATOR</th>\n",
       "      <th>COVID_DEATH_COUNT</th>\n",
       "      <th>COVID_DEATH_RATE</th>\n",
       "    </tr>\n",
       "  </thead>\n",
       "  <tbody>\n",
       "    <tr>\n",
       "      <th>0</th>\n",
       "      <td>10001</td>\n",
       "      <td>Chelsea/NoMad/West Chelsea</td>\n",
       "      <td>Manhattan</td>\n",
       "      <td>10001, 10118</td>\n",
       "      <td>40.750693</td>\n",
       "      <td>-73.997137</td>\n",
       "      <td>9463</td>\n",
       "      <td>2379</td>\n",
       "      <td>11842</td>\n",
       "      <td>34269.98</td>\n",
       "      <td>42885.46</td>\n",
       "      <td>27613.09</td>\n",
       "      <td>68</td>\n",
       "      <td>246.26</td>\n",
       "    </tr>\n",
       "    <tr>\n",
       "      <th>1</th>\n",
       "      <td>10002</td>\n",
       "      <td>Chinatown/Lower East Side</td>\n",
       "      <td>Manhattan</td>\n",
       "      <td>10002</td>\n",
       "      <td>40.715781</td>\n",
       "      <td>-73.986176</td>\n",
       "      <td>24721</td>\n",
       "      <td>5163</td>\n",
       "      <td>29884</td>\n",
       "      <td>32820.11</td>\n",
       "      <td>39674.62</td>\n",
       "      <td>75322.71</td>\n",
       "      <td>481</td>\n",
       "      <td>638.59</td>\n",
       "    </tr>\n",
       "    <tr>\n",
       "      <th>2</th>\n",
       "      <td>10003</td>\n",
       "      <td>East Village/Gramercy/Greenwich Village</td>\n",
       "      <td>Manhattan</td>\n",
       "      <td>10003</td>\n",
       "      <td>40.731825</td>\n",
       "      <td>-73.989164</td>\n",
       "      <td>17104</td>\n",
       "      <td>3487</td>\n",
       "      <td>20591</td>\n",
       "      <td>31687.09</td>\n",
       "      <td>38147.16</td>\n",
       "      <td>53977.81</td>\n",
       "      <td>110</td>\n",
       "      <td>203.79</td>\n",
       "    </tr>\n",
       "    <tr>\n",
       "      <th>3</th>\n",
       "      <td>10004</td>\n",
       "      <td>Financial District</td>\n",
       "      <td>Manhattan</td>\n",
       "      <td>10004</td>\n",
       "      <td>40.703675</td>\n",
       "      <td>-74.013106</td>\n",
       "      <td>1098</td>\n",
       "      <td>314</td>\n",
       "      <td>1412</td>\n",
       "      <td>36943.38</td>\n",
       "      <td>47508.24</td>\n",
       "      <td>2972.12</td>\n",
       "      <td>3</td>\n",
       "      <td>100.94</td>\n",
       "    </tr>\n",
       "    <tr>\n",
       "      <th>4</th>\n",
       "      <td>10005</td>\n",
       "      <td>Financial District</td>\n",
       "      <td>Manhattan</td>\n",
       "      <td>10005</td>\n",
       "      <td>40.706092</td>\n",
       "      <td>-74.008861</td>\n",
       "      <td>2467</td>\n",
       "      <td>998</td>\n",
       "      <td>3465</td>\n",
       "      <td>28171.02</td>\n",
       "      <td>39567.32</td>\n",
       "      <td>8757.23</td>\n",
       "      <td>1</td>\n",
       "      <td>11.42</td>\n",
       "    </tr>\n",
       "    <tr>\n",
       "      <th>...</th>\n",
       "      <td>...</td>\n",
       "      <td>...</td>\n",
       "      <td>...</td>\n",
       "      <td>...</td>\n",
       "      <td>...</td>\n",
       "      <td>...</td>\n",
       "      <td>...</td>\n",
       "      <td>...</td>\n",
       "      <td>...</td>\n",
       "      <td>...</td>\n",
       "      <td>...</td>\n",
       "      <td>...</td>\n",
       "      <td>...</td>\n",
       "      <td>...</td>\n",
       "    </tr>\n",
       "    <tr>\n",
       "      <th>172</th>\n",
       "      <td>11691</td>\n",
       "      <td>Edgemere/Far Rockaway</td>\n",
       "      <td>Queens</td>\n",
       "      <td>11691</td>\n",
       "      <td>40.601330</td>\n",
       "      <td>-73.761357</td>\n",
       "      <td>24040</td>\n",
       "      <td>2801</td>\n",
       "      <td>26841</td>\n",
       "      <td>35957.71</td>\n",
       "      <td>40147.30</td>\n",
       "      <td>66856.31</td>\n",
       "      <td>682</td>\n",
       "      <td>1020.10</td>\n",
       "    </tr>\n",
       "    <tr>\n",
       "      <th>173</th>\n",
       "      <td>11692</td>\n",
       "      <td>Arverne/Edgemere</td>\n",
       "      <td>Queens</td>\n",
       "      <td>11692</td>\n",
       "      <td>40.592794</td>\n",
       "      <td>-73.792203</td>\n",
       "      <td>6733</td>\n",
       "      <td>1195</td>\n",
       "      <td>7928</td>\n",
       "      <td>32017.50</td>\n",
       "      <td>37700.09</td>\n",
       "      <td>21029.13</td>\n",
       "      <td>166</td>\n",
       "      <td>789.38</td>\n",
       "    </tr>\n",
       "    <tr>\n",
       "      <th>174</th>\n",
       "      <td>11693</td>\n",
       "      <td>Arverne/Broad Channel</td>\n",
       "      <td>Queens</td>\n",
       "      <td>11693</td>\n",
       "      <td>40.603699</td>\n",
       "      <td>-73.821926</td>\n",
       "      <td>4071</td>\n",
       "      <td>880</td>\n",
       "      <td>4951</td>\n",
       "      <td>32125.59</td>\n",
       "      <td>39069.96</td>\n",
       "      <td>12672.14</td>\n",
       "      <td>72</td>\n",
       "      <td>568.18</td>\n",
       "    </tr>\n",
       "    <tr>\n",
       "      <th>175</th>\n",
       "      <td>11694</td>\n",
       "      <td>Belle Harbor-Neponsit/Rockaway Park</td>\n",
       "      <td>Queens</td>\n",
       "      <td>11694</td>\n",
       "      <td>40.577599</td>\n",
       "      <td>-73.844553</td>\n",
       "      <td>7141</td>\n",
       "      <td>1609</td>\n",
       "      <td>8750</td>\n",
       "      <td>34365.77</td>\n",
       "      <td>42109.01</td>\n",
       "      <td>20779.40</td>\n",
       "      <td>151</td>\n",
       "      <td>726.68</td>\n",
       "    </tr>\n",
       "    <tr>\n",
       "      <th>176</th>\n",
       "      <td>11697</td>\n",
       "      <td>Breezy Point</td>\n",
       "      <td>Queens</td>\n",
       "      <td>11697</td>\n",
       "      <td>40.559070</td>\n",
       "      <td>-73.907199</td>\n",
       "      <td>1731</td>\n",
       "      <td>353</td>\n",
       "      <td>2084</td>\n",
       "      <td>51022.56</td>\n",
       "      <td>61427.51</td>\n",
       "      <td>3392.62</td>\n",
       "      <td>22</td>\n",
       "      <td>648.47</td>\n",
       "    </tr>\n",
       "  </tbody>\n",
       "</table>\n",
       "<p>177 rows × 14 columns</p>\n",
       "</div>"
      ],
      "text/plain": [
       "     MODIFIED_ZCTA                        NEIGHBORHOOD_NAME BOROUGH_GROUP  \\\n",
       "0            10001               Chelsea/NoMad/West Chelsea     Manhattan   \n",
       "1            10002                Chinatown/Lower East Side     Manhattan   \n",
       "2            10003  East Village/Gramercy/Greenwich Village     Manhattan   \n",
       "3            10004                       Financial District     Manhattan   \n",
       "4            10005                       Financial District     Manhattan   \n",
       "..             ...                                      ...           ...   \n",
       "172          11691                    Edgemere/Far Rockaway        Queens   \n",
       "173          11692                         Arverne/Edgemere        Queens   \n",
       "174          11693                    Arverne/Broad Channel        Queens   \n",
       "175          11694      Belle Harbor-Neponsit/Rockaway Park        Queens   \n",
       "176          11697                             Breezy Point        Queens   \n",
       "\n",
       "            label        lat        lon  COVID_CONFIRMED_CASE_COUNT  \\\n",
       "0    10001, 10118  40.750693 -73.997137                        9463   \n",
       "1           10002  40.715781 -73.986176                       24721   \n",
       "2           10003  40.731825 -73.989164                       17104   \n",
       "3           10004  40.703675 -74.013106                        1098   \n",
       "4           10005  40.706092 -74.008861                        2467   \n",
       "..            ...        ...        ...                         ...   \n",
       "172         11691  40.601330 -73.761357                       24040   \n",
       "173         11692  40.592794 -73.792203                        6733   \n",
       "174         11693  40.603699 -73.821926                        4071   \n",
       "175         11694  40.577599 -73.844553                        7141   \n",
       "176         11697  40.559070 -73.907199                        1731   \n",
       "\n",
       "     COVID_PROBABLE_CASE_COUNT  COVID_CASE_COUNT  COVID_CONFIRMED_CASE_RATE  \\\n",
       "0                         2379             11842                   34269.98   \n",
       "1                         5163             29884                   32820.11   \n",
       "2                         3487             20591                   31687.09   \n",
       "3                          314              1412                   36943.38   \n",
       "4                          998              3465                   28171.02   \n",
       "..                         ...               ...                        ...   \n",
       "172                       2801             26841                   35957.71   \n",
       "173                       1195              7928                   32017.50   \n",
       "174                        880              4951                   32125.59   \n",
       "175                       1609              8750                   34365.77   \n",
       "176                        353              2084                   51022.56   \n",
       "\n",
       "     COVID_CASE_RATE  POP_DENOMINATOR  COVID_DEATH_COUNT  COVID_DEATH_RATE  \n",
       "0           42885.46         27613.09                 68            246.26  \n",
       "1           39674.62         75322.71                481            638.59  \n",
       "2           38147.16         53977.81                110            203.79  \n",
       "3           47508.24          2972.12                  3            100.94  \n",
       "4           39567.32          8757.23                  1             11.42  \n",
       "..               ...              ...                ...               ...  \n",
       "172         40147.30         66856.31                682           1020.10  \n",
       "173         37700.09         21029.13                166            789.38  \n",
       "174         39069.96         12672.14                 72            568.18  \n",
       "175         42109.01         20779.40                151            726.68  \n",
       "176         61427.51          3392.62                 22            648.47  \n",
       "\n",
       "[177 rows x 14 columns]"
      ]
     },
     "execution_count": 12,
     "metadata": {},
     "output_type": "execute_result"
    }
   ],
   "source": [
    "df_borough"
   ]
  },
  {
   "cell_type": "code",
   "execution_count": 15,
   "id": "15ef906a",
   "metadata": {},
   "outputs": [],
   "source": [
    "df_3 = df_3.merge(df_borough, right_on = 'MODIFIED_ZCTA', left_on='MODZCTA',how='left')\n",
    "df_3['BOROUGH_GROUP'].replace({'Manhattan':'MN', 'Brooklyn':'BK', 'Queens':'QN', 'Bronx':'BX', 'Staten Island':'SI'}, inplace=True)"
   ]
  },
  {
   "cell_type": "code",
   "execution_count": 23,
   "id": "7d5bccbf",
   "metadata": {},
   "outputs": [
    {
     "name": "stdout",
     "output_type": "stream",
     "text": [
      "6477\n"
     ]
    }
   ],
   "source": [
    "### 4 merge with borough cases ###\n",
    "covid_cases = pd.read_csv('../data/cases_borough_weekly.csv')\n",
    "for col in ['CASE_COUNT','DEATH_COUNT', 'borough_case_count', 'borough_death_count']:\n",
    "    covid_cases[col] = covid_cases[col].astype(float)\n",
    "    covid_cases.loc[covid_cases[col]==0,col] = 0.1\n",
    "    covid_cases[col+'_log'] = np.log(covid_cases[col])\n",
    "\n",
    "df_4 = df_3.merge(covid_cases, left_on=['BOROUGH_GROUP','week'], right_on=['borough', 'week'], how='left')\n",
    "print(len(df_4))"
   ]
  },
  {
   "cell_type": "code",
   "execution_count": 24,
   "id": "45eb74d1",
   "metadata": {},
   "outputs": [
    {
     "name": "stdout",
     "output_type": "stream",
     "text": [
      "6477\n"
     ]
    }
   ],
   "source": [
    "### 5 merge with policies ####\n",
    "df_policies = pd.read_csv('../data/stringency_index_ny_wk.csv')\n",
    "visits_scores_wk = df_4.merge(df_policies, on='week', how='left')\n",
    "print(len(visits_scores_wk))"
   ]
  },
  {
   "cell_type": "code",
   "execution_count": 25,
   "id": "ae6d9582",
   "metadata": {},
   "outputs": [],
   "source": [
    "visits_scores_wk.to_csv('../data/unpivot_merged_data_raw_loss_visitor.csv',index=False)"
   ]
  },
  {
   "cell_type": "code",
   "execution_count": 26,
   "id": "ab2f2a58",
   "metadata": {},
   "outputs": [
    {
     "data": {
      "text/plain": [
       "Index(['MODZCTA', 'mod_idx', 'week', 'Glocery&Pharmacies_visits_weekly',\n",
       "       'Retails_visits_weekly', 'Arts&Entertainment_visits_weekly',\n",
       "       'Restaurants&Bars_visits_weekly', 'Educations_visits_weekly',\n",
       "       'Healthcares_visits_weekly', 'others_visits_weekly', 'score_mean',\n",
       "       'score_median', 'score_std', 'gain_bias_mean', 'gain_bias_median',\n",
       "       'gain_bias_std', 'loss_bias_mean', 'loss_bias_median', 'loss_bias_std',\n",
       "       'loss_aversion_scores_mean', 'loss_aversion_scores_median',\n",
       "       'loss_aversion_scores_std', 'rescale_avail_mean',\n",
       "       'rescale_avail_median', 'rescale_avail_std', 'rescale_realistic_mean',\n",
       "       'rescale_realistic_median', 'rescale_realistic_std', 'agency_mean',\n",
       "       'agency_median', 'agency_std', 'regulated_scores_mean',\n",
       "       'regulated_scores_median', 'regulated_scores_std',\n",
       "       'regulated_agency_mean', 'regulated_agency_median',\n",
       "       'regulated_agency_std', 'regulated_loss_mean', 'regulated_loss_median',\n",
       "       'regulated_loss_std', 'weighted_estimated_average_age', 'median_age',\n",
       "       'Black', 'Hispanic', 'Household_income', 'Bachelor', 'Household_num',\n",
       "       'Population', 'No_health_insurance', 'No_vehicles',\n",
       "       'No_health_insurance_rate', 'No_vehicles_rate', 'MODIFIED_ZCTA',\n",
       "       'NEIGHBORHOOD_NAME', 'BOROUGH_GROUP', 'label', 'lat', 'lon',\n",
       "       'COVID_CONFIRMED_CASE_COUNT', 'COVID_PROBABLE_CASE_COUNT',\n",
       "       'COVID_CASE_COUNT', 'COVID_CONFIRMED_CASE_RATE', 'COVID_CASE_RATE',\n",
       "       'POP_DENOMINATOR', 'COVID_DEATH_COUNT', 'COVID_DEATH_RATE',\n",
       "       'CASE_COUNT', 'DEATH_COUNT', 'borough_case_count', 'id',\n",
       "       'borough_death_count', 'borough', 'CASE_COUNT_log', 'DEATH_COUNT_log',\n",
       "       'borough_case_count_log', 'borough_death_count_log', 'Date',\n",
       "       'StringencyIndex_WeightedAverage'],\n",
       "      dtype='object')"
      ]
     },
     "execution_count": 26,
     "metadata": {},
     "output_type": "execute_result"
    }
   ],
   "source": [
    "visits_scores_wk.columns"
   ]
  },
  {
   "cell_type": "code",
   "execution_count": 16,
   "id": "332a6b81",
   "metadata": {},
   "outputs": [
    {
     "data": {
      "text/plain": [
       "(6477, 71)"
      ]
     },
     "execution_count": 16,
     "metadata": {},
     "output_type": "execute_result"
    }
   ],
   "source": [
    "visits_scores_wk.shape"
   ]
  },
  {
   "cell_type": "code",
   "execution_count": 13,
   "id": "c4a55dfc",
   "metadata": {},
   "outputs": [],
   "source": [
    "df_zip = pd.read_csv('../results/modzcta_zip_counts.csv')\n",
    "zip_selected = df_zip[df_zip['Count']>10]['MODZCTA'].values\n",
    "visits_scores_wk[visits_scores_wk['MODZCTA'].isin(zip_selected)].to_csv('../data/unpivot_merged_data_raw_loss_visitor_s.csv',index=False)"
   ]
  },
  {
   "cell_type": "markdown",
   "id": "d7f7f7a9",
   "metadata": {},
   "source": []
  }
 ],
 "metadata": {
  "kernelspec": {
   "display_name": "Python 3 (ipykernel)",
   "language": "python",
   "name": "python3"
  },
  "language_info": {
   "codemirror_mode": {
    "name": "ipython",
    "version": 3
   },
   "file_extension": ".py",
   "mimetype": "text/x-python",
   "name": "python",
   "nbconvert_exporter": "python",
   "pygments_lexer": "ipython3",
   "version": "3.11.8"
  }
 },
 "nbformat": 4,
 "nbformat_minor": 5
}
