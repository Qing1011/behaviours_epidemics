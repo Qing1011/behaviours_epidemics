{
 "cells": [
  {
   "cell_type": "code",
   "execution_count": 4,
   "id": "a00fde71",
   "metadata": {},
   "outputs": [],
   "source": [
    "import pandas as pd\n",
    "import numpy as np\n",
    "import os\n",
    "import csv\n",
    "import ast\n",
    "from collections import Counter\n",
    "import geopandas as gpd\n",
    "import h5py\n",
    "from datetime import datetime, timedelta\n",
    "#### personal packages####\n",
    "import sys"
   ]
  },
  {
   "cell_type": "code",
   "execution_count": 5,
   "id": "e449fb2b",
   "metadata": {},
   "outputs": [],
   "source": [
    "cluster_name = {0: 'Glocery&Pharmacies', 1: 'Retails', 2: 'Arts&Entertainment', 3: 'Restaurants&Bars',\n",
    "                4: 'Educations', 5: 'Healthcares', 6: 'others'}"
   ]
  },
  {
   "cell_type": "code",
   "execution_count": 6,
   "id": "06b4609c",
   "metadata": {},
   "outputs": [],
   "source": [
    "df_flow = pd.read_csv('../results/outflow_7c_wk_raw_loss_visitors.csv')\n",
    "df_flow['MODZCTA'] = df_flow['MODZCTA'].astype(str)"
   ]
  },
  {
   "cell_type": "code",
   "execution_count": 7,
   "id": "3abf82d9",
   "metadata": {},
   "outputs": [
    {
     "name": "stdout",
     "output_type": "stream",
     "text": [
      "Retails\n",
      "Arts&Entertainment\n",
      "Restaurants&Bars\n",
      "Educations\n",
      "Healthcares\n",
      "others\n"
     ]
    }
   ],
   "source": [
    "cluster_cols = [cluster_name[0]+'_{}'.format(i) for i in range(56)] \n",
    "# 56 weeks from 2020-02-04 to 2021-03-02\n",
    "# only need 53 weeks from 2020-02-24 to 2021-02-02\n",
    "df_vist_cluster_i = df_flow[['MODZCTA','mod_idx']+cluster_cols].copy()\n",
    "\n",
    "final_df = pd.melt(df_vist_cluster_i, id_vars=['MODZCTA','mod_idx'], value_vars = cluster_cols[3:3+51], var_name='week', value_name=cluster_name[0]+'_visits_weekly')\n",
    "#### \n",
    "# Correctly adjust the code to perform the intended replacement\n",
    "final_df['week'] = final_df['week'].apply(lambda x: (int(x.split('_')[1]) - 3))\n",
    "\n",
    "for c_idx in range(1,7):\n",
    "    print(cluster_name[c_idx])\n",
    "    cluster_cols = [cluster_name[c_idx]+'_{}'.format(i) for i in range(56)]\n",
    "    df_vist_cluster_i = df_flow[['MODZCTA', 'mod_idx']+cluster_cols].copy()\n",
    "    temp_df = pd.melt(df_vist_cluster_i, id_vars=['MODZCTA', 'mod_idx'], value_vars = cluster_cols[3:3+51], \n",
    "                    var_name='week', value_name=cluster_name[c_idx]+'_visits_weekly')\n",
    "    temp_df['week'] = temp_df['week'].apply(lambda x: (int(x.split('_')[1]) - 3))\n",
    "    final_df = pd.merge(final_df, temp_df, on=['MODZCTA','mod_idx','week'])"
   ]
  },
  {
   "cell_type": "code",
   "execution_count": 8,
   "id": "4ec116fe",
   "metadata": {},
   "outputs": [],
   "source": [
    "### 1 covid_data_population file \n",
    "df_mod_borough = pd.read_csv('../Data/data-by-modzcta_11102020.csv')\n",
    "# the len of the df_mod_borough is 177, the number of MODZCTA is 177\n",
    "df_mod_borough['MODIFIED_ZCTA'] = df_mod_borough['MODIFIED_ZCTA'].astype(str)\n",
    "replace_dic = dict(zip(['Manhattan', 'Staten Island', 'Bronx', 'Queens', 'Brooklyn'],['MN','SI','BX','QN','BK']))\n",
    "df_mod_borough['borough'] = df_mod_borough['BOROUGH_GROUP'].replace(replace_dic)\n",
    "\n",
    "for col in ['COVID_CASE_COUNT','COVID_DEATH_COUNT']:\n",
    "    df_mod_borough[col] = df_mod_borough[col].astype(float)\n",
    "    df_mod_borough.loc[df_mod_borough[col]==0,col] = 0.1\n",
    "    df_mod_borough[col+'_log'] = np.log(df_mod_borough[col])\n",
    "\n",
    "df_merged = final_df.merge(df_mod_borough, right_on = 'MODIFIED_ZCTA', left_on='MODZCTA')\n",
    "columns_to_delete = ['MODIFIED_ZCTA','BOROUGH_GROUP']\n",
    "df_merged = df_merged.drop(columns=columns_to_delete)\n",
    "df_merged['MODZCTA'] = df_merged['MODZCTA'].astype(int)"
   ]
  },
  {
   "cell_type": "code",
   "execution_count": 18,
   "id": "0357e904",
   "metadata": {},
   "outputs": [
    {
     "data": {
      "text/html": [
       "<div>\n",
       "<style scoped>\n",
       "    .dataframe tbody tr th:only-of-type {\n",
       "        vertical-align: middle;\n",
       "    }\n",
       "\n",
       "    .dataframe tbody tr th {\n",
       "        vertical-align: top;\n",
       "    }\n",
       "\n",
       "    .dataframe thead th {\n",
       "        text-align: right;\n",
       "    }\n",
       "</style>\n",
       "<table border=\"1\" class=\"dataframe\">\n",
       "  <thead>\n",
       "    <tr style=\"text-align: right;\">\n",
       "      <th></th>\n",
       "      <th>MODIFIED_ZCTA</th>\n",
       "      <th>NEIGHBORHOOD_NAME</th>\n",
       "      <th>BOROUGH_GROUP</th>\n",
       "      <th>COVID_CASE_COUNT</th>\n",
       "      <th>COVID_CASE_RATE</th>\n",
       "      <th>POP_DENOMINATOR</th>\n",
       "      <th>COVID_DEATH_COUNT</th>\n",
       "      <th>COVID_DEATH_RATE</th>\n",
       "      <th>PERCENT_POSITIVE</th>\n",
       "      <th>TOTAL_COVID_TESTS</th>\n",
       "      <th>borough</th>\n",
       "      <th>COVID_CASE_COUNT_log</th>\n",
       "      <th>COVID_DEATH_COUNT_log</th>\n",
       "    </tr>\n",
       "  </thead>\n",
       "  <tbody>\n",
       "    <tr>\n",
       "      <th>0</th>\n",
       "      <td>10001</td>\n",
       "      <td>Chelsea/NoMad/West Chelsea</td>\n",
       "      <td>Manhattan</td>\n",
       "      <td>500.0</td>\n",
       "      <td>1810.74</td>\n",
       "      <td>27613.09</td>\n",
       "      <td>27.0</td>\n",
       "      <td>97.78</td>\n",
       "      <td>4.02</td>\n",
       "      <td>11020</td>\n",
       "      <td>MN</td>\n",
       "      <td>6.214608</td>\n",
       "      <td>3.295837</td>\n",
       "    </tr>\n",
       "    <tr>\n",
       "      <th>1</th>\n",
       "      <td>10002</td>\n",
       "      <td>Chinatown/Lower East Side</td>\n",
       "      <td>Manhattan</td>\n",
       "      <td>1525.0</td>\n",
       "      <td>2024.62</td>\n",
       "      <td>75322.71</td>\n",
       "      <td>160.0</td>\n",
       "      <td>212.42</td>\n",
       "      <td>5.66</td>\n",
       "      <td>26793</td>\n",
       "      <td>MN</td>\n",
       "      <td>7.329750</td>\n",
       "      <td>5.075174</td>\n",
       "    </tr>\n",
       "    <tr>\n",
       "      <th>2</th>\n",
       "      <td>10003</td>\n",
       "      <td>East Village/Gramercy/Greenwich Village</td>\n",
       "      <td>Manhattan</td>\n",
       "      <td>763.0</td>\n",
       "      <td>1413.54</td>\n",
       "      <td>53977.81</td>\n",
       "      <td>35.0</td>\n",
       "      <td>64.84</td>\n",
       "      <td>2.68</td>\n",
       "      <td>27764</td>\n",
       "      <td>MN</td>\n",
       "      <td>6.637258</td>\n",
       "      <td>3.555348</td>\n",
       "    </tr>\n",
       "    <tr>\n",
       "      <th>3</th>\n",
       "      <td>10004</td>\n",
       "      <td>Financial District</td>\n",
       "      <td>Manhattan</td>\n",
       "      <td>59.0</td>\n",
       "      <td>1985.12</td>\n",
       "      <td>2972.12</td>\n",
       "      <td>1.0</td>\n",
       "      <td>33.65</td>\n",
       "      <td>3.44</td>\n",
       "      <td>1598</td>\n",
       "      <td>MN</td>\n",
       "      <td>4.077537</td>\n",
       "      <td>0.000000</td>\n",
       "    </tr>\n",
       "    <tr>\n",
       "      <th>4</th>\n",
       "      <td>10005</td>\n",
       "      <td>Financial District</td>\n",
       "      <td>Manhattan</td>\n",
       "      <td>125.0</td>\n",
       "      <td>1427.39</td>\n",
       "      <td>8757.23</td>\n",
       "      <td>2.0</td>\n",
       "      <td>22.84</td>\n",
       "      <td>3.30</td>\n",
       "      <td>3455</td>\n",
       "      <td>MN</td>\n",
       "      <td>4.828314</td>\n",
       "      <td>0.693147</td>\n",
       "    </tr>\n",
       "    <tr>\n",
       "      <th>...</th>\n",
       "      <td>...</td>\n",
       "      <td>...</td>\n",
       "      <td>...</td>\n",
       "      <td>...</td>\n",
       "      <td>...</td>\n",
       "      <td>...</td>\n",
       "      <td>...</td>\n",
       "      <td>...</td>\n",
       "      <td>...</td>\n",
       "      <td>...</td>\n",
       "      <td>...</td>\n",
       "      <td>...</td>\n",
       "      <td>...</td>\n",
       "    </tr>\n",
       "    <tr>\n",
       "      <th>172</th>\n",
       "      <td>11691</td>\n",
       "      <td>Edgemere/Far Rockaway</td>\n",
       "      <td>Queens</td>\n",
       "      <td>3209.0</td>\n",
       "      <td>4799.85</td>\n",
       "      <td>66856.31</td>\n",
       "      <td>379.0</td>\n",
       "      <td>566.89</td>\n",
       "      <td>12.79</td>\n",
       "      <td>24589</td>\n",
       "      <td>QN</td>\n",
       "      <td>8.073715</td>\n",
       "      <td>5.937536</td>\n",
       "    </tr>\n",
       "    <tr>\n",
       "      <th>173</th>\n",
       "      <td>11692</td>\n",
       "      <td>Arverne/Edgemere</td>\n",
       "      <td>Queens</td>\n",
       "      <td>760.0</td>\n",
       "      <td>3614.03</td>\n",
       "      <td>21029.13</td>\n",
       "      <td>95.0</td>\n",
       "      <td>451.75</td>\n",
       "      <td>10.56</td>\n",
       "      <td>7118</td>\n",
       "      <td>QN</td>\n",
       "      <td>6.633318</td>\n",
       "      <td>4.553877</td>\n",
       "    </tr>\n",
       "    <tr>\n",
       "      <th>174</th>\n",
       "      <td>11693</td>\n",
       "      <td>Arverne/Broad Channel</td>\n",
       "      <td>Queens</td>\n",
       "      <td>397.0</td>\n",
       "      <td>3132.86</td>\n",
       "      <td>12672.14</td>\n",
       "      <td>29.0</td>\n",
       "      <td>228.85</td>\n",
       "      <td>10.20</td>\n",
       "      <td>3744</td>\n",
       "      <td>QN</td>\n",
       "      <td>5.983936</td>\n",
       "      <td>3.367296</td>\n",
       "    </tr>\n",
       "    <tr>\n",
       "      <th>175</th>\n",
       "      <td>11694</td>\n",
       "      <td>Belle Harbor-Neponsit/Rockaway Park</td>\n",
       "      <td>Queens</td>\n",
       "      <td>864.0</td>\n",
       "      <td>4157.96</td>\n",
       "      <td>20779.40</td>\n",
       "      <td>90.0</td>\n",
       "      <td>433.12</td>\n",
       "      <td>11.19</td>\n",
       "      <td>7593</td>\n",
       "      <td>QN</td>\n",
       "      <td>6.761573</td>\n",
       "      <td>4.499810</td>\n",
       "    </tr>\n",
       "    <tr>\n",
       "      <th>176</th>\n",
       "      <td>11697</td>\n",
       "      <td>Breezy Point</td>\n",
       "      <td>Queens</td>\n",
       "      <td>131.0</td>\n",
       "      <td>3861.33</td>\n",
       "      <td>3392.62</td>\n",
       "      <td>5.0</td>\n",
       "      <td>147.38</td>\n",
       "      <td>6.49</td>\n",
       "      <td>2034</td>\n",
       "      <td>QN</td>\n",
       "      <td>4.875197</td>\n",
       "      <td>1.609438</td>\n",
       "    </tr>\n",
       "  </tbody>\n",
       "</table>\n",
       "<p>177 rows × 13 columns</p>\n",
       "</div>"
      ],
      "text/plain": [
       "    MODIFIED_ZCTA                        NEIGHBORHOOD_NAME BOROUGH_GROUP  \\\n",
       "0           10001               Chelsea/NoMad/West Chelsea     Manhattan   \n",
       "1           10002                Chinatown/Lower East Side     Manhattan   \n",
       "2           10003  East Village/Gramercy/Greenwich Village     Manhattan   \n",
       "3           10004                       Financial District     Manhattan   \n",
       "4           10005                       Financial District     Manhattan   \n",
       "..            ...                                      ...           ...   \n",
       "172         11691                    Edgemere/Far Rockaway        Queens   \n",
       "173         11692                         Arverne/Edgemere        Queens   \n",
       "174         11693                    Arverne/Broad Channel        Queens   \n",
       "175         11694      Belle Harbor-Neponsit/Rockaway Park        Queens   \n",
       "176         11697                             Breezy Point        Queens   \n",
       "\n",
       "     COVID_CASE_COUNT  COVID_CASE_RATE  POP_DENOMINATOR  COVID_DEATH_COUNT  \\\n",
       "0               500.0          1810.74         27613.09               27.0   \n",
       "1              1525.0          2024.62         75322.71              160.0   \n",
       "2               763.0          1413.54         53977.81               35.0   \n",
       "3                59.0          1985.12          2972.12                1.0   \n",
       "4               125.0          1427.39          8757.23                2.0   \n",
       "..                ...              ...              ...                ...   \n",
       "172            3209.0          4799.85         66856.31              379.0   \n",
       "173             760.0          3614.03         21029.13               95.0   \n",
       "174             397.0          3132.86         12672.14               29.0   \n",
       "175             864.0          4157.96         20779.40               90.0   \n",
       "176             131.0          3861.33          3392.62                5.0   \n",
       "\n",
       "     COVID_DEATH_RATE  PERCENT_POSITIVE  TOTAL_COVID_TESTS borough  \\\n",
       "0               97.78              4.02              11020      MN   \n",
       "1              212.42              5.66              26793      MN   \n",
       "2               64.84              2.68              27764      MN   \n",
       "3               33.65              3.44               1598      MN   \n",
       "4               22.84              3.30               3455      MN   \n",
       "..                ...               ...                ...     ...   \n",
       "172            566.89             12.79              24589      QN   \n",
       "173            451.75             10.56               7118      QN   \n",
       "174            228.85             10.20               3744      QN   \n",
       "175            433.12             11.19               7593      QN   \n",
       "176            147.38              6.49               2034      QN   \n",
       "\n",
       "     COVID_CASE_COUNT_log  COVID_DEATH_COUNT_log  \n",
       "0                6.214608               3.295837  \n",
       "1                7.329750               5.075174  \n",
       "2                6.637258               3.555348  \n",
       "3                4.077537               0.000000  \n",
       "4                4.828314               0.693147  \n",
       "..                    ...                    ...  \n",
       "172              8.073715               5.937536  \n",
       "173              6.633318               4.553877  \n",
       "174              5.983936               3.367296  \n",
       "175              6.761573               4.499810  \n",
       "176              4.875197               1.609438  \n",
       "\n",
       "[177 rows x 13 columns]"
      ]
     },
     "execution_count": 18,
     "metadata": {},
     "output_type": "execute_result"
    }
   ],
   "source": [
    "df_mod_borough"
   ]
  },
  {
   "cell_type": "code",
   "execution_count": 9,
   "id": "739f1194",
   "metadata": {},
   "outputs": [
    {
     "data": {
      "text/plain": [
       "9027"
      ]
     },
     "execution_count": 9,
     "metadata": {},
     "output_type": "execute_result"
    }
   ],
   "source": [
    "len(df_merged)"
   ]
  },
  {
   "cell_type": "markdown",
   "id": "192f8b67",
   "metadata": {},
   "source": [
    "Merge all the other data at the zipcode level"
   ]
  },
  {
   "cell_type": "code",
   "execution_count": 9,
   "id": "b8eb040a",
   "metadata": {},
   "outputs": [
    {
     "name": "stdout",
     "output_type": "stream",
     "text": [
      "6477\n"
     ]
    }
   ],
   "source": [
    "### 2 read scores data at zipcode level#########\n",
    "df_mod_score = pd.read_csv('../results/modzcta_scores.csv')\n",
    "df_2 = df_merged.merge(df_mod_score, right_on = 'MODZCTA', left_on='MODZCTA',how='left')\n",
    "df_2.dropna(subset=['score_median'],inplace=True)\n",
    "print(len(df_2))"
   ]
  },
  {
   "cell_type": "code",
   "execution_count": 10,
   "id": "199fe375",
   "metadata": {},
   "outputs": [
    {
     "name": "stdout",
     "output_type": "stream",
     "text": [
      "6477\n"
     ]
    }
   ],
   "source": [
    "##### 3 social economic data ######\n",
    "# df_sed_nyc = pd.read_csv('../Data/sed_nyc_modzcta.csv')\n",
    "df_sed_nyc = pd.read_csv('../Data/sed_old.csv')\n",
    "df_3 = df_2.merge(df_sed_nyc, right_on = 'MODZCTA', left_on='MODZCTA',how='left')\n",
    "print(len(df_3))"
   ]
  },
  {
   "cell_type": "code",
   "execution_count": 11,
   "id": "7d5bccbf",
   "metadata": {},
   "outputs": [
    {
     "name": "stdout",
     "output_type": "stream",
     "text": [
      "6477\n"
     ]
    }
   ],
   "source": [
    "### 4 merge with borough cases ###\n",
    "covid_cases = pd.read_csv('../data/cases_borough_weekly.csv')\n",
    "for col in ['CASE_COUNT','DEATH_COUNT', 'borough_case_count', 'borough_death_count']:\n",
    "    covid_cases[col] = covid_cases[col].astype(float)\n",
    "    covid_cases.loc[covid_cases[col]==0,col] = 0.1\n",
    "    covid_cases[col+'_log'] = np.log(covid_cases[col])\n",
    "\n",
    "df_4 = df_3.merge(covid_cases, on=['borough', 'week'], how='left')\n",
    "print(len(df_4))"
   ]
  },
  {
   "cell_type": "code",
   "execution_count": 12,
   "id": "45eb74d1",
   "metadata": {},
   "outputs": [
    {
     "name": "stdout",
     "output_type": "stream",
     "text": [
      "6477\n"
     ]
    }
   ],
   "source": [
    "### 5 merge with policies ####\n",
    "df_policies = pd.read_csv('../data/stringency_index_ny_wk.csv')\n",
    "visits_scores_wk = df_4.merge(df_policies, on='week', how='left')\n",
    "print(len(visits_scores_wk))"
   ]
  },
  {
   "cell_type": "code",
   "execution_count": 14,
   "id": "ae6d9582",
   "metadata": {},
   "outputs": [],
   "source": [
    "visits_scores_wk.to_csv('../data/unpivot_merged_data_raw_loss_visitor.csv',index=False)"
   ]
  },
  {
   "cell_type": "code",
   "execution_count": 15,
   "id": "ab2f2a58",
   "metadata": {},
   "outputs": [
    {
     "data": {
      "text/plain": [
       "Index(['MODZCTA', 'mod_idx', 'week', 'Glocery&Pharmacies_visits_weekly',\n",
       "       'Retails_visits_weekly', 'Arts&Entertainment_visits_weekly',\n",
       "       'Restaurants&Bars_visits_weekly', 'Educations_visits_weekly',\n",
       "       'Healthcares_visits_weekly', 'others_visits_weekly',\n",
       "       'NEIGHBORHOOD_NAME', 'COVID_CASE_COUNT', 'COVID_CASE_RATE',\n",
       "       'POP_DENOMINATOR', 'COVID_DEATH_COUNT', 'COVID_DEATH_RATE',\n",
       "       'PERCENT_POSITIVE', 'TOTAL_COVID_TESTS', 'borough',\n",
       "       'COVID_CASE_COUNT_log', 'COVID_DEATH_COUNT_log', 'score_mean',\n",
       "       'score_median', 'score_std', 'gain_bias_mean', 'gain_bias_median',\n",
       "       'gain_bias_std', 'loss_bias_mean', 'loss_bias_median', 'loss_bias_std',\n",
       "       'loss_aversion_scores_mean', 'loss_aversion_scores_median',\n",
       "       'loss_aversion_scores_std', 'rescale_avail_mean',\n",
       "       'rescale_avail_median', 'rescale_avail_std', 'rescale_realistic_mean',\n",
       "       'rescale_realistic_median', 'rescale_realistic_std', 'agency_mean',\n",
       "       'agency_median', 'agency_std', 'regulated_scores_mean',\n",
       "       'regulated_scores_median', 'regulated_scores_std',\n",
       "       'regulated_agency_mean', 'regulated_agency_median',\n",
       "       'regulated_agency_std', 'regulated_loss_mean', 'regulated_loss_median',\n",
       "       'regulated_loss_std', 'weighted_No_vehicle', 'weighted_Households_num',\n",
       "       'weighted_estimated_average_age_mean', 'NO_HEALTH_INSURANCE',\n",
       "       'HOUSEHOLD_SIZE', 'HOUSEHOLD_INCOME', 'BACHELORS', 'BLACK', 'HISPANIC',\n",
       "       'CASE_COUNT', 'DEATH_COUNT', 'borough_case_count', 'id',\n",
       "       'borough_death_count', 'CASE_COUNT_log', 'DEATH_COUNT_log',\n",
       "       'borough_case_count_log', 'borough_death_count_log', 'Date',\n",
       "       'StringencyIndex_WeightedAverage'],\n",
       "      dtype='object')"
      ]
     },
     "execution_count": 15,
     "metadata": {},
     "output_type": "execute_result"
    }
   ],
   "source": [
    "visits_scores_wk.columns"
   ]
  },
  {
   "cell_type": "code",
   "execution_count": 16,
   "id": "332a6b81",
   "metadata": {},
   "outputs": [
    {
     "data": {
      "text/plain": [
       "(6477, 71)"
      ]
     },
     "execution_count": 16,
     "metadata": {},
     "output_type": "execute_result"
    }
   ],
   "source": [
    "visits_scores_wk.shape"
   ]
  },
  {
   "cell_type": "code",
   "execution_count": 13,
   "id": "c4a55dfc",
   "metadata": {},
   "outputs": [],
   "source": [
    "df_zip = pd.read_csv('../results/modzcta_zip_counts.csv')\n",
    "zip_selected = df_zip[df_zip['Count']>10]['MODZCTA'].values\n",
    "visits_scores_wk[visits_scores_wk['MODZCTA'].isin(zip_selected)].to_csv('../data/unpivot_merged_data_raw_loss_visitor_s.csv',index=False)"
   ]
  },
  {
   "cell_type": "markdown",
   "id": "d7f7f7a9",
   "metadata": {},
   "source": []
  }
 ],
 "metadata": {
  "kernelspec": {
   "display_name": "Python 3 (ipykernel)",
   "language": "python",
   "name": "python3"
  },
  "language_info": {
   "codemirror_mode": {
    "name": "ipython",
    "version": 3
   },
   "file_extension": ".py",
   "mimetype": "text/x-python",
   "name": "python",
   "nbconvert_exporter": "python",
   "pygments_lexer": "ipython3",
   "version": "3.11.8"
  }
 },
 "nbformat": 4,
 "nbformat_minor": 5
}
