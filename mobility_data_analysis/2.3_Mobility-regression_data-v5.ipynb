{
 "cells": [
  {
   "cell_type": "code",
   "execution_count": 1,
   "id": "a00fde71",
   "metadata": {},
   "outputs": [
    {
     "name": "stdout",
     "output_type": "stream",
     "text": [
      "my package for mobility extraction has been imported!\n"
     ]
    }
   ],
   "source": [
    "import pandas as pd\n",
    "import numpy as np\n",
    "import os\n",
    "import csv\n",
    "import ast\n",
    "from collections import Counter\n",
    "import geopandas as gpd\n",
    "import h5py\n",
    "from datetime import datetime, timedelta\n",
    "import matplotlib.pyplot as plt\n",
    "import sys\n",
    "sys.path.append(\"../Codes/\")\n",
    "# import mobility as mbl\n",
    "from python_mobility import parameters as mp"
   ]
  },
  {
   "cell_type": "code",
   "execution_count": 2,
   "id": "c5cb7923",
   "metadata": {},
   "outputs": [],
   "source": [
    "###1 mobility\n",
    "mobility_map_method = '1tomore'\n",
    "#  loss_visitors\n",
    "#  1tomore\n",
    "#  1to1"
   ]
  },
  {
   "cell_type": "code",
   "execution_count": 3,
   "id": "06b4609c",
   "metadata": {},
   "outputs": [],
   "source": [
    "df_flow = pd.read_csv('../data/raw_mobility/outflow_7c_wk_raw_{}.csv'.format(mobility_map_method))\n",
    "df_flow['MODZCTA'] = df_flow['MODZCTA'].astype(str)"
   ]
  },
  {
   "cell_type": "code",
   "execution_count": 4,
   "id": "3abf82d9",
   "metadata": {},
   "outputs": [
    {
     "name": "stdout",
     "output_type": "stream",
     "text": [
      "Retails\n",
      "Arts&Entertainment\n",
      "Restaurants&Bars\n",
      "Educations\n",
      "Healthcares\n",
      "others\n"
     ]
    }
   ],
   "source": [
    "cluster_cols = [mp.cluster_name0[0]+'_{}'.format(i) for i in range(56)] \n",
    "# 56 weeks from 2020-02-03 (Monday) to 2021-02-28 (Sunday included) \n",
    "# only need 53 weeks from 2020-02-24 to 2021-02-028 (Sunday included)\n",
    "# only need 50 weeks from 2020-03-16 (Monday) to 2021-02-028 (Sunday included)\n",
    "df_vist_cluster_i = df_flow[['MODZCTA','mod_idx']+cluster_cols].copy()\n",
    "\n",
    "final_df = pd.melt(df_vist_cluster_i, id_vars=['MODZCTA','mod_idx'], value_vars = cluster_cols[6:56], var_name='week', value_name=mp.cluster_name0[0]+'_visits_weekly')\n",
    "#### \n",
    "# Correctly adjust the code to perform the intended replacement\n",
    "final_df['week'] = final_df['week'].apply(lambda x: (int(x.split('_')[1]) - 6))\n",
    "\n",
    "for c_idx in range(1,7):\n",
    "    print(mp.cluster_name0[c_idx])\n",
    "    cluster_cols = [mp.cluster_name0[c_idx]+'_{}'.format(i) for i in range(56)]\n",
    "    df_vist_cluster_i = df_flow[['MODZCTA', 'mod_idx']+cluster_cols].copy()\n",
    "    temp_df = pd.melt(df_vist_cluster_i, id_vars=['MODZCTA', 'mod_idx'], value_vars = cluster_cols[6:56], \n",
    "                    var_name='week', value_name=mp.cluster_name0[c_idx]+'_visits_weekly')\n",
    "    temp_df['week'] = temp_df['week'].apply(lambda x: (int(x.split('_')[1]) - 6))\n",
    "    final_df = pd.merge(final_df, temp_df, on=['MODZCTA','mod_idx','week'])"
   ]
  },
  {
   "cell_type": "markdown",
   "id": "192f8b67",
   "metadata": {},
   "source": [
    "Merge all the other data at the zipcode level"
   ]
  },
  {
   "cell_type": "code",
   "execution_count": 5,
   "id": "b8eb040a",
   "metadata": {},
   "outputs": [
    {
     "name": "stdout",
     "output_type": "stream",
     "text": [
      "6350\n"
     ]
    }
   ],
   "source": [
    "### 2 read scores data at zipcode level#########\n",
    "final_df['MODZCTA'] = final_df['MODZCTA'].astype(int)\n",
    "df_mod_score = pd.read_csv('../results/scores/modzcta_scores.csv')\n",
    "df_2 = final_df.merge(df_mod_score, right_on = 'MODZCTA', left_on='MODZCTA',how='left')\n",
    "df_2.dropna(subset=['score_median'],inplace=True)\n",
    "print(len(df_2)) ### 6350"
   ]
  },
  {
   "cell_type": "code",
   "execution_count": null,
   "id": "199fe375",
   "metadata": {},
   "outputs": [
    {
     "name": "stdout",
     "output_type": "stream",
     "text": [
      "850\n",
      "850\n"
     ]
    }
   ],
   "source": [
    "##### 3 social economic data ######\n",
    "df_sed_nyc = pd.read_csv('../Data/sed_nyc_modzcta_2021.csv')\n",
    "# df_sed_nyc = pd.read_csv('../Data/sed_old.csv')\n",
    "# df_3 = df_2.merge(df_sed_nyc, right_on = 'MODZCTA', left_on='MODZCTA',how='left')\n",
    "df_3 = df_2.merge(df_sed_nyc, right_on = 'MODZCTA', left_on='MODZCTA',how='right')\n",
    "### when merged on the right will have the subset of zipcodes \n",
    "##  where the zipcodes counts are satisfied\n",
    "print(len(df_3))\n",
    "#### merge with the score mode #####\n",
    "df_score_mode = pd.read_csv('../results/scores/modzcta_scores_mode.csv')\n",
    "df_3 = df_3.merge(df_score_mode, right_on = 'MODZCTA', left_on='MODZCTA',how='left')\n",
    "print(len(df_3)) ### 850"
   ]
  },
  {
   "cell_type": "code",
   "execution_count": 7,
   "id": "c23be3dc",
   "metadata": {},
   "outputs": [],
   "source": [
    "### 4 merge with borough cases ###\n",
    "df_borough = pd.read_csv('../Data/mappings/data-by-modzcta.csv')\n",
    "df_borough['borough'] = df_borough['BOROUGH_GROUP'].replace({'Manhattan':'MN', 'Brooklyn':'BK', 'Queens':'QN', 'Bronx':'BX', 'Staten Island':'SI'})\n",
    "df_borough_s = df_borough.rename(columns={'MODIFIED_ZCTA':'MODZCTA',\n",
    "                                          'COVID_CONFIRMED_CASE_COUNT':'COVID_CONFIRMED_CASE_COUNT_final', \n",
    "                                          'COVID_PROBABLE_CASE_COUNT':'COVID_PROBABLE_CASE_COUNT_final',\n",
    "                                          'COVID_CASE_COUNT':'COVID_CASE_COUNT_final',\n",
    "                                          'COVID_CONFIRMED_CASE_RATE':'COVID_CONFIRMED_CASE_RATE_final', \n",
    "                                          'COVID_CASE_RATE':'COVID_CASE_RATE_final',\n",
    "                                          'COVID_DEATH_COUNT':'COVID_DEATH_COUNT_final', \n",
    "                                          'COVID_DEATH_RATE':'COVID_DEATH_RATE_final' })\n",
    "df_3 = df_3.merge(df_borough_s, on='MODZCTA',how='left')"
   ]
  },
  {
   "cell_type": "code",
   "execution_count": 8,
   "id": "7d5bccbf",
   "metadata": {},
   "outputs": [
    {
     "name": "stdout",
     "output_type": "stream",
     "text": [
      "850\n"
     ]
    }
   ],
   "source": [
    "covid_cases = pd.read_csv('../data/cases_borough_weekly.csv')\n",
    "for col in ['CASE_COUNT','DEATH_COUNT', 'borough_case_count', 'borough_death_count']:\n",
    "    covid_cases[col] = covid_cases[col].astype(float)\n",
    "    covid_cases.loc[covid_cases[col]==0,col] = 0.1\n",
    "    covid_cases[col+'_log'] = np.log(covid_cases[col])\n",
    "\n",
    "df_4 = df_3.merge(covid_cases, on=['borough', 'week'], how='left')\n",
    "print(len(df_4))"
   ]
  },
  {
   "cell_type": "code",
   "execution_count": 9,
   "id": "45eb74d1",
   "metadata": {},
   "outputs": [
    {
     "name": "stdout",
     "output_type": "stream",
     "text": [
      "850\n"
     ]
    }
   ],
   "source": [
    "### 5 merge with policies ####\n",
    "df_policies = pd.read_csv('../data/stringency_index_ny_wk.csv')\n",
    "visits_scores_wk = df_4.merge(df_policies, on='week', how='left')\n",
    "print(len(visits_scores_wk))"
   ]
  },
  {
   "cell_type": "code",
   "execution_count": 10,
   "id": "5e45c2a2",
   "metadata": {},
   "outputs": [
    {
     "name": "stdout",
     "output_type": "stream",
     "text": [
      "850\n"
     ]
    }
   ],
   "source": [
    "### 6 merge with spatial data ####\n",
    "import geopandas as gpd\n",
    "gdf = gpd.read_file('../Data/geography_data/MODZCTA_2010.shp')\n",
    "gdf['centroid'] = gdf.geometry.centroid\n",
    "# Extract longitude and latitude of the centroids\n",
    "gdf['longitude'] = gdf.centroid.x\n",
    "gdf['latitude'] = gdf.centroid.y\n",
    "gdf_s = gdf[['MODZCTA','longitude','latitude']].copy()\n",
    "gdf_s['MODZCTA'] = gdf_s['MODZCTA'].astype(int)\n",
    "visits_scores_wk = visits_scores_wk.merge(gdf_s, on='MODZCTA',how='left')\n",
    "print(len(visits_scores_wk))"
   ]
  },
  {
   "cell_type": "code",
   "execution_count": 11,
   "id": "b3f0fa2d",
   "metadata": {},
   "outputs": [],
   "source": [
    "# Ensure the DataFrame is sorted by MODZCTA and week\n",
    "visits_scores_wk.sort_values(by=['MODZCTA', 'week'], inplace=True)\n",
    "y_ls = ['Grocery&Pharmacies_visits_weekly',\n",
    "       'Retails_visits_weekly', 'Arts&Entertainment_visits_weekly',\n",
    "       'Restaurants&Bars_visits_weekly', 'Educations_visits_weekly',\n",
    "       'Healthcares_visits_weekly', 'others_visits_weekly']\n",
    "for col in y_ls:\n",
    "    visits_scores_wk[col+'_lag1'] = visits_scores_wk.groupby('MODZCTA')[col].shift(1)"
   ]
  },
  {
   "cell_type": "code",
   "execution_count": 12,
   "id": "ae6d9582",
   "metadata": {},
   "outputs": [],
   "source": [
    "visits_scores_wk.to_csv('../data/unpivot_merged_data_raw_{}_s.csv'.format(mobility_map_method),index=False)"
   ]
  },
  {
   "cell_type": "code",
   "execution_count": 30,
   "id": "b14e3a69",
   "metadata": {},
   "outputs": [],
   "source": [
    "non_positive = visits_scores_wk[(visits_scores_wk[['Grocery&Pharmacies_visits_weekly',\n",
    "       'Retails_visits_weekly', 'Arts&Entertainment_visits_weekly',\n",
    "       'Restaurants&Bars_visits_weekly', 'Educations_visits_weekly',\n",
    "       'Healthcares_visits_weekly', 'others_visits_weekly']] <= 0).any(axis=1)]"
   ]
  },
  {
   "cell_type": "code",
   "execution_count": null,
   "id": "4a898ced",
   "metadata": {},
   "outputs": [],
   "source": []
  }
 ],
 "metadata": {
  "kernelspec": {
   "display_name": "geo",
   "language": "python",
   "name": "python3"
  },
  "language_info": {
   "codemirror_mode": {
    "name": "ipython",
    "version": 3
   },
   "file_extension": ".py",
   "mimetype": "text/x-python",
   "name": "python",
   "nbconvert_exporter": "python",
   "pygments_lexer": "ipython3",
   "version": "3.11.8"
  }
 },
 "nbformat": 4,
 "nbformat_minor": 5
}
