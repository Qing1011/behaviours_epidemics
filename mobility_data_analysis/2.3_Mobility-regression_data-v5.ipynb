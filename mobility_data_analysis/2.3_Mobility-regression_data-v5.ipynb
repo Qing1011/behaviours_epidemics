{
 "cells": [
  {
   "cell_type": "code",
   "execution_count": 18,
   "id": "a00fde71",
   "metadata": {},
   "outputs": [],
   "source": [
    "import pandas as pd\n",
    "import numpy as np\n",
    "import os\n",
    "import csv\n",
    "import ast\n",
    "from collections import Counter\n",
    "import geopandas as gpd\n",
    "import h5py\n",
    "from datetime import datetime, timedelta\n",
    "import matplotlib.pyplot as plt\n",
    "import sys"
   ]
  },
  {
   "cell_type": "code",
   "execution_count": 19,
   "id": "e449fb2b",
   "metadata": {},
   "outputs": [],
   "source": [
    "cluster_name = {0: 'Glocery&Pharmacies', 1: 'Retails', 2: 'Arts&Entertainment', 3: 'Restaurants&Bars',\n",
    "                4: 'Educations', 5: 'Healthcares', 6: 'others'}"
   ]
  },
  {
   "cell_type": "code",
   "execution_count": 20,
   "id": "c5cb7923",
   "metadata": {},
   "outputs": [],
   "source": [
    "###1 mobility\n",
    "mobility_map_method = '1to1'\n",
    "#  loss_visitors\n",
    "#  1tomore\n",
    "#  1to1"
   ]
  },
  {
   "cell_type": "code",
   "execution_count": 21,
   "id": "06b4609c",
   "metadata": {},
   "outputs": [],
   "source": [
    "df_flow = pd.read_csv('../data/raw_mobility/outflow_7c_wk_raw_{}.csv'.format(mobility_map_method))\n",
    "df_flow['MODZCTA'] = df_flow['MODZCTA'].astype(str)"
   ]
  },
  {
   "cell_type": "code",
   "execution_count": 22,
   "id": "3abf82d9",
   "metadata": {},
   "outputs": [
    {
     "name": "stdout",
     "output_type": "stream",
     "text": [
      "Retails\n",
      "Arts&Entertainment\n",
      "Restaurants&Bars\n",
      "Educations\n",
      "Healthcares\n",
      "others\n"
     ]
    }
   ],
   "source": [
    "cluster_cols = [cluster_name[0]+'_{}'.format(i) for i in range(56)] \n",
    "# 56 weeks from 2020-02-04 to 2021-03-02\n",
    "# only need 53 weeks from 2020-02-24 to 2021-02-02\n",
    "df_vist_cluster_i = df_flow[['MODZCTA','mod_idx']+cluster_cols].copy()\n",
    "\n",
    "final_df = pd.melt(df_vist_cluster_i, id_vars=['MODZCTA','mod_idx'], value_vars = cluster_cols[3:3+51], var_name='week', value_name=cluster_name[0]+'_visits_weekly')\n",
    "#### \n",
    "# Correctly adjust the code to perform the intended replacement\n",
    "final_df['week'] = final_df['week'].apply(lambda x: (int(x.split('_')[1]) - 3))\n",
    "\n",
    "for c_idx in range(1,7):\n",
    "    print(cluster_name[c_idx])\n",
    "    cluster_cols = [cluster_name[c_idx]+'_{}'.format(i) for i in range(56)]\n",
    "    df_vist_cluster_i = df_flow[['MODZCTA', 'mod_idx']+cluster_cols].copy()\n",
    "    temp_df = pd.melt(df_vist_cluster_i, id_vars=['MODZCTA', 'mod_idx'], value_vars = cluster_cols[3:3+51], \n",
    "                    var_name='week', value_name=cluster_name[c_idx]+'_visits_weekly')\n",
    "    temp_df['week'] = temp_df['week'].apply(lambda x: (int(x.split('_')[1]) - 3))\n",
    "    final_df = pd.merge(final_df, temp_df, on=['MODZCTA','mod_idx','week'])"
   ]
  },
  {
   "cell_type": "markdown",
   "id": "192f8b67",
   "metadata": {},
   "source": [
    "Merge all the other data at the zipcode level"
   ]
  },
  {
   "cell_type": "code",
   "execution_count": 23,
   "id": "b8eb040a",
   "metadata": {},
   "outputs": [
    {
     "name": "stdout",
     "output_type": "stream",
     "text": [
      "6477\n"
     ]
    }
   ],
   "source": [
    "### 2 read scores data at zipcode level#########\n",
    "final_df['MODZCTA'] = final_df['MODZCTA'].astype(int)\n",
    "df_mod_score = pd.read_csv('../results/scores/modzcta_scores.csv')\n",
    "df_2 = final_df.merge(df_mod_score, right_on = 'MODZCTA', left_on='MODZCTA',how='left')\n",
    "df_2.dropna(subset=['score_median'],inplace=True)\n",
    "print(len(df_2))"
   ]
  },
  {
   "cell_type": "code",
   "execution_count": 24,
   "id": "199fe375",
   "metadata": {},
   "outputs": [
    {
     "name": "stdout",
     "output_type": "stream",
     "text": [
      "816\n"
     ]
    }
   ],
   "source": [
    "##### 3 social economic data ######\n",
    "df_sed_nyc = pd.read_csv('../Data/sed_nyc_modzcta_2021.csv')\n",
    "# df_sed_nyc = pd.read_csv('../Data/sed_old.csv')\n",
    "# df_3 = df_2.merge(df_sed_nyc, right_on = 'MODZCTA', left_on='MODZCTA',how='left')\n",
    "df_3 = df_2.merge(df_sed_nyc, right_on = 'MODZCTA', left_on='MODZCTA',how='right')\n",
    "### when merged on the right will have the subset of zipcodes \n",
    "##  where the zipcodes counts are satisfied\n",
    "print(len(df_3))"
   ]
  },
  {
   "cell_type": "code",
   "execution_count": 25,
   "id": "c23be3dc",
   "metadata": {},
   "outputs": [],
   "source": [
    "### 4 merge with borough cases ###\n",
    "df_borough = pd.read_csv('../Data/mappings/data-by-modzcta.csv')\n",
    "df_borough['borough'] = df_borough['BOROUGH_GROUP'].replace({'Manhattan':'MN', 'Brooklyn':'BK', 'Queens':'QN', 'Bronx':'BX', 'Staten Island':'SI'})\n",
    "df_borough_s = df_borough.rename(columns={'MODIFIED_ZCTA':'MODZCTA',\n",
    "                                          'COVID_CONFIRMED_CASE_COUNT':'COVID_CONFIRMED_CASE_COUNT_final', \n",
    "                                          'COVID_PROBABLE_CASE_COUNT':'COVID_PROBABLE_CASE_COUNT_final',\n",
    "                                          'COVID_CASE_COUNT':'COVID_CASE_COUNT_final',\n",
    "                                          'COVID_CONFIRMED_CASE_RATE':'COVID_CONFIRMED_CASE_RATE_final', \n",
    "                                          'COVID_CASE_RATE':'COVID_CASE_RATE_final',\n",
    "                                          'COVID_DEATH_COUNT':'COVID_DEATH_COUNT_final', \n",
    "                                          'COVID_DEATH_RATE':'COVID_DEATH_RATE_final' })\n",
    "df_3 = df_3.merge(df_borough_s, on='MODZCTA',how='left')"
   ]
  },
  {
   "cell_type": "code",
   "execution_count": 27,
   "id": "7d5bccbf",
   "metadata": {},
   "outputs": [
    {
     "name": "stdout",
     "output_type": "stream",
     "text": [
      "816\n"
     ]
    }
   ],
   "source": [
    "covid_cases = pd.read_csv('../data/cases_borough_weekly.csv')\n",
    "for col in ['CASE_COUNT','DEATH_COUNT', 'borough_case_count', 'borough_death_count']:\n",
    "    covid_cases[col] = covid_cases[col].astype(float)\n",
    "    covid_cases.loc[covid_cases[col]==0,col] = 0.1\n",
    "    covid_cases[col+'_log'] = np.log(covid_cases[col])\n",
    "\n",
    "df_4 = df_3.merge(covid_cases, on=['borough', 'week'], how='left')\n",
    "print(len(df_4))"
   ]
  },
  {
   "cell_type": "code",
   "execution_count": 12,
   "id": "45eb74d1",
   "metadata": {},
   "outputs": [
    {
     "name": "stdout",
     "output_type": "stream",
     "text": [
      "816\n"
     ]
    }
   ],
   "source": [
    "### 5 merge with policies ####\n",
    "df_policies = pd.read_csv('../data/stringency_index_ny_wk.csv')\n",
    "visits_scores_wk = df_4.merge(df_policies, on='week', how='left')\n",
    "print(len(visits_scores_wk))"
   ]
  },
  {
   "cell_type": "code",
   "execution_count": 11,
   "id": "ae6d9582",
   "metadata": {},
   "outputs": [],
   "source": [
    "visits_scores_wk.to_csv('../data/unpivot_merged_data_raw_{}_s.csv'.format(mobility_map_method),index=False)"
   ]
  },
  {
   "cell_type": "code",
   "execution_count": 14,
   "id": "ab2f2a58",
   "metadata": {},
   "outputs": [
    {
     "data": {
      "text/plain": [
       "Index(['MODZCTA', 'mod_idx', 'week', 'Glocery&Pharmacies_visits_weekly',\n",
       "       'Retails_visits_weekly', 'Arts&Entertainment_visits_weekly',\n",
       "       'Restaurants&Bars_visits_weekly', 'Educations_visits_weekly',\n",
       "       'Healthcares_visits_weekly', 'others_visits_weekly', 'score_mean',\n",
       "       'score_median', 'score_std', 'gain_bias_mean', 'gain_bias_median',\n",
       "       'gain_bias_std', 'loss_bias_mean', 'loss_bias_median', 'loss_bias_std',\n",
       "       'loss_aversion_scores_mean', 'loss_aversion_scores_median',\n",
       "       'loss_aversion_scores_std', 'rescale_avail_mean',\n",
       "       'rescale_avail_median', 'rescale_avail_std', 'rescale_realistic_mean',\n",
       "       'rescale_realistic_median', 'rescale_realistic_std', 'agency_mean',\n",
       "       'agency_median', 'agency_std', 'regulated_tdscores_mean',\n",
       "       'regulated_tdscores_median', 'regulated_tdscores_std',\n",
       "       'regulated_agency_mean', 'regulated_agency_median',\n",
       "       'regulated_agency_std', 'regulated_loss_mean', 'regulated_loss_median',\n",
       "       'regulated_loss_std', 'modzcta_count', 'weighted_estimated_average_age',\n",
       "       'median_age', 'Black', 'Hispanic', 'Household_income', 'Bachelor',\n",
       "       'Household_num', 'Population', 'No_health_insurance', 'No_vehicles',\n",
       "       'No_health_insurance_rate', 'No_vehicles_rate', 'NEIGHBORHOOD_NAME',\n",
       "       'BOROUGH_GROUP', 'label', 'lat', 'lon',\n",
       "       'COVID_CONFIRMED_CASE_COUNT_final', 'COVID_PROBABLE_CASE_COUNT_final',\n",
       "       'COVID_CASE_COUNT_final', 'COVID_CONFIRMED_CASE_RATE_final',\n",
       "       'COVID_CASE_RATE_final', 'POP_DENOMINATOR', 'COVID_DEATH_COUNT_final',\n",
       "       'COVID_DEATH_RATE_final', 'borough', 'CASE_COUNT', 'DEATH_COUNT',\n",
       "       'borough_case_count', 'id', 'borough_death_count', 'CASE_COUNT_log',\n",
       "       'DEATH_COUNT_log', 'borough_case_count_log', 'borough_death_count_log',\n",
       "       'Date', 'StringencyIndex_WeightedAverage'],\n",
       "      dtype='object')"
      ]
     },
     "execution_count": 14,
     "metadata": {},
     "output_type": "execute_result"
    }
   ],
   "source": [
    "visits_scores_wk.columns"
   ]
  },
  {
   "cell_type": "code",
   "execution_count": 16,
   "id": "70ae3c10",
   "metadata": {},
   "outputs": [],
   "source": [
    "for col in ['Glocery&Pharmacies_visits_weekly',\n",
    "       'Retails_visits_weekly', 'Arts&Entertainment_visits_weekly',\n",
    "       'Restaurants&Bars_visits_weekly', 'Educations_visits_weekly',\n",
    "       'Healthcares_visits_weekly']:\n",
    "       visits_scores_wk[col+'_pp'] = visits_scores_wk[col]/visits_scores_wk['Population']*100"
   ]
  },
  {
   "cell_type": "code",
   "execution_count": 17,
   "id": "1eec3759",
   "metadata": {},
   "outputs": [],
   "source": [
    "visits_scores_wk['Bachelor_percent'] = visits_scores_wk['Bachelor']/visits_scores_wk['Population']"
   ]
  },
  {
   "cell_type": "code",
   "execution_count": null,
   "id": "e2fe1ce3",
   "metadata": {},
   "outputs": [],
   "source": [
    "select_cols = ['Glocery&Pharmacies_visits_weekly_pp',\n",
    "       'Retails_visits_weekly_pp', 'Arts&Entertainment_visits_weekly_pp',\n",
    "       'Restaurants&Bars_visits_weekly_pp', 'Educations_visits_weekly_pp',\n",
    "       'Healthcares_visits_weekly_pp', \n",
    "       'regulated_tdscores_median', \n",
    "       'regulated_agency_median',\n",
    "       'regulated_loss_median',\n",
    "       'weighted_estimated_average_age',\n",
    "       'Household_income', \n",
    "       'Bachelor_percent',\n",
    "       'Household_num', \n",
    "       'No_health_insurance_rate', 'No_vehicles_rate',\n",
    "       'borough_case_count_log',\n",
    "       'StringencyIndex_WeightedAverage']"
   ]
  },
  {
   "cell_type": "code",
   "execution_count": null,
   "id": "a72ff296",
   "metadata": {},
   "outputs": [],
   "source": [
    "from matplotlib import colors\n",
    "from sklearn.preprocessing import StandardScaler\n",
    "\n",
    "# Assuming gdf_filtered is your GeoDataFrame and select_cols is a list of column names\n",
    "scaler = StandardScaler()\n",
    "\n",
    "# Fit the scaler to the data and transform it\n",
    "gdf_normalized = scaler.fit_transform(gdf_filtered[select_cols])\n",
    "\n",
    "# Convert the normalized array back to a DataFrame\n",
    "df_normalized = pd.DataFrame(gdf_normalized, columns=select_cols)\n",
    "\n",
    "# Now compute the correlation on the normalized DataFrame\n",
    "corr = df_normalized.corr()\n",
    "\n",
    "# corr = gdf_filtered[select_cols].corr()\n",
    "fig, ax = plt.subplots(figsize=(15, 15))  # Optional: specifies the figure size\n",
    "norm = colors.TwoSlopeNorm(vmin=-1, vcenter=0, vmax=1)\n",
    "\n",
    "cax = ax.matshow(corr, cmap='coolwarm',norm=norm)\n",
    "plt.xticks(range(len(corr.columns)), corr.columns, rotation=90)\n",
    "plt.yticks(range(len(corr.columns)), corr.columns)\n",
    "\n",
    "# Add a color bar\n",
    "fig.colorbar(cax)\n",
    "\n",
    "# Optional: Add annotations with the correlation values\n",
    "for (i, j), val in np.ndenumerate(corr):\n",
    "    ax.text(j, i, f'{val:.2f}', ha='center', va='center', color='white')\n",
    "\n",
    "plt.title(\"Correlation Matrix Heatmap\", pad=20)\n",
    "plt.show()"
   ]
  }
 ],
 "metadata": {
  "kernelspec": {
   "display_name": "Python 3 (ipykernel)",
   "language": "python",
   "name": "python3"
  },
  "language_info": {
   "codemirror_mode": {
    "name": "ipython",
    "version": 3
   },
   "file_extension": ".py",
   "mimetype": "text/x-python",
   "name": "python",
   "nbconvert_exporter": "python",
   "pygments_lexer": "ipython3",
   "version": "3.11.8"
  }
 },
 "nbformat": 4,
 "nbformat_minor": 5
}
