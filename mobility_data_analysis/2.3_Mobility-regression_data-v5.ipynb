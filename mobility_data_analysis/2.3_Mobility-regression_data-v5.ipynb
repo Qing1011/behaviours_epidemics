{
 "cells": [
  {
   "cell_type": "code",
   "execution_count": 31,
   "id": "a00fde71",
   "metadata": {},
   "outputs": [],
   "source": [
    "import pandas as pd\n",
    "import numpy as np\n",
    "import os\n",
    "import csv\n",
    "import ast\n",
    "from collections import Counter\n",
    "import geopandas as gpd\n",
    "import h5py\n",
    "from datetime import datetime, timedelta\n",
    "#### personal packages####\n",
    "import sys"
   ]
  },
  {
   "cell_type": "code",
   "execution_count": 32,
   "id": "e449fb2b",
   "metadata": {},
   "outputs": [],
   "source": [
    "cluster_name = {0: 'Glocery&Pharmacies', 1: 'Retails', 2: 'Arts&Entertainment', 3: 'Restaurants&Bars',\n",
    "                4: 'Educations', 5: 'Healthcares', 6: 'others'}"
   ]
  },
  {
   "cell_type": "code",
   "execution_count": 33,
   "id": "06b4609c",
   "metadata": {},
   "outputs": [],
   "source": [
    "df_flow = pd.read_csv('../results/outflow_7c_wk_raw.csv')\n",
    "df_flow['MODZCTA'] = df_flow['MODZCTA'].astype(str)"
   ]
  },
  {
   "cell_type": "code",
   "execution_count": 34,
   "id": "3b30fe52",
   "metadata": {},
   "outputs": [
    {
     "data": {
      "text/html": [
       "<div>\n",
       "<style scoped>\n",
       "    .dataframe tbody tr th:only-of-type {\n",
       "        vertical-align: middle;\n",
       "    }\n",
       "\n",
       "    .dataframe tbody tr th {\n",
       "        vertical-align: top;\n",
       "    }\n",
       "\n",
       "    .dataframe thead th {\n",
       "        text-align: right;\n",
       "    }\n",
       "</style>\n",
       "<table border=\"1\" class=\"dataframe\">\n",
       "  <thead>\n",
       "    <tr style=\"text-align: right;\">\n",
       "      <th></th>\n",
       "      <th>MODZCTA</th>\n",
       "      <th>mod_idx</th>\n",
       "      <th>Glocery&amp;Pharmacies_0</th>\n",
       "      <th>Glocery&amp;Pharmacies_1</th>\n",
       "      <th>Glocery&amp;Pharmacies_2</th>\n",
       "      <th>Glocery&amp;Pharmacies_3</th>\n",
       "      <th>Glocery&amp;Pharmacies_4</th>\n",
       "      <th>Glocery&amp;Pharmacies_5</th>\n",
       "      <th>Glocery&amp;Pharmacies_6</th>\n",
       "      <th>Glocery&amp;Pharmacies_7</th>\n",
       "      <th>...</th>\n",
       "      <th>others_46</th>\n",
       "      <th>others_47</th>\n",
       "      <th>others_48</th>\n",
       "      <th>others_49</th>\n",
       "      <th>others_50</th>\n",
       "      <th>others_51</th>\n",
       "      <th>others_52</th>\n",
       "      <th>others_53</th>\n",
       "      <th>others_54</th>\n",
       "      <th>others_55</th>\n",
       "    </tr>\n",
       "  </thead>\n",
       "  <tbody>\n",
       "    <tr>\n",
       "      <th>0</th>\n",
       "      <td>10463</td>\n",
       "      <td>0</td>\n",
       "      <td>2487.655245</td>\n",
       "      <td>2275.680558</td>\n",
       "      <td>1843.889403</td>\n",
       "      <td>2651.257490</td>\n",
       "      <td>2188.490532</td>\n",
       "      <td>2013.783596</td>\n",
       "      <td>1658.860760</td>\n",
       "      <td>1073.727648</td>\n",
       "      <td>...</td>\n",
       "      <td>1559.042424</td>\n",
       "      <td>1311.936342</td>\n",
       "      <td>1324.153258</td>\n",
       "      <td>1384.974465</td>\n",
       "      <td>1257.324068</td>\n",
       "      <td>1375.229453</td>\n",
       "      <td>1002.906180</td>\n",
       "      <td>1480.891291</td>\n",
       "      <td>1407.041800</td>\n",
       "      <td>1306.053993</td>\n",
       "    </tr>\n",
       "    <tr>\n",
       "      <th>1</th>\n",
       "      <td>10471</td>\n",
       "      <td>1</td>\n",
       "      <td>623.722759</td>\n",
       "      <td>405.454625</td>\n",
       "      <td>612.218598</td>\n",
       "      <td>546.460340</td>\n",
       "      <td>530.761999</td>\n",
       "      <td>617.323880</td>\n",
       "      <td>337.775556</td>\n",
       "      <td>249.837528</td>\n",
       "      <td>...</td>\n",
       "      <td>458.574342</td>\n",
       "      <td>475.775682</td>\n",
       "      <td>359.265769</td>\n",
       "      <td>435.449029</td>\n",
       "      <td>335.950641</td>\n",
       "      <td>544.031862</td>\n",
       "      <td>382.070734</td>\n",
       "      <td>427.738877</td>\n",
       "      <td>433.704457</td>\n",
       "      <td>369.952058</td>\n",
       "    </tr>\n",
       "    <tr>\n",
       "      <th>2</th>\n",
       "      <td>10466</td>\n",
       "      <td>2</td>\n",
       "      <td>3886.352388</td>\n",
       "      <td>3285.403224</td>\n",
       "      <td>2836.591637</td>\n",
       "      <td>3907.839585</td>\n",
       "      <td>3194.343397</td>\n",
       "      <td>3506.359917</td>\n",
       "      <td>2207.903384</td>\n",
       "      <td>1547.531695</td>\n",
       "      <td>...</td>\n",
       "      <td>2953.330333</td>\n",
       "      <td>2907.669631</td>\n",
       "      <td>2867.336372</td>\n",
       "      <td>2638.141946</td>\n",
       "      <td>2457.859791</td>\n",
       "      <td>2678.608428</td>\n",
       "      <td>2151.994640</td>\n",
       "      <td>2447.586891</td>\n",
       "      <td>2250.649334</td>\n",
       "      <td>2198.777401</td>\n",
       "    </tr>\n",
       "    <tr>\n",
       "      <th>3</th>\n",
       "      <td>10469</td>\n",
       "      <td>3</td>\n",
       "      <td>3721.460268</td>\n",
       "      <td>3479.092721</td>\n",
       "      <td>3003.788466</td>\n",
       "      <td>3641.022828</td>\n",
       "      <td>3314.116577</td>\n",
       "      <td>3213.887501</td>\n",
       "      <td>2443.129012</td>\n",
       "      <td>1745.621272</td>\n",
       "      <td>...</td>\n",
       "      <td>2929.376979</td>\n",
       "      <td>2543.060451</td>\n",
       "      <td>2791.909151</td>\n",
       "      <td>2939.298600</td>\n",
       "      <td>2848.747022</td>\n",
       "      <td>2720.786523</td>\n",
       "      <td>2105.575169</td>\n",
       "      <td>2711.692493</td>\n",
       "      <td>2831.577121</td>\n",
       "      <td>2591.741624</td>\n",
       "    </tr>\n",
       "    <tr>\n",
       "      <th>4</th>\n",
       "      <td>10475</td>\n",
       "      <td>4</td>\n",
       "      <td>1976.166466</td>\n",
       "      <td>1986.236375</td>\n",
       "      <td>1825.521536</td>\n",
       "      <td>1755.846313</td>\n",
       "      <td>1774.496597</td>\n",
       "      <td>1930.771287</td>\n",
       "      <td>1389.960498</td>\n",
       "      <td>776.002776</td>\n",
       "      <td>...</td>\n",
       "      <td>2271.982737</td>\n",
       "      <td>2169.631134</td>\n",
       "      <td>2173.624303</td>\n",
       "      <td>2122.259775</td>\n",
       "      <td>2033.363970</td>\n",
       "      <td>2055.229514</td>\n",
       "      <td>1787.006269</td>\n",
       "      <td>1792.355506</td>\n",
       "      <td>1911.192523</td>\n",
       "      <td>2017.125010</td>\n",
       "    </tr>\n",
       "  </tbody>\n",
       "</table>\n",
       "<p>5 rows × 394 columns</p>\n",
       "</div>"
      ],
      "text/plain": [
       "  MODZCTA  mod_idx  Glocery&Pharmacies_0  Glocery&Pharmacies_1  \\\n",
       "0   10463        0           2487.655245           2275.680558   \n",
       "1   10471        1            623.722759            405.454625   \n",
       "2   10466        2           3886.352388           3285.403224   \n",
       "3   10469        3           3721.460268           3479.092721   \n",
       "4   10475        4           1976.166466           1986.236375   \n",
       "\n",
       "   Glocery&Pharmacies_2  Glocery&Pharmacies_3  Glocery&Pharmacies_4  \\\n",
       "0           1843.889403           2651.257490           2188.490532   \n",
       "1            612.218598            546.460340            530.761999   \n",
       "2           2836.591637           3907.839585           3194.343397   \n",
       "3           3003.788466           3641.022828           3314.116577   \n",
       "4           1825.521536           1755.846313           1774.496597   \n",
       "\n",
       "   Glocery&Pharmacies_5  Glocery&Pharmacies_6  Glocery&Pharmacies_7  ...  \\\n",
       "0           2013.783596           1658.860760           1073.727648  ...   \n",
       "1            617.323880            337.775556            249.837528  ...   \n",
       "2           3506.359917           2207.903384           1547.531695  ...   \n",
       "3           3213.887501           2443.129012           1745.621272  ...   \n",
       "4           1930.771287           1389.960498            776.002776  ...   \n",
       "\n",
       "     others_46    others_47    others_48    others_49    others_50  \\\n",
       "0  1559.042424  1311.936342  1324.153258  1384.974465  1257.324068   \n",
       "1   458.574342   475.775682   359.265769   435.449029   335.950641   \n",
       "2  2953.330333  2907.669631  2867.336372  2638.141946  2457.859791   \n",
       "3  2929.376979  2543.060451  2791.909151  2939.298600  2848.747022   \n",
       "4  2271.982737  2169.631134  2173.624303  2122.259775  2033.363970   \n",
       "\n",
       "     others_51    others_52    others_53    others_54    others_55  \n",
       "0  1375.229453  1002.906180  1480.891291  1407.041800  1306.053993  \n",
       "1   544.031862   382.070734   427.738877   433.704457   369.952058  \n",
       "2  2678.608428  2151.994640  2447.586891  2250.649334  2198.777401  \n",
       "3  2720.786523  2105.575169  2711.692493  2831.577121  2591.741624  \n",
       "4  2055.229514  1787.006269  1792.355506  1911.192523  2017.125010  \n",
       "\n",
       "[5 rows x 394 columns]"
      ]
     },
     "execution_count": 34,
     "metadata": {},
     "output_type": "execute_result"
    }
   ],
   "source": [
    "df_flow.head()"
   ]
  },
  {
   "cell_type": "code",
   "execution_count": 35,
   "id": "3abf82d9",
   "metadata": {},
   "outputs": [
    {
     "name": "stdout",
     "output_type": "stream",
     "text": [
      "Retails\n",
      "Arts&Entertainment\n",
      "Restaurants&Bars\n",
      "Educations\n",
      "Healthcares\n",
      "others\n"
     ]
    }
   ],
   "source": [
    "cluster_cols = [cluster_name[0]+'_{}'.format(i) for i in range(56)] \n",
    "# 56 weeks from 2020-02-04 to 2021-03-02\n",
    "# only need 53 weeks from 2020-02-24 to 2021-02-02\n",
    "df_vist_cluster_i = df_flow[['MODZCTA','mod_idx']+cluster_cols].copy()\n",
    "\n",
    "final_df = pd.melt(df_vist_cluster_i, id_vars=['MODZCTA','mod_idx'], value_vars = cluster_cols[3:3+51], var_name='week', value_name=cluster_name[0]+'_visits_weekly')\n",
    "#### \n",
    "# Correctly adjust the code to perform the intended replacement\n",
    "final_df['week'] = final_df['week'].apply(lambda x: (int(x.split('_')[1]) - 3))\n",
    "\n",
    "for c_idx in range(1,7):\n",
    "    print(cluster_name[c_idx])\n",
    "    cluster_cols = [cluster_name[c_idx]+'_{}'.format(i) for i in range(56)]\n",
    "    df_vist_cluster_i = df_flow[['MODZCTA', 'mod_idx']+cluster_cols].copy()\n",
    "    temp_df = pd.melt(df_vist_cluster_i, id_vars=['MODZCTA', 'mod_idx'], value_vars = cluster_cols[3:3+51], \n",
    "                    var_name='week', value_name=cluster_name[c_idx]+'_visits_weekly')\n",
    "    temp_df['week'] = temp_df['week'].apply(lambda x: (int(x.split('_')[1]) - 3))\n",
    "    final_df = pd.merge(final_df, temp_df, on=['MODZCTA','mod_idx','week'])"
   ]
  },
  {
   "cell_type": "code",
   "execution_count": 36,
   "id": "4ec116fe",
   "metadata": {},
   "outputs": [],
   "source": [
    "### 1 covid_data_population file \n",
    "df_mod_borough = pd.read_csv('../Data/data-by-modzcta_11102020.csv')\n",
    "# the len of the df_mod_borough is 177, the number of MODZCTA is 177\n",
    "df_mod_borough['MODIFIED_ZCTA'] = df_mod_borough['MODIFIED_ZCTA'].astype(str)\n",
    "replace_dic = dict(zip(['Manhattan', 'Staten Island', 'Bronx', 'Queens', 'Brooklyn'],['MN','SI','BX','QN','BK']))\n",
    "df_mod_borough['borough'] = df_mod_borough['BOROUGH_GROUP'].replace(replace_dic)\n",
    "\n",
    "for col in ['COVID_CASE_COUNT','COVID_DEATH_COUNT']:\n",
    "    df_mod_borough[col] = df_mod_borough[col].astype(float)\n",
    "    df_mod_borough.loc[df_mod_borough[col]==0,col] = 0.1\n",
    "    df_mod_borough[col+'_log'] = np.log(df_mod_borough[col])\n",
    "\n",
    "df_merged = final_df.merge(df_mod_borough, right_on = 'MODIFIED_ZCTA', left_on='MODZCTA')\n",
    "columns_to_delete = ['MODIFIED_ZCTA','BOROUGH_GROUP']\n",
    "df_merged = df_merged.drop(columns=columns_to_delete)\n",
    "df_merged['MODZCTA'] = df_merged['MODZCTA'].astype(int)"
   ]
  },
  {
   "cell_type": "code",
   "execution_count": 37,
   "id": "739f1194",
   "metadata": {},
   "outputs": [
    {
     "data": {
      "text/plain": [
       "9027"
      ]
     },
     "execution_count": 37,
     "metadata": {},
     "output_type": "execute_result"
    }
   ],
   "source": [
    "len(df_merged)"
   ]
  },
  {
   "cell_type": "markdown",
   "id": "192f8b67",
   "metadata": {},
   "source": [
    "Merge all the other data at the zipcode level"
   ]
  },
  {
   "cell_type": "code",
   "execution_count": 38,
   "id": "b8eb040a",
   "metadata": {},
   "outputs": [
    {
     "name": "stdout",
     "output_type": "stream",
     "text": [
      "6477\n"
     ]
    }
   ],
   "source": [
    "### 2 read scores data at zipcode level#########\n",
    "df_mod_score = pd.read_csv('../results/modzcta_scores.csv')\n",
    "df_2 = df_merged.merge(df_mod_score, right_on = 'MODZCTA', left_on='MODZCTA',how='left')\n",
    "df_2.dropna(subset=['score_median'],inplace=True)\n",
    "print(len(df_2))"
   ]
  },
  {
   "cell_type": "code",
   "execution_count": 39,
   "id": "199fe375",
   "metadata": {},
   "outputs": [
    {
     "name": "stdout",
     "output_type": "stream",
     "text": [
      "6477\n"
     ]
    }
   ],
   "source": [
    "##### 3 social economic data ######\n",
    "# df_sed_nyc = pd.read_csv('../Data/sed_nyc_modzcta.csv')\n",
    "df_sed_nyc = pd.read_csv('../Data/sed_old.csv')\n",
    "df_3 = df_2.merge(df_sed_nyc, right_on = 'MODZCTA', left_on='MODZCTA',how='left')\n",
    "print(len(df_3))"
   ]
  },
  {
   "cell_type": "code",
   "execution_count": 40,
   "id": "7d5bccbf",
   "metadata": {},
   "outputs": [
    {
     "name": "stdout",
     "output_type": "stream",
     "text": [
      "6477\n"
     ]
    }
   ],
   "source": [
    "### 4 merge with borough cases ###\n",
    "covid_cases = pd.read_csv('../data/cases_borough_weekly.csv')\n",
    "for col in ['CASE_COUNT','DEATH_COUNT', 'borough_case_count', 'borough_death_count']:\n",
    "    covid_cases[col] = covid_cases[col].astype(float)\n",
    "    covid_cases.loc[covid_cases[col]==0,col] = 0.1\n",
    "    covid_cases[col+'_log'] = np.log(covid_cases[col])\n",
    "\n",
    "df_4 = df_3.merge(covid_cases, on=['borough', 'week'], how='left')\n",
    "print(len(df_4))"
   ]
  },
  {
   "cell_type": "code",
   "execution_count": 41,
   "id": "45eb74d1",
   "metadata": {},
   "outputs": [
    {
     "name": "stdout",
     "output_type": "stream",
     "text": [
      "6477\n"
     ]
    }
   ],
   "source": [
    "### 5 merge with policies ####\n",
    "df_policies = pd.read_csv('../data/stringency_index_ny_wk.csv')\n",
    "visits_scores_wk = df_4.merge(df_policies, on='week', how='left')\n",
    "print(len(visits_scores_wk))"
   ]
  },
  {
   "cell_type": "code",
   "execution_count": 43,
   "id": "ae6d9582",
   "metadata": {},
   "outputs": [],
   "source": [
    "visits_scores_wk.to_csv('../data/unpivot_merged_data_raw_old.csv',index=False)"
   ]
  },
  {
   "cell_type": "code",
   "execution_count": 30,
   "id": "ab2f2a58",
   "metadata": {},
   "outputs": [
    {
     "data": {
      "text/plain": [
       "Index(['MODZCTA', 'mod_idx', 'week', 'Glocery&Pharmacies_visits_weekly',\n",
       "       'Retails_visits_weekly', 'Arts&Entertainment_visits_weekly',\n",
       "       'Restaurants&Bars_visits_weekly', 'Educations_visits_weekly',\n",
       "       'Healthcares_visits_weekly', 'others_visits_weekly',\n",
       "       'NEIGHBORHOOD_NAME', 'COVID_CASE_COUNT', 'COVID_CASE_RATE',\n",
       "       'POP_DENOMINATOR', 'COVID_DEATH_COUNT', 'COVID_DEATH_RATE',\n",
       "       'PERCENT_POSITIVE', 'TOTAL_COVID_TESTS', 'borough',\n",
       "       'COVID_CASE_COUNT_log', 'COVID_DEATH_COUNT_log', 'score_mean',\n",
       "       'score_median', 'score_std', 'gain_bias_mean', 'gain_bias_median',\n",
       "       'gain_bias_std', 'loss_bias_mean', 'loss_bias_median', 'loss_bias_std',\n",
       "       'loss_aversion_scores_mean', 'loss_aversion_scores_median',\n",
       "       'loss_aversion_scores_std', 'rescale_avail_mean',\n",
       "       'rescale_avail_median', 'rescale_avail_std', 'rescale_realistic_mean',\n",
       "       'rescale_realistic_median', 'rescale_realistic_std', 'agency_mean',\n",
       "       'agency_median', 'agency_std', 'regulated_scores_mean',\n",
       "       'regulated_scores_median', 'regulated_scores_std',\n",
       "       'regulated_agency_mean', 'regulated_agency_median',\n",
       "       'regulated_agency_std', 'regulated_loss_mean', 'regulated_loss_median',\n",
       "       'regulated_loss_std', 'weighted_No_vehicle', 'weighted_Households_num',\n",
       "       'weighted_estimated_average_age_mean', 'NO_HEALTH_INSURANCE',\n",
       "       'HOUSEHOLD_SIZE', 'HOUSEHOLD_INCOME', 'BACHELORS', 'BLACK', 'HISPANIC',\n",
       "       'CASE_COUNT', 'DEATH_COUNT', 'borough_case_count', 'id',\n",
       "       'borough_death_count', 'CASE_COUNT_log', 'DEATH_COUNT_log',\n",
       "       'borough_case_count_log', 'borough_death_count_log', 'Date',\n",
       "       'StringencyIndex_WeightedAverage'],\n",
       "      dtype='object')"
      ]
     },
     "execution_count": 30,
     "metadata": {},
     "output_type": "execute_result"
    }
   ],
   "source": [
    "visits_scores_wk.columns"
   ]
  },
  {
   "cell_type": "markdown",
   "id": "d7f7f7a9",
   "metadata": {},
   "source": []
  }
 ],
 "metadata": {
  "kernelspec": {
   "display_name": "Python 3 (ipykernel)",
   "language": "python",
   "name": "python3"
  },
  "language_info": {
   "codemirror_mode": {
    "name": "ipython",
    "version": 3
   },
   "file_extension": ".py",
   "mimetype": "text/x-python",
   "name": "python",
   "nbconvert_exporter": "python",
   "pygments_lexer": "ipython3",
   "version": "3.11.8"
  }
 },
 "nbformat": 4,
 "nbformat_minor": 5
}
