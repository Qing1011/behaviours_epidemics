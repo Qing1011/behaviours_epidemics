{
 "cells": [
  {
   "cell_type": "code",
   "execution_count": 1,
   "id": "2e503c89",
   "metadata": {},
   "outputs": [
    {
     "name": "stdout",
     "output_type": "stream",
     "text": [
      "my package for mobility extraction has been imported!\n"
     ]
    }
   ],
   "source": [
    "import pandas as pd\n",
    "import numpy as np\n",
    "import os\n",
    "import csv\n",
    "import ast\n",
    "import matplotlib.pyplot as plt\n",
    "from collections import Counter\n",
    "import geopandas as gpd\n",
    "import h5py\n",
    "from datetime import datetime, timedelta\n",
    "import sys\n",
    "# import mobility as mbl\n",
    "from python_mobility import mobility_matrix_extract_modzcta as mm\n",
    "from python_mobility import parameters as mp"
   ]
  },
  {
   "cell_type": "code",
   "execution_count": 2,
   "id": "abc65d22",
   "metadata": {},
   "outputs": [
    {
     "data": {
      "text/plain": [
       "{0: 'Grocery&Pharmacies',\n",
       " 1: 'Retails',\n",
       " 2: 'Arts&Entertainment',\n",
       " 3: 'Restaurants&Bars',\n",
       " 4: 'Educations',\n",
       " 5: 'Healthcares',\n",
       " 6: 'others'}"
      ]
     },
     "execution_count": 2,
     "metadata": {},
     "output_type": "execute_result"
    }
   ],
   "source": [
    "mp.cluster_name"
   ]
  },
  {
   "cell_type": "code",
   "execution_count": 3,
   "id": "abc63191",
   "metadata": {},
   "outputs": [],
   "source": [
    "save_dir = '../../../../../../../Volumes/Seagate_Qing/Safegraph_NYC/'"
   ]
  },
  {
   "cell_type": "code",
   "execution_count": 4,
   "id": "febcb667",
   "metadata": {},
   "outputs": [],
   "source": [
    "wk_ls = []\n",
    "for month in mp.months[1:]:\n",
    "    # mm.extract_mobility_matrix(month, save_dir)   \n",
    "    wk_ls.extend(mp.ym_datesofweek['2020'+month])\n",
    "for month in mp.months[:2]:  \n",
    "    wk_ls.extend(mp.ym_datesofweek['2021'+month])"
   ]
  },
  {
   "cell_type": "code",
   "execution_count": 5,
   "id": "3a3cb6dd",
   "metadata": {},
   "outputs": [
    {
     "data": {
      "text/plain": [
       "53"
      ]
     },
     "execution_count": 5,
     "metadata": {},
     "output_type": "execute_result"
    }
   ],
   "source": [
    "len(wk_ls[3:])"
   ]
  },
  {
   "cell_type": "code",
   "execution_count": 6,
   "id": "610d9180",
   "metadata": {},
   "outputs": [
    {
     "name": "stdout",
     "output_type": "stream",
     "text": [
      "['03', '10', '17', '24']\n",
      "['01', '08', '15', '22']\n"
     ]
    }
   ],
   "source": [
    "print (mp.ym_datesofweek['202002'])\n",
    "print (mp.ym_datesofweek['202102'])"
   ]
  },
  {
   "cell_type": "markdown",
   "id": "6e01184c",
   "metadata": {},
   "source": [
    "### becareful with different matching level"
   ]
  },
  {
   "cell_type": "code",
   "execution_count": 7,
   "id": "546a0257",
   "metadata": {},
   "outputs": [],
   "source": [
    "df_nyc_tract_sorted = pd.read_csv('../data/mappings/nyc_tract_modzcta_v2021.csv')\n",
    "df_poi_mapping = pd.read_csv('../data/mappings/nyc_tract_modzcta_poi_v2021.csv')\n",
    "# df_poi_mapping = pd.read_csv('../data/df_nyc_tract_modidx_v33.csv')"
   ]
  },
  {
   "cell_type": "code",
   "execution_count": 5,
   "id": "d87cae63",
   "metadata": {},
   "outputs": [
    {
     "name": "stdout",
     "output_type": "stream",
     "text": [
      "[11]\n"
     ]
    }
   ],
   "source": [
    "## because the tract mapping provided in https://www.huduser.gov/apps/public/uspscrosswalk/home\n",
    "## the last digit is equal to zero while the mobility data has \n",
    "## example: 36061009900 has 36061009901, 36061009902 and 36061009903 in the mobility data, ignore it \n",
    "df_nyc_tract_sorted['digit_count'] = df_nyc_tract_sorted['tract'].apply(lambda x: len(str(x)))\n",
    "print(df_nyc_tract_sorted['digit_count'].unique())\n",
    "my_tract = df_nyc_tract_sorted['tract'].values\n",
    "df_nyc_tract_sorted['mod_idx'] = df_nyc_tract_sorted['mod_idx'].astype(int)\n",
    "# df_nyc_tract_sorted['tract_10'] = df_nyc_tract_sorted['tract'].apply(lambda x: int(str(x)[:-1]))\n",
    "modzcta_mapping = df_nyc_tract_sorted[['tract','res_ratio','mod_idx']].copy()\n",
    "# modzcta_mapping.rename(columns={'TRACT':'tract'},inplace=True)\n",
    "modzcta_mapping.set_index('tract',inplace=True)\n",
    "df_modzcta_mapping = modzcta_mapping.groupby(level=0).apply(lambda df: df if isinstance(df, pd.DataFrame) else df.to_frame().T)\n",
    "\n",
    "poi_mapping = df_poi_mapping[['tract','mod_idx']].copy()\n",
    "# poi_mapping.rename(columns={'TRACT':'tract'},inplace=True)\n",
    "poi_mapping.set_index('tract',inplace=True)"
   ]
  },
  {
   "cell_type": "code",
   "execution_count": 6,
   "id": "a84cd51f",
   "metadata": {},
   "outputs": [
    {
     "data": {
      "text/plain": [
       "set()"
      ]
     },
     "execution_count": 6,
     "metadata": {},
     "output_type": "execute_result"
    }
   ],
   "source": [
    "set(df_nyc_tract_sorted['tract'].unique().tolist()) - set(df_poi_mapping['tract'].unique().tolist())"
   ]
  },
  {
   "cell_type": "code",
   "execution_count": 8,
   "id": "3be8fedb",
   "metadata": {},
   "outputs": [
    {
     "name": "stdout",
     "output_type": "stream",
     "text": [
      "year: 2021\n",
      "month: 01\n",
      "week 04\n",
      "week 11\n",
      "week 18\n",
      "week 25\n",
      "month: 02\n",
      "week 01\n",
      "week 08\n",
      "week 15\n",
      "week 22\n"
     ]
    }
   ],
   "source": [
    "num_cate = 7 #5\n",
    "num_mod = 177\n",
    "#['03','04','05','06','07','08','09','10','11','12']\n",
    "cbgs_list = []\n",
    "for y in ['2021']:\n",
    "    print('year:',y)\n",
    "    for m in ['01','02']:\n",
    "        print('month:',m)\n",
    "        week_start_dates = mp.ym_datesofweek[y+m]\n",
    "        d0 = week_start_dates[0]\n",
    "        start_date = datetime.strptime(y+m+d0, '%Y%m%d')\n",
    "        num_wk = len(week_start_dates)\n",
    "        ### some of the months have more than 4 weeks \n",
    "        dates = [(start_date + timedelta(days=i)).strftime('%Y-%m-%d') for i in range(num_wk*7)]\n",
    "        M_raw = np.zeros((7*num_wk,num_cate,num_mod,num_mod)) ## time, POI, destination, origins\n",
    "        for week_idx in range(len(week_start_dates)): #len(week_start_dates)\n",
    "            start_date = week_start_dates[week_idx]\n",
    "            print('week',start_date)\n",
    "            dates_idx = np.array([0,1,2,3,4,5,6]) + np.array([week_idx*7]*7)\n",
    "            \n",
    "            file_name = save_dir+y+'_'+m+'_'+start_date+'.csv'\n",
    "            df_i = pd.read_csv(file_name)\n",
    "            ## THERE IS a place zip code in ny, but all cbgs are in and from CA, delete it\n",
    "            ## a fuel station \n",
    "            df_clean = mm.pre_process_df(df_i,mp.cluster,poi_mapping,11)\n",
    "            cbgs_list.extend(df_clean['poi_tract'].values.tolist())\n",
    "            \n",
    "            df_m = pd.DataFrame()\n",
    "            df_m['cluster_idx'] = df_clean['cluster_qing'].astype(int)\n",
    "            df_m['i'] = df_clean['mod_idx'].astype(int)\n",
    "            df_m['raw_visits_count'] = df_clean['raw_visit_counts']\n",
    "            df_m['raw_visitors'] = df_clean['raw_visitor_counts']\n",
    "            df_m['visits_by_day_list'] = df_clean['visits_by_day'].apply(lambda x: ast.literal_eval(x))\n",
    "            df_m['visitor_home_cbgs'] = df_clean['visitor_home_cbgs'].apply(lambda x: x[1:-1].replace('\"','').split(',')) ### remove the first and last character, and then split by comma\n",
    "            # df_m[['cbg_list_visitor', 'num_non_ny_visitors','num_reassign_cbgs']] = df_m['visitor_home_cbgs'].apply(lambda x: mm.remove_CA_non_NY(x,11))\n",
    "            df_m['cbg_list_visitor'] = df_m['visitor_home_cbgs'].apply(lambda x: mm.remove_CA_non_NY(x,11))\n",
    "            ### there are some place only has visitors from nonNY states\n",
    "            cross_states_index = df_m[df_m['cbg_list_visitor'].apply(lambda x: len(x)) < 1].index\n",
    "            df_m = df_m.drop(cross_states_index).reset_index(drop=True)\n",
    "            #### assign the loss visitors to the known cbgs\n",
    "            df_m['assigned_cbg_list_visitor'] = df_m.apply(lambda x: mm.account_for_loss_visitors(x['cbg_list_visitor'], x['raw_visitors']),axis=1)\n",
    "\n",
    "            df_m['multiplier'] = df_m.apply(lambda x: x['raw_visits_count']/x['raw_visitors'], axis=1) ### multiplier\n",
    "            ### adjust visitors to number of visits, and then assign visits to 7 days\n",
    "            # df_m['cbg_visits_real'] = df_m.apply(lambda x: mm.assign_visits_by_raw_visitors(x['cbg_list_visitor'], x['multiplier'],my_tract),axis=1)\n",
    "            df_m['cbg_visits_real'] = df_m.apply(lambda x: mm.assign_visits_by_raw_visitors(x['assigned_cbg_list_visitor'], x['multiplier'],my_tract),axis=1)\n",
    "            #df_m['modz_visits_list'] = df_m['cbg_visits_real'].apply(lambda x: mm.distribute_visitor_modzcta(x, df_modzcta_mapping))\n",
    "            df_m['modz_visits_list'] = df_m['cbg_visits_real'].apply(lambda x: mm.map_modzcta_visitor_list(x, poi_mapping))\n",
    "            df_m['vis_daily_matrix'] = df_m.apply(lambda x: mm.find_fips_dayvisits(x['modz_visits_list'], x['visits_by_day_list'], x['raw_visits_count']),axis=1)\n",
    "            for j_data_idx in range(len(df_m)):\n",
    "                df_j = df_m.iloc[[j_data_idx]]\n",
    "                M_raw = mm.mobility_extract_per_poi(df_j, M_raw, dates_idx)\n",
    "        # mm.store_data_to_hdf5(M_raw, dates, y, m, num_cate, num_mod, filepath='../Data/mobility_cate7_1to1/M_raw_{}{}.h5')\n",
    "        # mm.store_data_to_hdf5(M_raw, dates, y, m, num_cate, num_mod, filepath='../Data/mobility_cate7_1tomore/M_raw_{}{}.h5')\n",
    "        mm.store_data_to_hdf5(M_raw, dates, y, m, num_cate, num_mod, filepath='../Data/mobility_cate7_loss_visitors/M_raw_{}{}.h5')"
   ]
  },
  {
   "cell_type": "code",
   "execution_count": null,
   "id": "d15166ce",
   "metadata": {},
   "outputs": [],
   "source": []
  }
 ],
 "metadata": {
  "kernelspec": {
   "display_name": "geo",
   "language": "python",
   "name": "python3"
  },
  "language_info": {
   "codemirror_mode": {
    "name": "ipython",
    "version": 3
   },
   "file_extension": ".py",
   "mimetype": "text/x-python",
   "name": "python",
   "nbconvert_exporter": "python",
   "pygments_lexer": "ipython3",
   "version": "3.11.8"
  }
 },
 "nbformat": 4,
 "nbformat_minor": 5
}
